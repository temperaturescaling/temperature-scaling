{
 "cells": [
  {
   "cell_type": "markdown",
   "metadata": {},
   "source": [
    "# Import Packages"
   ]
  },
  {
   "cell_type": "code",
   "execution_count": 5,
   "metadata": {},
   "outputs": [],
   "source": [
    "import torch\n",
    "import argparse\n",
    "import numpy as np\n",
    "import matplotlib.pyplot as plt\n",
    "\n",
    "import utils\n",
    "from Servers import BaseServer"
   ]
  },
  {
   "cell_type": "markdown",
   "metadata": {},
   "source": [
    "# Arguments"
   ]
  },
  {
   "cell_type": "code",
   "execution_count": 6,
   "metadata": {},
   "outputs": [],
   "source": [
    "def parse_args():\n",
    "    parser = argparse.ArgumentParser()\n",
    "    parser.add_argument('--exp_name'    , help='experiement name' , type=str     , default='Template')\n",
    "    parser.add_argument('--model'       , help='model'            , type=str     , default='MLP')\n",
    "    parser.add_argument('--dataset'     , help='dataset'          , type=str     , default='MNIST')\n",
    "    parser.add_argument('--optimizer'   , help='optimizer'        , type=str     , default='SGD')\n",
    "    parser.add_argument('--lr'          , help='learning rate'    , type=float   , default=1e-2)\n",
    "    parser.add_argument('--decay'       , help='weight decay'     , type=float   , default=1e-4)\n",
    "    parser.add_argument('--batch_size'  , help='batch size'       , type=int     , default=128)\n",
    "    parser.add_argument('--seed'        , help='random seed'      , type=int     , default=0)\n",
    "    parser.add_argument('--epoch'       , help='number of epochs' , type=int     , default=10)\n",
    "    parser.add_argument('--use_tb'      , help='use tensorboard'  , type=utils.str2bool, default=False)\n",
    "    ### FL PARAMS ###\n",
    "    parser.add_argument('--n_clients'   , help='number of clients', type=int     , default=100)\n",
    "    parser.add_argument('--rounds'      , help='number of clients', type=int     , default=100)\n",
    "    parser.add_argument('--alpha'       , help='Dirichlet alpha'  , type=float   , default=0.5)\n",
    "    parser.add_argument('--p_ratio'     , help='Participant ratio', type=float   , default=0.1)\n",
    "    parser.add_argument('--client'      , help='Client type'      , type=str     , default='NaiveClient')\n",
    "    parser.add_argument('--aggregator'  , help='Server aggregator', type=str     , default='FedAvg')\n",
    "    parser.add_argument('--T'           , help='Temperature'      , type=float   , default=1.0)\n",
    "    args = parser.parse_args([])\n",
    "    return args"
   ]
  },
  {
   "cell_type": "markdown",
   "metadata": {},
   "source": [
    "# Run Experiments"
   ]
  },
  {
   "cell_type": "code",
   "execution_count": 3,
   "metadata": {},
   "outputs": [
    {
     "name": "stdout",
     "output_type": "stream",
     "text": [
      "Experiment: Template|MLP|MNIST|SGD|0.01|0.0001|128|0|10|False|100|50|0.5|0.1|NaiveClient|FedAvg|4.0\n"
     ]
    },
    {
     "name": "stderr",
     "output_type": "stream",
     "text": [
      " 26%|██▌       | 26/100 [00:00<00:00, 251.45it/s]"
     ]
    },
    {
     "name": "stdout",
     "output_type": "stream",
     "text": [
      "Initializing 100 clients\n"
     ]
    },
    {
     "name": "stderr",
     "output_type": "stream",
     "text": [
      "100%|██████████| 100/100 [00:00<00:00, 249.93it/s]\n",
      "  0%|          | 0/50 [00:00<?, ?it/s]"
     ]
    },
    {
     "name": "stdout",
     "output_type": "stream",
     "text": [
      "Client 6   Accuracy: 3.12%\n",
      "Client 10  Accuracy: 52.13%\n",
      "Client 17  Accuracy: 9.38%\n",
      "Client 24  Accuracy: 7.41%\n",
      "Client 33  Accuracy: 26.23%\n",
      "Client 42  Accuracy: 10.00%\n",
      "Client 75  Accuracy: 48.23%\n",
      "Client 78  Accuracy: 37.56%\n",
      "Client 91  Accuracy: 8.00%\n",
      "Client 95  Accuracy: 11.76%\n"
     ]
    },
    {
     "name": "stderr",
     "output_type": "stream",
     "text": [
      "  2%|▏         | 1/50 [00:08<07:04,  8.67s/it]"
     ]
    },
    {
     "name": "stdout",
     "output_type": "stream",
     "text": [
      "ROUND:001 Global Accuracy: 4.97%\n",
      "ROUND:001     Global Loss: 2.3028\n",
      "####### ROUND 1 END #######\n",
      "\n",
      "Client 6   Accuracy: 3.12%\n",
      "Client 8   Accuracy: 31.79%\n",
      "Client 42  Accuracy: 11.67%\n",
      "Client 57  Accuracy: 0.00%\n",
      "Client 64  Accuracy: 17.29%\n",
      "Client 67  Accuracy: 43.90%\n",
      "Client 72  Accuracy: 25.00%\n",
      "Client 78  Accuracy: 37.56%\n",
      "Client 81  Accuracy: 33.01%\n",
      "Client 93  Accuracy: 7.55%\n"
     ]
    },
    {
     "name": "stderr",
     "output_type": "stream",
     "text": [
      "  4%|▍         | 2/50 [00:14<05:34,  6.97s/it]"
     ]
    },
    {
     "name": "stdout",
     "output_type": "stream",
     "text": [
      "ROUND:002 Global Accuracy: 9.03%\n",
      "ROUND:002     Global Loss: 2.3019\n",
      "####### ROUND 2 END #######\n",
      "\n",
      "Client 3   Accuracy: 36.51%\n",
      "Client 19  Accuracy: 8.11%\n",
      "Client 24  Accuracy: 16.67%\n",
      "Client 31  Accuracy: 58.54%\n",
      "Client 46  Accuracy: 29.31%\n",
      "Client 50  Accuracy: 55.65%\n",
      "Client 70  Accuracy: 72.73%\n",
      "Client 75  Accuracy: 48.94%\n",
      "Client 90  Accuracy: 14.43%\n",
      "Client 96  Accuracy: 16.56%\n"
     ]
    },
    {
     "name": "stderr",
     "output_type": "stream",
     "text": [
      "  6%|▌         | 3/50 [00:20<05:14,  6.70s/it]"
     ]
    },
    {
     "name": "stdout",
     "output_type": "stream",
     "text": [
      "ROUND:003 Global Accuracy: 9.47%\n",
      "ROUND:003     Global Loss: 2.3008\n",
      "####### ROUND 3 END #######\n",
      "\n",
      "Client 9   Accuracy: 48.63%\n",
      "Client 22  Accuracy: 3.28%\n",
      "Client 27  Accuracy: 6.12%\n",
      "Client 41  Accuracy: 12.50%\n",
      "Client 42  Accuracy: 15.00%\n",
      "Client 44  Accuracy: 14.58%\n",
      "Client 56  Accuracy: 34.67%\n",
      "Client 59  Accuracy: 22.03%\n",
      "Client 61  Accuracy: 45.90%\n",
      "Client 70  Accuracy: 72.73%\n"
     ]
    },
    {
     "name": "stderr",
     "output_type": "stream",
     "text": [
      "  8%|▊         | 4/50 [00:25<04:28,  5.84s/it]"
     ]
    },
    {
     "name": "stdout",
     "output_type": "stream",
     "text": [
      "ROUND:004 Global Accuracy: 14.26%\n",
      "ROUND:004     Global Loss: 2.3001\n",
      "####### ROUND 4 END #######\n",
      "\n",
      "Client 13  Accuracy: 60.71%\n",
      "Client 18  Accuracy: 50.57%\n",
      "Client 20  Accuracy: 34.93%\n",
      "Client 31  Accuracy: 58.54%\n",
      "Client 39  Accuracy: 27.17%\n",
      "Client 42  Accuracy: 23.33%\n",
      "Client 58  Accuracy: 40.24%\n",
      "Client 77  Accuracy: 26.23%\n",
      "Client 78  Accuracy: 42.25%\n",
      "Client 82  Accuracy: 59.55%\n"
     ]
    },
    {
     "name": "stderr",
     "output_type": "stream",
     "text": [
      " 10%|█         | 5/50 [00:32<04:41,  6.26s/it]"
     ]
    },
    {
     "name": "stdout",
     "output_type": "stream",
     "text": [
      "ROUND:005 Global Accuracy: 22.66%\n",
      "ROUND:005     Global Loss: 2.2988\n",
      "####### ROUND 5 END #######\n",
      "\n",
      "Client 11  Accuracy: 13.33%\n",
      "Client 19  Accuracy: 8.11%\n",
      "Client 24  Accuracy: 29.63%\n",
      "Client 32  Accuracy: 36.68%\n",
      "Client 33  Accuracy: 40.16%\n",
      "Client 46  Accuracy: 40.52%\n",
      "Client 61  Accuracy: 47.54%\n",
      "Client 66  Accuracy: 25.77%\n",
      "Client 82  Accuracy: 55.06%\n",
      "Client 99  Accuracy: 57.41%\n"
     ]
    },
    {
     "name": "stderr",
     "output_type": "stream",
     "text": [
      " 12%|█▏        | 6/50 [00:38<04:27,  6.09s/it]"
     ]
    },
    {
     "name": "stdout",
     "output_type": "stream",
     "text": [
      "ROUND:006 Global Accuracy: 22.99%\n",
      "ROUND:006     Global Loss: 2.2977\n",
      "####### ROUND 6 END #######\n",
      "\n",
      "Client 12  Accuracy: 11.90%\n",
      "Client 16  Accuracy: 60.53%\n",
      "Client 39  Accuracy: 28.26%\n",
      "Client 42  Accuracy: 26.67%\n",
      "Client 47  Accuracy: 29.33%\n",
      "Client 60  Accuracy: 59.00%\n",
      "Client 69  Accuracy: 56.14%\n",
      "Client 70  Accuracy: 72.73%\n",
      "Client 94  Accuracy: 30.43%\n",
      "Client 99  Accuracy: 57.41%\n"
     ]
    },
    {
     "name": "stderr",
     "output_type": "stream",
     "text": [
      " 14%|█▍        | 7/50 [00:43<04:05,  5.71s/it]"
     ]
    },
    {
     "name": "stdout",
     "output_type": "stream",
     "text": [
      "ROUND:007 Global Accuracy: 19.07%\n",
      "ROUND:007     Global Loss: 2.2969\n",
      "####### ROUND 7 END #######\n",
      "\n",
      "Client 2   Accuracy: 43.36%\n",
      "Client 12  Accuracy: 9.52%\n",
      "Client 19  Accuracy: 8.11%\n",
      "Client 47  Accuracy: 29.33%\n",
      "Client 55  Accuracy: 34.69%\n",
      "Client 69  Accuracy: 56.14%\n",
      "Client 75  Accuracy: 48.23%\n",
      "Client 79  Accuracy: 13.64%\n",
      "Client 97  Accuracy: 28.92%\n",
      "Client 99  Accuracy: 57.41%\n"
     ]
    },
    {
     "name": "stderr",
     "output_type": "stream",
     "text": [
      " 16%|█▌        | 8/50 [00:48<03:57,  5.65s/it]"
     ]
    },
    {
     "name": "stdout",
     "output_type": "stream",
     "text": [
      "ROUND:008 Global Accuracy: 21.92%\n",
      "ROUND:008     Global Loss: 2.2957\n",
      "####### ROUND 8 END #######\n",
      "\n",
      "Client 3   Accuracy: 38.89%\n",
      "Client 6   Accuracy: 20.31%\n",
      "Client 51  Accuracy: 36.36%\n",
      "Client 57  Accuracy: 12.50%\n",
      "Client 61  Accuracy: 50.82%\n",
      "Client 69  Accuracy: 59.65%\n",
      "Client 71  Accuracy: 29.75%\n",
      "Client 85  Accuracy: 10.71%\n",
      "Client 93  Accuracy: 28.30%\n",
      "Client 98  Accuracy: 31.25%\n"
     ]
    },
    {
     "name": "stderr",
     "output_type": "stream",
     "text": [
      " 18%|█▊        | 9/50 [00:53<03:38,  5.32s/it]"
     ]
    },
    {
     "name": "stdout",
     "output_type": "stream",
     "text": [
      "ROUND:009 Global Accuracy: 20.37%\n",
      "ROUND:009     Global Loss: 2.2948\n",
      "####### ROUND 9 END #######\n",
      "\n",
      "Client 5   Accuracy: 11.76%\n",
      "Client 9   Accuracy: 49.32%\n",
      "Client 15  Accuracy: 40.38%\n",
      "Client 22  Accuracy: 8.20%\n",
      "Client 55  Accuracy: 34.69%\n",
      "Client 70  Accuracy: 72.73%\n",
      "Client 79  Accuracy: 22.73%\n",
      "Client 88  Accuracy: 12.82%\n",
      "Client 91  Accuracy: 36.00%\n",
      "Client 93  Accuracy: 28.30%\n"
     ]
    },
    {
     "name": "stderr",
     "output_type": "stream",
     "text": [
      " 20%|██        | 10/50 [00:57<03:25,  5.13s/it]"
     ]
    },
    {
     "name": "stdout",
     "output_type": "stream",
     "text": [
      "ROUND:010 Global Accuracy: 21.93%\n",
      "ROUND:010     Global Loss: 2.2937\n",
      "####### ROUND 10 END #######\n",
      "\n",
      "Client 13  Accuracy: 60.71%\n",
      "Client 15  Accuracy: 28.85%\n",
      "Client 17  Accuracy: 23.44%\n",
      "Client 18  Accuracy: 50.57%\n",
      "Client 35  Accuracy: 25.29%\n",
      "Client 39  Accuracy: 43.48%\n",
      "Client 50  Accuracy: 56.52%\n",
      "Client 52  Accuracy: 49.75%\n",
      "Client 78  Accuracy: 42.72%\n",
      "Client 80  Accuracy: 12.77%\n"
     ]
    },
    {
     "name": "stderr",
     "output_type": "stream",
     "text": [
      " 22%|██▏       | 11/50 [01:04<03:33,  5.47s/it]"
     ]
    },
    {
     "name": "stdout",
     "output_type": "stream",
     "text": [
      "ROUND:011 Global Accuracy: 29.16%\n",
      "ROUND:011     Global Loss: 2.2921\n",
      "####### ROUND 11 END #######\n",
      "\n",
      "Client 4   Accuracy: 43.90%\n",
      "Client 15  Accuracy: 44.23%\n",
      "Client 41  Accuracy: 19.64%\n",
      "Client 62  Accuracy: 28.95%\n",
      "Client 66  Accuracy: 32.99%\n",
      "Client 73  Accuracy: 35.90%\n",
      "Client 76  Accuracy: 6.85%\n",
      "Client 81  Accuracy: 34.95%\n",
      "Client 85  Accuracy: 28.57%\n",
      "Client 94  Accuracy: 32.61%\n"
     ]
    },
    {
     "name": "stderr",
     "output_type": "stream",
     "text": [
      " 24%|██▍       | 12/50 [01:08<03:13,  5.10s/it]"
     ]
    },
    {
     "name": "stdout",
     "output_type": "stream",
     "text": [
      "ROUND:012 Global Accuracy: 30.22%\n",
      "ROUND:012     Global Loss: 2.2911\n",
      "####### ROUND 12 END #######\n",
      "\n",
      "Client 25  Accuracy: 34.48%\n",
      "Client 26  Accuracy: 46.03%\n",
      "Client 33  Accuracy: 42.62%\n",
      "Client 36  Accuracy: 77.23%\n",
      "Client 38  Accuracy: 43.04%\n",
      "Client 49  Accuracy: 35.90%\n",
      "Client 75  Accuracy: 47.52%\n",
      "Client 78  Accuracy: 39.44%\n",
      "Client 85  Accuracy: 28.57%\n",
      "Client 97  Accuracy: 40.96%\n"
     ]
    },
    {
     "name": "stderr",
     "output_type": "stream",
     "text": [
      " 26%|██▌       | 13/50 [01:14<03:19,  5.39s/it]"
     ]
    },
    {
     "name": "stdout",
     "output_type": "stream",
     "text": [
      "ROUND:013 Global Accuracy: 34.87%\n",
      "ROUND:013     Global Loss: 2.2894\n",
      "####### ROUND 13 END #######\n",
      "\n",
      "Client 4   Accuracy: 53.66%\n",
      "Client 6   Accuracy: 42.19%\n",
      "Client 12  Accuracy: 19.05%\n",
      "Client 36  Accuracy: 79.21%\n",
      "Client 39  Accuracy: 40.22%\n",
      "Client 48  Accuracy: 55.81%\n",
      "Client 55  Accuracy: 34.01%\n",
      "Client 60  Accuracy: 70.00%\n",
      "Client 61  Accuracy: 60.66%\n",
      "Client 83  Accuracy: 37.50%\n"
     ]
    },
    {
     "name": "stderr",
     "output_type": "stream",
     "text": [
      " 28%|██▊       | 14/50 [01:19<03:07,  5.21s/it]"
     ]
    },
    {
     "name": "stdout",
     "output_type": "stream",
     "text": [
      "ROUND:014 Global Accuracy: 32.92%\n",
      "ROUND:014     Global Loss: 2.2881\n",
      "####### ROUND 14 END #######\n",
      "\n",
      "Client 2   Accuracy: 63.72%\n",
      "Client 6   Accuracy: 42.19%\n",
      "Client 13  Accuracy: 61.43%\n",
      "Client 14  Accuracy: 22.92%\n",
      "Client 18  Accuracy: 54.02%\n",
      "Client 22  Accuracy: 13.11%\n",
      "Client 41  Accuracy: 23.21%\n",
      "Client 47  Accuracy: 33.33%\n",
      "Client 82  Accuracy: 44.94%\n",
      "Client 87  Accuracy: 57.79%\n"
     ]
    },
    {
     "name": "stderr",
     "output_type": "stream",
     "text": [
      " 30%|███       | 15/50 [01:24<03:03,  5.25s/it]"
     ]
    },
    {
     "name": "stdout",
     "output_type": "stream",
     "text": [
      "ROUND:015 Global Accuracy: 32.99%\n",
      "ROUND:015     Global Loss: 2.2863\n",
      "####### ROUND 15 END #######\n",
      "\n",
      "Client 0   Accuracy: 27.14%\n",
      "Client 16  Accuracy: 59.65%\n",
      "Client 32  Accuracy: 43.72%\n",
      "Client 36  Accuracy: 81.19%\n",
      "Client 37  Accuracy: 62.35%\n",
      "Client 68  Accuracy: 26.39%\n",
      "Client 70  Accuracy: 75.76%\n",
      "Client 78  Accuracy: 40.38%\n",
      "Client 87  Accuracy: 61.69%\n",
      "Client 96  Accuracy: 48.47%\n"
     ]
    },
    {
     "name": "stderr",
     "output_type": "stream",
     "text": [
      " 32%|███▏      | 16/50 [01:31<03:15,  5.76s/it]"
     ]
    },
    {
     "name": "stdout",
     "output_type": "stream",
     "text": [
      "ROUND:016 Global Accuracy: 36.47%\n",
      "ROUND:016     Global Loss: 2.2841\n",
      "####### ROUND 16 END #######\n",
      "\n",
      "Client 3   Accuracy: 54.76%\n",
      "Client 13  Accuracy: 61.43%\n",
      "Client 35  Accuracy: 26.44%\n",
      "Client 38  Accuracy: 43.67%\n",
      "Client 48  Accuracy: 55.81%\n",
      "Client 51  Accuracy: 45.45%\n",
      "Client 55  Accuracy: 34.01%\n",
      "Client 56  Accuracy: 41.33%\n",
      "Client 61  Accuracy: 70.49%\n",
      "Client 68  Accuracy: 23.61%\n"
     ]
    },
    {
     "name": "stderr",
     "output_type": "stream",
     "text": [
      " 34%|███▍      | 17/50 [01:37<03:11,  5.79s/it]"
     ]
    },
    {
     "name": "stdout",
     "output_type": "stream",
     "text": [
      "ROUND:017 Global Accuracy: 38.24%\n",
      "ROUND:017     Global Loss: 2.2818\n",
      "####### ROUND 17 END #######\n",
      "\n",
      "Client 1   Accuracy: 25.68%\n",
      "Client 33  Accuracy: 48.36%\n",
      "Client 38  Accuracy: 42.41%\n",
      "Client 45  Accuracy: 35.62%\n",
      "Client 69  Accuracy: 62.28%\n",
      "Client 71  Accuracy: 51.24%\n",
      "Client 74  Accuracy: 50.00%\n",
      "Client 85  Accuracy: 53.57%\n",
      "Client 86  Accuracy: 33.71%\n",
      "Client 95  Accuracy: 42.35%\n"
     ]
    },
    {
     "name": "stderr",
     "output_type": "stream",
     "text": [
      " 36%|███▌      | 18/50 [01:42<03:03,  5.73s/it]"
     ]
    },
    {
     "name": "stdout",
     "output_type": "stream",
     "text": [
      "ROUND:018 Global Accuracy: 41.37%\n",
      "ROUND:018     Global Loss: 2.2796\n",
      "####### ROUND 18 END #######\n",
      "\n",
      "Client 4   Accuracy: 58.54%\n",
      "Client 7   Accuracy: 45.35%\n",
      "Client 34  Accuracy: 56.64%\n",
      "Client 38  Accuracy: 42.41%\n",
      "Client 58  Accuracy: 48.78%\n",
      "Client 63  Accuracy: 60.95%\n",
      "Client 64  Accuracy: 45.11%\n",
      "Client 81  Accuracy: 68.93%\n",
      "Client 85  Accuracy: 53.57%\n",
      "Client 97  Accuracy: 49.40%\n"
     ]
    },
    {
     "name": "stderr",
     "output_type": "stream",
     "text": [
      " 38%|███▊      | 19/50 [01:48<02:57,  5.74s/it]"
     ]
    },
    {
     "name": "stdout",
     "output_type": "stream",
     "text": [
      "ROUND:019 Global Accuracy: 40.17%\n",
      "ROUND:019     Global Loss: 2.2771\n",
      "####### ROUND 19 END #######\n",
      "\n",
      "Client 12  Accuracy: 23.81%\n",
      "Client 20  Accuracy: 59.81%\n",
      "Client 29  Accuracy: 58.10%\n",
      "Client 31  Accuracy: 73.98%\n",
      "Client 37  Accuracy: 56.47%\n",
      "Client 48  Accuracy: 46.51%\n",
      "Client 67  Accuracy: 68.29%\n",
      "Client 68  Accuracy: 36.11%\n",
      "Client 78  Accuracy: 38.97%\n",
      "Client 81  Accuracy: 64.08%\n"
     ]
    },
    {
     "name": "stderr",
     "output_type": "stream",
     "text": [
      " 40%|████      | 20/50 [01:54<02:55,  5.84s/it]"
     ]
    },
    {
     "name": "stdout",
     "output_type": "stream",
     "text": [
      "ROUND:020 Global Accuracy: 40.52%\n",
      "ROUND:020     Global Loss: 2.2741\n",
      "####### ROUND 20 END #######\n",
      "\n",
      "Client 6   Accuracy: 43.75%\n",
      "Client 8   Accuracy: 45.03%\n",
      "Client 16  Accuracy: 60.53%\n",
      "Client 18  Accuracy: 60.92%\n",
      "Client 36  Accuracy: 82.18%\n",
      "Client 57  Accuracy: 35.00%\n",
      "Client 66  Accuracy: 57.73%\n",
      "Client 68  Accuracy: 36.11%\n",
      "Client 88  Accuracy: 48.72%\n",
      "Client 95  Accuracy: 50.59%\n"
     ]
    },
    {
     "name": "stderr",
     "output_type": "stream",
     "text": [
      " 42%|████▏     | 21/50 [01:59<02:43,  5.62s/it]"
     ]
    },
    {
     "name": "stdout",
     "output_type": "stream",
     "text": [
      "ROUND:021 Global Accuracy: 41.65%\n",
      "ROUND:021     Global Loss: 2.2715\n",
      "####### ROUND 21 END #######\n",
      "\n",
      "Client 14  Accuracy: 58.33%\n",
      "Client 30  Accuracy: 67.50%\n",
      "Client 37  Accuracy: 52.94%\n",
      "Client 44  Accuracy: 66.67%\n",
      "Client 45  Accuracy: 36.99%\n",
      "Client 47  Accuracy: 50.67%\n",
      "Client 49  Accuracy: 41.03%\n",
      "Client 55  Accuracy: 34.69%\n",
      "Client 64  Accuracy: 50.38%\n",
      "Client 91  Accuracy: 46.67%\n"
     ]
    },
    {
     "name": "stderr",
     "output_type": "stream",
     "text": [
      " 44%|████▍     | 22/50 [02:04<02:30,  5.39s/it]"
     ]
    },
    {
     "name": "stdout",
     "output_type": "stream",
     "text": [
      "ROUND:022 Global Accuracy: 43.82%\n",
      "ROUND:022     Global Loss: 2.2686\n",
      "####### ROUND 22 END #######\n",
      "\n",
      "Client 6   Accuracy: 45.31%\n",
      "Client 7   Accuracy: 50.00%\n",
      "Client 26  Accuracy: 57.14%\n",
      "Client 38  Accuracy: 42.41%\n",
      "Client 43  Accuracy: 62.03%\n",
      "Client 44  Accuracy: 66.67%\n",
      "Client 72  Accuracy: 51.25%\n",
      "Client 73  Accuracy: 45.30%\n",
      "Client 78  Accuracy: 38.03%\n",
      "Client 89  Accuracy: 56.34%\n"
     ]
    },
    {
     "name": "stderr",
     "output_type": "stream",
     "text": [
      " 46%|████▌     | 23/50 [02:11<02:38,  5.87s/it]"
     ]
    },
    {
     "name": "stdout",
     "output_type": "stream",
     "text": [
      "ROUND:023 Global Accuracy: 44.54%\n",
      "ROUND:023     Global Loss: 2.2648\n",
      "####### ROUND 23 END #######\n",
      "\n",
      "Client 3   Accuracy: 66.67%\n",
      "Client 4   Accuracy: 60.98%\n",
      "Client 16  Accuracy: 59.65%\n",
      "Client 18  Accuracy: 58.62%\n",
      "Client 21  Accuracy: 46.84%\n",
      "Client 31  Accuracy: 72.36%\n",
      "Client 47  Accuracy: 48.00%\n",
      "Client 71  Accuracy: 52.07%\n",
      "Client 84  Accuracy: 58.82%\n",
      "Client 87  Accuracy: 74.03%\n"
     ]
    },
    {
     "name": "stderr",
     "output_type": "stream",
     "text": [
      " 48%|████▊     | 24/50 [02:18<02:38,  6.11s/it]"
     ]
    },
    {
     "name": "stdout",
     "output_type": "stream",
     "text": [
      "ROUND:024 Global Accuracy: 46.29%\n",
      "ROUND:024     Global Loss: 2.2604\n",
      "####### ROUND 24 END #######\n",
      "\n",
      "Client 0   Accuracy: 30.00%\n",
      "Client 2   Accuracy: 67.26%\n",
      "Client 3   Accuracy: 67.46%\n",
      "Client 12  Accuracy: 28.57%\n",
      "Client 36  Accuracy: 78.22%\n",
      "Client 39  Accuracy: 53.26%\n",
      "Client 44  Accuracy: 66.67%\n",
      "Client 46  Accuracy: 50.00%\n",
      "Client 77  Accuracy: 62.30%\n",
      "Client 98  Accuracy: 66.25%\n"
     ]
    },
    {
     "name": "stderr",
     "output_type": "stream",
     "text": [
      " 50%|█████     | 25/50 [02:23<02:24,  5.78s/it]"
     ]
    },
    {
     "name": "stdout",
     "output_type": "stream",
     "text": [
      "ROUND:025 Global Accuracy: 46.81%\n",
      "ROUND:025     Global Loss: 2.2573\n",
      "####### ROUND 25 END #######\n",
      "\n",
      "Client 18  Accuracy: 58.62%\n",
      "Client 32  Accuracy: 58.29%\n",
      "Client 42  Accuracy: 65.00%\n",
      "Client 53  Accuracy: 26.13%\n",
      "Client 58  Accuracy: 50.00%\n",
      "Client 59  Accuracy: 35.59%\n",
      "Client 70  Accuracy: 81.82%\n",
      "Client 74  Accuracy: 57.32%\n",
      "Client 76  Accuracy: 20.55%\n",
      "Client 97  Accuracy: 48.19%\n"
     ]
    },
    {
     "name": "stderr",
     "output_type": "stream",
     "text": [
      " 52%|█████▏    | 26/50 [02:28<02:15,  5.65s/it]"
     ]
    },
    {
     "name": "stdout",
     "output_type": "stream",
     "text": [
      "ROUND:026 Global Accuracy: 45.46%\n",
      "ROUND:026     Global Loss: 2.2530\n",
      "####### ROUND 26 END #######\n",
      "\n",
      "Client 0   Accuracy: 28.57%\n",
      "Client 16  Accuracy: 59.65%\n",
      "Client 45  Accuracy: 34.25%\n",
      "Client 46  Accuracy: 59.48%\n",
      "Client 51  Accuracy: 41.82%\n",
      "Client 60  Accuracy: 76.00%\n",
      "Client 63  Accuracy: 73.33%\n",
      "Client 74  Accuracy: 57.32%\n",
      "Client 97  Accuracy: 49.40%\n",
      "Client 99  Accuracy: 72.22%\n"
     ]
    },
    {
     "name": "stderr",
     "output_type": "stream",
     "text": [
      " 54%|█████▍    | 27/50 [02:34<02:07,  5.55s/it]"
     ]
    },
    {
     "name": "stdout",
     "output_type": "stream",
     "text": [
      "ROUND:027 Global Accuracy: 49.11%\n",
      "ROUND:027     Global Loss: 2.2484\n",
      "####### ROUND 27 END #######\n",
      "\n",
      "Client 14  Accuracy: 58.33%\n",
      "Client 16  Accuracy: 59.65%\n",
      "Client 18  Accuracy: 58.62%\n",
      "Client 41  Accuracy: 50.00%\n",
      "Client 49  Accuracy: 53.85%\n",
      "Client 63  Accuracy: 75.24%\n",
      "Client 70  Accuracy: 78.79%\n",
      "Client 76  Accuracy: 20.55%\n",
      "Client 85  Accuracy: 67.86%\n",
      "Client 86  Accuracy: 51.69%\n"
     ]
    },
    {
     "name": "stderr",
     "output_type": "stream",
     "text": [
      " 56%|█████▌    | 28/50 [02:38<01:53,  5.17s/it]"
     ]
    },
    {
     "name": "stdout",
     "output_type": "stream",
     "text": [
      "ROUND:028 Global Accuracy: 47.24%\n",
      "ROUND:028     Global Loss: 2.2445\n",
      "####### ROUND 28 END #######\n",
      "\n",
      "Client 0   Accuracy: 27.14%\n",
      "Client 7   Accuracy: 50.00%\n",
      "Client 10  Accuracy: 52.13%\n",
      "Client 36  Accuracy: 80.20%\n",
      "Client 41  Accuracy: 41.07%\n",
      "Client 47  Accuracy: 53.33%\n",
      "Client 51  Accuracy: 47.27%\n",
      "Client 83  Accuracy: 52.27%\n",
      "Client 85  Accuracy: 60.71%\n",
      "Client 86  Accuracy: 46.07%\n"
     ]
    },
    {
     "name": "stderr",
     "output_type": "stream",
     "text": [
      " 58%|█████▊    | 29/50 [02:42<01:44,  4.99s/it]"
     ]
    },
    {
     "name": "stdout",
     "output_type": "stream",
     "text": [
      "ROUND:029 Global Accuracy: 39.07%\n",
      "ROUND:029     Global Loss: 2.2406\n",
      "####### ROUND 29 END #######\n",
      "\n",
      "Client 4   Accuracy: 63.41%\n",
      "Client 5   Accuracy: 29.41%\n",
      "Client 11  Accuracy: 37.78%\n",
      "Client 14  Accuracy: 47.92%\n",
      "Client 46  Accuracy: 69.83%\n",
      "Client 67  Accuracy: 63.41%\n",
      "Client 69  Accuracy: 49.12%\n",
      "Client 91  Accuracy: 64.00%\n",
      "Client 93  Accuracy: 33.96%\n",
      "Client 98  Accuracy: 52.50%\n"
     ]
    },
    {
     "name": "stderr",
     "output_type": "stream",
     "text": [
      " 60%|██████    | 30/50 [02:47<01:34,  4.74s/it]"
     ]
    },
    {
     "name": "stdout",
     "output_type": "stream",
     "text": [
      "ROUND:030 Global Accuracy: 43.98%\n",
      "ROUND:030     Global Loss: 2.2367\n",
      "####### ROUND 30 END #######\n",
      "\n",
      "Client 5   Accuracy: 25.00%\n",
      "Client 28  Accuracy: 50.00%\n",
      "Client 43  Accuracy: 65.82%\n",
      "Client 44  Accuracy: 60.42%\n",
      "Client 65  Accuracy: 71.15%\n",
      "Client 73  Accuracy: 66.67%\n",
      "Client 83  Accuracy: 56.82%\n",
      "Client 92  Accuracy: 51.52%\n",
      "Client 95  Accuracy: 58.82%\n",
      "Client 98  Accuracy: 57.50%\n"
     ]
    },
    {
     "name": "stderr",
     "output_type": "stream",
     "text": [
      " 62%|██████▏   | 31/50 [02:51<01:30,  4.78s/it]"
     ]
    },
    {
     "name": "stdout",
     "output_type": "stream",
     "text": [
      "ROUND:031 Global Accuracy: 45.45%\n",
      "ROUND:031     Global Loss: 2.2311\n",
      "####### ROUND 31 END #######\n",
      "\n",
      "Client 18  Accuracy: 64.37%\n",
      "Client 21  Accuracy: 59.49%\n",
      "Client 27  Accuracy: 34.69%\n",
      "Client 28  Accuracy: 50.00%\n",
      "Client 52  Accuracy: 44.22%\n",
      "Client 53  Accuracy: 28.83%\n",
      "Client 57  Accuracy: 37.50%\n",
      "Client 59  Accuracy: 38.98%\n",
      "Client 88  Accuracy: 51.28%\n",
      "Client 97  Accuracy: 59.04%\n"
     ]
    },
    {
     "name": "stderr",
     "output_type": "stream",
     "text": [
      " 64%|██████▍   | 32/50 [02:56<01:27,  4.85s/it]"
     ]
    },
    {
     "name": "stdout",
     "output_type": "stream",
     "text": [
      "ROUND:032 Global Accuracy: 28.18%\n",
      "ROUND:032     Global Loss: 2.2243\n",
      "####### ROUND 32 END #######\n",
      "\n",
      "Client 14  Accuracy: 45.83%\n",
      "Client 38  Accuracy: 43.04%\n",
      "Client 45  Accuracy: 32.88%\n",
      "Client 48  Accuracy: 37.21%\n",
      "Client 50  Accuracy: 62.61%\n",
      "Client 55  Accuracy: 35.37%\n",
      "Client 62  Accuracy: 46.05%\n",
      "Client 75  Accuracy: 47.52%\n",
      "Client 76  Accuracy: 13.70%\n",
      "Client 86  Accuracy: 34.83%\n"
     ]
    },
    {
     "name": "stderr",
     "output_type": "stream",
     "text": [
      " 66%|██████▌   | 33/50 [03:02<01:26,  5.09s/it]"
     ]
    },
    {
     "name": "stdout",
     "output_type": "stream",
     "text": [
      "ROUND:033 Global Accuracy: 25.86%\n",
      "ROUND:033     Global Loss: 2.2141\n",
      "####### ROUND 33 END #######\n",
      "\n",
      "Client 26  Accuracy: 41.27%\n",
      "Client 32  Accuracy: 51.76%\n",
      "Client 35  Accuracy: 31.03%\n",
      "Client 42  Accuracy: 53.33%\n",
      "Client 46  Accuracy: 63.79%\n",
      "Client 47  Accuracy: 40.00%\n",
      "Client 65  Accuracy: 62.50%\n",
      "Client 79  Accuracy: 30.30%\n",
      "Client 87  Accuracy: 74.03%\n",
      "Client 94  Accuracy: 30.43%\n"
     ]
    },
    {
     "name": "stderr",
     "output_type": "stream",
     "text": [
      " 68%|██████▊   | 34/50 [03:08<01:24,  5.26s/it]"
     ]
    },
    {
     "name": "stdout",
     "output_type": "stream",
     "text": [
      "ROUND:034 Global Accuracy: 36.73%\n",
      "ROUND:034     Global Loss: 2.2058\n",
      "####### ROUND 34 END #######\n",
      "\n",
      "Client 0   Accuracy: 32.86%\n",
      "Client 6   Accuracy: 51.56%\n",
      "Client 13  Accuracy: 60.71%\n",
      "Client 19  Accuracy: 37.84%\n",
      "Client 52  Accuracy: 44.22%\n",
      "Client 58  Accuracy: 60.98%\n",
      "Client 69  Accuracy: 43.86%\n",
      "Client 75  Accuracy: 47.52%\n",
      "Client 90  Accuracy: 62.89%\n",
      "Client 98  Accuracy: 48.75%\n"
     ]
    },
    {
     "name": "stderr",
     "output_type": "stream",
     "text": [
      " 70%|███████   | 35/50 [03:14<01:22,  5.51s/it]"
     ]
    },
    {
     "name": "stdout",
     "output_type": "stream",
     "text": [
      "ROUND:035 Global Accuracy: 31.43%\n",
      "ROUND:035     Global Loss: 2.1927\n",
      "####### ROUND 35 END #######\n",
      "\n",
      "Client 18  Accuracy: 55.17%\n",
      "Client 23  Accuracy: 77.21%\n",
      "Client 26  Accuracy: 42.86%\n",
      "Client 30  Accuracy: 52.50%\n",
      "Client 42  Accuracy: 61.67%\n",
      "Client 44  Accuracy: 50.00%\n",
      "Client 47  Accuracy: 40.00%\n",
      "Client 49  Accuracy: 43.59%\n",
      "Client 63  Accuracy: 58.10%\n",
      "Client 79  Accuracy: 39.39%\n"
     ]
    },
    {
     "name": "stderr",
     "output_type": "stream",
     "text": [
      " 72%|███████▏  | 36/50 [03:18<01:12,  5.20s/it]"
     ]
    },
    {
     "name": "stdout",
     "output_type": "stream",
     "text": [
      "ROUND:036 Global Accuracy: 31.59%\n",
      "ROUND:036     Global Loss: 2.1833\n",
      "####### ROUND 36 END #######\n",
      "\n",
      "Client 14  Accuracy: 45.83%\n",
      "Client 29  Accuracy: 56.19%\n",
      "Client 30  Accuracy: 52.50%\n",
      "Client 38  Accuracy: 42.41%\n",
      "Client 40  Accuracy: 51.89%\n",
      "Client 55  Accuracy: 34.01%\n",
      "Client 65  Accuracy: 65.38%\n",
      "Client 77  Accuracy: 49.18%\n",
      "Client 87  Accuracy: 75.97%\n",
      "Client 93  Accuracy: 24.53%\n"
     ]
    },
    {
     "name": "stderr",
     "output_type": "stream",
     "text": [
      " 74%|███████▍  | 37/50 [03:24<01:09,  5.36s/it]"
     ]
    },
    {
     "name": "stdout",
     "output_type": "stream",
     "text": [
      "ROUND:037 Global Accuracy: 37.52%\n",
      "ROUND:037     Global Loss: 2.1689\n",
      "####### ROUND 37 END #######\n",
      "\n",
      "Client 15  Accuracy: 46.15%\n",
      "Client 29  Accuracy: 60.00%\n",
      "Client 36  Accuracy: 76.24%\n",
      "Client 38  Accuracy: 42.41%\n",
      "Client 42  Accuracy: 63.33%\n",
      "Client 51  Accuracy: 38.18%\n",
      "Client 52  Accuracy: 45.23%\n",
      "Client 69  Accuracy: 41.23%\n",
      "Client 74  Accuracy: 62.20%\n",
      "Client 87  Accuracy: 74.68%\n"
     ]
    },
    {
     "name": "stderr",
     "output_type": "stream",
     "text": [
      " 76%|███████▌  | 38/50 [03:30<01:07,  5.64s/it]"
     ]
    },
    {
     "name": "stdout",
     "output_type": "stream",
     "text": [
      "ROUND:038 Global Accuracy: 38.56%\n",
      "ROUND:038     Global Loss: 2.1529\n",
      "####### ROUND 38 END #######\n",
      "\n",
      "Client 5   Accuracy: 36.76%\n",
      "Client 7   Accuracy: 43.02%\n",
      "Client 32  Accuracy: 57.29%\n",
      "Client 52  Accuracy: 44.72%\n",
      "Client 54  Accuracy: 29.03%\n",
      "Client 73  Accuracy: 58.12%\n",
      "Client 74  Accuracy: 68.29%\n",
      "Client 77  Accuracy: 50.82%\n",
      "Client 89  Accuracy: 43.66%\n",
      "Client 90  Accuracy: 72.16%\n"
     ]
    },
    {
     "name": "stderr",
     "output_type": "stream",
     "text": [
      " 78%|███████▊  | 39/50 [03:36<01:03,  5.73s/it]"
     ]
    },
    {
     "name": "stdout",
     "output_type": "stream",
     "text": [
      "ROUND:039 Global Accuracy: 30.39%\n",
      "ROUND:039     Global Loss: 2.1361\n",
      "####### ROUND 39 END #######\n",
      "\n",
      "Client 0   Accuracy: 52.86%\n",
      "Client 3   Accuracy: 69.05%\n",
      "Client 7   Accuracy: 39.53%\n",
      "Client 9   Accuracy: 50.00%\n",
      "Client 27  Accuracy: 28.57%\n",
      "Client 31  Accuracy: 62.60%\n",
      "Client 38  Accuracy: 42.41%\n",
      "Client 43  Accuracy: 44.30%\n",
      "Client 54  Accuracy: 35.48%\n",
      "Client 95  Accuracy: 45.88%\n"
     ]
    },
    {
     "name": "stderr",
     "output_type": "stream",
     "text": [
      " 80%|████████  | 40/50 [03:42<00:57,  5.78s/it]"
     ]
    },
    {
     "name": "stdout",
     "output_type": "stream",
     "text": [
      "ROUND:040 Global Accuracy: 35.80%\n",
      "ROUND:040     Global Loss: 2.1149\n",
      "####### ROUND 40 END #######\n",
      "\n",
      "Client 8   Accuracy: 53.64%\n",
      "Client 22  Accuracy: 60.66%\n",
      "Client 34  Accuracy: 81.12%\n",
      "Client 54  Accuracy: 29.03%\n",
      "Client 58  Accuracy: 52.44%\n",
      "Client 68  Accuracy: 37.50%\n",
      "Client 73  Accuracy: 58.97%\n",
      "Client 76  Accuracy: 30.14%\n",
      "Client 91  Accuracy: 41.33%\n",
      "Client 94  Accuracy: 39.13%\n"
     ]
    },
    {
     "name": "stderr",
     "output_type": "stream",
     "text": [
      " 82%|████████▏ | 41/50 [03:47<00:50,  5.61s/it]"
     ]
    },
    {
     "name": "stdout",
     "output_type": "stream",
     "text": [
      "ROUND:041 Global Accuracy: 42.72%\n",
      "ROUND:041     Global Loss: 2.0982\n",
      "####### ROUND 41 END #######\n",
      "\n",
      "Client 7   Accuracy: 58.14%\n",
      "Client 9   Accuracy: 52.74%\n",
      "Client 14  Accuracy: 52.08%\n",
      "Client 27  Accuracy: 32.65%\n",
      "Client 31  Accuracy: 62.60%\n",
      "Client 32  Accuracy: 69.85%\n",
      "Client 52  Accuracy: 47.74%\n",
      "Client 54  Accuracy: 30.65%\n",
      "Client 61  Accuracy: 62.30%\n",
      "Client 76  Accuracy: 42.47%\n"
     ]
    },
    {
     "name": "stderr",
     "output_type": "stream",
     "text": [
      " 84%|████████▍ | 42/50 [03:54<00:46,  5.76s/it]"
     ]
    },
    {
     "name": "stdout",
     "output_type": "stream",
     "text": [
      "ROUND:042 Global Accuracy: 38.76%\n",
      "ROUND:042     Global Loss: 2.0746\n",
      "####### ROUND 42 END #######\n",
      "\n",
      "Client 7   Accuracy: 51.16%\n",
      "Client 11  Accuracy: 44.44%\n",
      "Client 17  Accuracy: 48.44%\n",
      "Client 18  Accuracy: 57.47%\n",
      "Client 28  Accuracy: 51.25%\n",
      "Client 39  Accuracy: 38.04%\n",
      "Client 65  Accuracy: 66.35%\n",
      "Client 70  Accuracy: 78.79%\n",
      "Client 73  Accuracy: 61.54%\n",
      "Client 86  Accuracy: 56.18%\n"
     ]
    },
    {
     "name": "stderr",
     "output_type": "stream",
     "text": [
      " 86%|████████▌ | 43/50 [03:59<00:40,  5.81s/it]"
     ]
    },
    {
     "name": "stdout",
     "output_type": "stream",
     "text": [
      "ROUND:043 Global Accuracy: 43.20%\n",
      "ROUND:043     Global Loss: 2.0526\n",
      "####### ROUND 43 END #######\n",
      "\n",
      "Client 0   Accuracy: 67.14%\n",
      "Client 17  Accuracy: 53.12%\n",
      "Client 27  Accuracy: 34.69%\n",
      "Client 29  Accuracy: 69.52%\n",
      "Client 33  Accuracy: 69.67%\n",
      "Client 34  Accuracy: 86.71%\n",
      "Client 41  Accuracy: 62.50%\n",
      "Client 53  Accuracy: 32.43%\n",
      "Client 68  Accuracy: 65.28%\n",
      "Client 80  Accuracy: 57.45%\n"
     ]
    },
    {
     "name": "stderr",
     "output_type": "stream",
     "text": [
      " 88%|████████▊ | 44/50 [04:06<00:35,  5.88s/it]"
     ]
    },
    {
     "name": "stdout",
     "output_type": "stream",
     "text": [
      "ROUND:044 Global Accuracy: 55.74%\n",
      "ROUND:044     Global Loss: 2.0326\n",
      "####### ROUND 44 END #######\n",
      "\n",
      "Client 0   Accuracy: 67.14%\n",
      "Client 4   Accuracy: 58.54%\n",
      "Client 50  Accuracy: 61.74%\n",
      "Client 53  Accuracy: 38.74%\n",
      "Client 67  Accuracy: 78.05%\n",
      "Client 68  Accuracy: 65.28%\n",
      "Client 70  Accuracy: 81.82%\n",
      "Client 76  Accuracy: 45.21%\n",
      "Client 84  Accuracy: 76.47%\n",
      "Client 91  Accuracy: 48.00%\n"
     ]
    },
    {
     "name": "stderr",
     "output_type": "stream",
     "text": [
      " 90%|█████████ | 45/50 [04:11<00:28,  5.70s/it]"
     ]
    },
    {
     "name": "stdout",
     "output_type": "stream",
     "text": [
      "ROUND:045 Global Accuracy: 55.36%\n",
      "ROUND:045     Global Loss: 2.0136\n",
      "####### ROUND 45 END #######\n",
      "\n",
      "Client 10  Accuracy: 52.13%\n",
      "Client 11  Accuracy: 55.56%\n",
      "Client 12  Accuracy: 42.86%\n",
      "Client 14  Accuracy: 62.50%\n",
      "Client 27  Accuracy: 32.65%\n",
      "Client 40  Accuracy: 50.94%\n",
      "Client 46  Accuracy: 60.34%\n",
      "Client 48  Accuracy: 69.77%\n",
      "Client 64  Accuracy: 53.38%\n",
      "Client 68  Accuracy: 65.28%\n"
     ]
    },
    {
     "name": "stderr",
     "output_type": "stream",
     "text": [
      " 92%|█████████▏| 46/50 [04:16<00:22,  5.57s/it]"
     ]
    },
    {
     "name": "stdout",
     "output_type": "stream",
     "text": [
      "ROUND:046 Global Accuracy: 59.96%\n",
      "ROUND:046     Global Loss: 1.9904\n",
      "####### ROUND 46 END #######\n",
      "\n",
      "Client 9   Accuracy: 59.59%\n",
      "Client 13  Accuracy: 61.43%\n",
      "Client 15  Accuracy: 57.69%\n",
      "Client 18  Accuracy: 67.82%\n",
      "Client 28  Accuracy: 56.25%\n",
      "Client 35  Accuracy: 58.62%\n",
      "Client 40  Accuracy: 50.94%\n",
      "Client 71  Accuracy: 65.29%\n",
      "Client 93  Accuracy: 47.17%\n",
      "Client 97  Accuracy: 59.04%\n"
     ]
    },
    {
     "name": "stderr",
     "output_type": "stream",
     "text": [
      " 94%|█████████▍| 47/50 [04:23<00:17,  5.94s/it]"
     ]
    },
    {
     "name": "stdout",
     "output_type": "stream",
     "text": [
      "ROUND:047 Global Accuracy: 57.26%\n",
      "ROUND:047     Global Loss: 1.9584\n",
      "####### ROUND 47 END #######\n",
      "\n",
      "Client 4   Accuracy: 73.17%\n",
      "Client 13  Accuracy: 61.43%\n",
      "Client 20  Accuracy: 61.72%\n",
      "Client 28  Accuracy: 46.25%\n",
      "Client 39  Accuracy: 63.04%\n",
      "Client 44  Accuracy: 75.00%\n",
      "Client 49  Accuracy: 64.10%\n",
      "Client 55  Accuracy: 56.46%\n",
      "Client 84  Accuracy: 77.94%\n",
      "Client 94  Accuracy: 52.17%\n"
     ]
    },
    {
     "name": "stderr",
     "output_type": "stream",
     "text": [
      " 96%|█████████▌| 48/50 [04:29<00:12,  6.13s/it]"
     ]
    },
    {
     "name": "stdout",
     "output_type": "stream",
     "text": [
      "ROUND:048 Global Accuracy: 49.34%\n",
      "ROUND:048     Global Loss: 1.9251\n",
      "####### ROUND 48 END #######\n",
      "\n",
      "Client 18  Accuracy: 73.56%\n",
      "Client 33  Accuracy: 69.67%\n",
      "Client 58  Accuracy: 54.88%\n",
      "Client 68  Accuracy: 70.83%\n",
      "Client 74  Accuracy: 76.83%\n",
      "Client 75  Accuracy: 57.45%\n",
      "Client 79  Accuracy: 59.09%\n",
      "Client 86  Accuracy: 57.30%\n",
      "Client 89  Accuracy: 64.79%\n",
      "Client 96  Accuracy: 74.23%\n"
     ]
    },
    {
     "name": "stderr",
     "output_type": "stream",
     "text": [
      " 98%|█████████▊| 49/50 [04:36<00:06,  6.38s/it]"
     ]
    },
    {
     "name": "stdout",
     "output_type": "stream",
     "text": [
      "ROUND:049 Global Accuracy: 55.97%\n",
      "ROUND:049     Global Loss: 1.8861\n",
      "####### ROUND 49 END #######\n",
      "\n",
      "Client 0   Accuracy: 74.29%\n",
      "Client 32  Accuracy: 71.86%\n",
      "Client 33  Accuracy: 70.49%\n",
      "Client 37  Accuracy: 64.71%\n",
      "Client 47  Accuracy: 64.00%\n",
      "Client 49  Accuracy: 56.41%\n",
      "Client 50  Accuracy: 61.74%\n",
      "Client 53  Accuracy: 54.05%\n",
      "Client 66  Accuracy: 56.70%\n",
      "Client 91  Accuracy: 60.00%\n"
     ]
    },
    {
     "name": "stderr",
     "output_type": "stream",
     "text": [
      "100%|██████████| 50/50 [04:43<00:00,  5.67s/it]"
     ]
    },
    {
     "name": "stdout",
     "output_type": "stream",
     "text": [
      "ROUND:050 Global Accuracy: 56.54%\n",
      "ROUND:050     Global Loss: 1.8446\n",
      "####### ROUND 50 END #######\n",
      "\n",
      "Experiment: Template|MLP|MNIST|SGD|0.01|0.0001|128|0|10|False|100|50|0.5|0.1|NaiveClient|FedAvg|2.0\n"
     ]
    },
    {
     "name": "stderr",
     "output_type": "stream",
     "text": [
      "\n",
      " 31%|███       | 31/100 [00:00<00:00, 300.26it/s]"
     ]
    },
    {
     "name": "stdout",
     "output_type": "stream",
     "text": [
      "Initializing 100 clients\n"
     ]
    },
    {
     "name": "stderr",
     "output_type": "stream",
     "text": [
      "100%|██████████| 100/100 [00:00<00:00, 295.14it/s]\n",
      "  0%|          | 0/50 [00:00<?, ?it/s]"
     ]
    },
    {
     "name": "stdout",
     "output_type": "stream",
     "text": [
      "Client 6   Accuracy: 10.94%\n",
      "Client 10  Accuracy: 50.00%\n",
      "Client 17  Accuracy: 14.06%\n",
      "Client 24  Accuracy: 12.96%\n",
      "Client 33  Accuracy: 25.41%\n",
      "Client 42  Accuracy: 50.00%\n",
      "Client 75  Accuracy: 47.52%\n",
      "Client 78  Accuracy: 37.56%\n",
      "Client 91  Accuracy: 13.33%\n",
      "Client 95  Accuracy: 18.82%\n"
     ]
    },
    {
     "name": "stderr",
     "output_type": "stream",
     "text": [
      "  2%|▏         | 1/50 [00:07<05:50,  7.15s/it]"
     ]
    },
    {
     "name": "stdout",
     "output_type": "stream",
     "text": [
      "ROUND:001 Global Accuracy: 7.18%\n",
      "ROUND:001     Global Loss: 2.3011\n",
      "####### ROUND 1 END #######\n",
      "\n",
      "Client 6   Accuracy: 10.94%\n",
      "Client 8   Accuracy: 31.13%\n",
      "Client 42  Accuracy: 50.00%\n",
      "Client 57  Accuracy: 2.50%\n",
      "Client 64  Accuracy: 45.86%\n",
      "Client 67  Accuracy: 53.66%\n",
      "Client 72  Accuracy: 45.00%\n",
      "Client 78  Accuracy: 37.56%\n",
      "Client 81  Accuracy: 60.19%\n",
      "Client 93  Accuracy: 18.87%\n"
     ]
    },
    {
     "name": "stderr",
     "output_type": "stream",
     "text": [
      "  4%|▍         | 2/50 [00:13<05:31,  6.91s/it]"
     ]
    },
    {
     "name": "stdout",
     "output_type": "stream",
     "text": [
      "ROUND:002 Global Accuracy: 17.69%\n",
      "ROUND:002     Global Loss: 2.2971\n",
      "####### ROUND 2 END #######\n",
      "\n",
      "Client 3   Accuracy: 37.30%\n",
      "Client 19  Accuracy: 16.22%\n",
      "Client 24  Accuracy: 25.93%\n",
      "Client 31  Accuracy: 45.53%\n",
      "Client 46  Accuracy: 34.48%\n",
      "Client 50  Accuracy: 55.65%\n",
      "Client 70  Accuracy: 72.73%\n",
      "Client 75  Accuracy: 47.52%\n",
      "Client 90  Accuracy: 36.08%\n",
      "Client 96  Accuracy: 56.44%\n"
     ]
    },
    {
     "name": "stderr",
     "output_type": "stream",
     "text": [
      "  6%|▌         | 3/50 [00:21<05:37,  7.18s/it]"
     ]
    },
    {
     "name": "stdout",
     "output_type": "stream",
     "text": [
      "ROUND:003 Global Accuracy: 16.77%\n",
      "ROUND:003     Global Loss: 2.2921\n",
      "####### ROUND 3 END #######\n",
      "\n",
      "Client 9   Accuracy: 48.63%\n",
      "Client 22  Accuracy: 31.15%\n",
      "Client 27  Accuracy: 14.29%\n",
      "Client 41  Accuracy: 16.07%\n",
      "Client 42  Accuracy: 51.67%\n",
      "Client 44  Accuracy: 43.75%\n",
      "Client 56  Accuracy: 34.67%\n",
      "Client 59  Accuracy: 30.51%\n",
      "Client 61  Accuracy: 54.10%\n",
      "Client 70  Accuracy: 72.73%\n"
     ]
    },
    {
     "name": "stderr",
     "output_type": "stream",
     "text": [
      "  8%|▊         | 4/50 [00:26<04:55,  6.43s/it]"
     ]
    },
    {
     "name": "stdout",
     "output_type": "stream",
     "text": [
      "ROUND:004 Global Accuracy: 25.33%\n",
      "ROUND:004     Global Loss: 2.2882\n",
      "####### ROUND 4 END #######\n",
      "\n",
      "Client 13  Accuracy: 60.71%\n",
      "Client 18  Accuracy: 48.28%\n",
      "Client 20  Accuracy: 48.33%\n",
      "Client 31  Accuracy: 47.15%\n",
      "Client 39  Accuracy: 27.17%\n",
      "Client 42  Accuracy: 51.67%\n",
      "Client 58  Accuracy: 40.24%\n",
      "Client 77  Accuracy: 29.51%\n",
      "Client 78  Accuracy: 37.56%\n",
      "Client 82  Accuracy: 44.94%\n"
     ]
    },
    {
     "name": "stderr",
     "output_type": "stream",
     "text": [
      " 10%|█         | 5/50 [00:34<05:17,  7.05s/it]"
     ]
    },
    {
     "name": "stdout",
     "output_type": "stream",
     "text": [
      "ROUND:005 Global Accuracy: 31.94%\n",
      "ROUND:005     Global Loss: 2.2803\n",
      "####### ROUND 5 END #######\n",
      "\n",
      "Client 11  Accuracy: 44.44%\n",
      "Client 19  Accuracy: 21.62%\n",
      "Client 24  Accuracy: 40.74%\n",
      "Client 32  Accuracy: 47.24%\n",
      "Client 33  Accuracy: 48.36%\n",
      "Client 46  Accuracy: 34.48%\n",
      "Client 61  Accuracy: 67.21%\n",
      "Client 66  Accuracy: 45.36%\n",
      "Client 82  Accuracy: 42.70%\n",
      "Client 99  Accuracy: 57.41%\n"
     ]
    },
    {
     "name": "stderr",
     "output_type": "stream",
     "text": [
      " 12%|█▏        | 6/50 [00:41<05:04,  6.93s/it]"
     ]
    },
    {
     "name": "stdout",
     "output_type": "stream",
     "text": [
      "ROUND:006 Global Accuracy: 29.81%\n",
      "ROUND:006     Global Loss: 2.2735\n",
      "####### ROUND 6 END #######\n",
      "\n",
      "Client 12  Accuracy: 19.05%\n",
      "Client 16  Accuracy: 59.65%\n",
      "Client 39  Accuracy: 51.09%\n",
      "Client 42  Accuracy: 55.00%\n",
      "Client 47  Accuracy: 37.33%\n",
      "Client 60  Accuracy: 56.00%\n",
      "Client 69  Accuracy: 40.35%\n",
      "Client 70  Accuracy: 72.73%\n",
      "Client 94  Accuracy: 32.61%\n",
      "Client 99  Accuracy: 57.41%\n"
     ]
    },
    {
     "name": "stderr",
     "output_type": "stream",
     "text": [
      " 14%|█▍        | 7/50 [00:47<04:44,  6.61s/it]"
     ]
    },
    {
     "name": "stdout",
     "output_type": "stream",
     "text": [
      "ROUND:007 Global Accuracy: 33.17%\n",
      "ROUND:007     Global Loss: 2.2671\n",
      "####### ROUND 7 END #######\n",
      "\n",
      "Client 2   Accuracy: 58.41%\n",
      "Client 12  Accuracy: 28.57%\n",
      "Client 19  Accuracy: 29.73%\n",
      "Client 47  Accuracy: 50.67%\n",
      "Client 55  Accuracy: 33.33%\n",
      "Client 69  Accuracy: 40.35%\n",
      "Client 75  Accuracy: 47.52%\n",
      "Client 79  Accuracy: 34.85%\n",
      "Client 97  Accuracy: 55.42%\n",
      "Client 99  Accuracy: 57.41%\n"
     ]
    },
    {
     "name": "stderr",
     "output_type": "stream",
     "text": [
      " 16%|█▌        | 8/50 [00:54<04:38,  6.63s/it]"
     ]
    },
    {
     "name": "stdout",
     "output_type": "stream",
     "text": [
      "ROUND:008 Global Accuracy: 29.90%\n",
      "ROUND:008     Global Loss: 2.2570\n",
      "####### ROUND 8 END #######\n",
      "\n",
      "Client 3   Accuracy: 59.52%\n",
      "Client 6   Accuracy: 34.38%\n",
      "Client 51  Accuracy: 36.36%\n",
      "Client 57  Accuracy: 30.00%\n",
      "Client 61  Accuracy: 55.74%\n",
      "Client 69  Accuracy: 40.35%\n",
      "Client 71  Accuracy: 54.55%\n",
      "Client 85  Accuracy: 14.29%\n",
      "Client 93  Accuracy: 30.19%\n",
      "Client 98  Accuracy: 45.00%\n"
     ]
    },
    {
     "name": "stderr",
     "output_type": "stream",
     "text": [
      " 18%|█▊        | 9/50 [00:59<04:17,  6.29s/it]"
     ]
    },
    {
     "name": "stdout",
     "output_type": "stream",
     "text": [
      "ROUND:009 Global Accuracy: 32.92%\n",
      "ROUND:009     Global Loss: 2.2492\n",
      "####### ROUND 9 END #######\n",
      "\n",
      "Client 5   Accuracy: 17.65%\n",
      "Client 9   Accuracy: 48.63%\n",
      "Client 15  Accuracy: 48.08%\n",
      "Client 22  Accuracy: 34.43%\n",
      "Client 55  Accuracy: 33.33%\n",
      "Client 70  Accuracy: 72.73%\n",
      "Client 79  Accuracy: 30.30%\n",
      "Client 88  Accuracy: 35.90%\n",
      "Client 91  Accuracy: 33.33%\n",
      "Client 93  Accuracy: 33.96%\n"
     ]
    },
    {
     "name": "stderr",
     "output_type": "stream",
     "text": [
      " 20%|██        | 10/50 [01:05<04:03,  6.10s/it]"
     ]
    },
    {
     "name": "stdout",
     "output_type": "stream",
     "text": [
      "ROUND:010 Global Accuracy: 25.89%\n",
      "ROUND:010     Global Loss: 2.2365\n",
      "####### ROUND 10 END #######\n",
      "\n",
      "Client 13  Accuracy: 60.71%\n",
      "Client 15  Accuracy: 19.23%\n",
      "Client 17  Accuracy: 26.56%\n",
      "Client 18  Accuracy: 48.28%\n",
      "Client 35  Accuracy: 25.29%\n",
      "Client 39  Accuracy: 35.87%\n",
      "Client 50  Accuracy: 55.65%\n",
      "Client 52  Accuracy: 44.22%\n",
      "Client 78  Accuracy: 37.56%\n",
      "Client 80  Accuracy: 21.28%\n"
     ]
    },
    {
     "name": "stderr",
     "output_type": "stream",
     "text": [
      " 22%|██▏       | 11/50 [01:12<04:14,  6.51s/it]"
     ]
    },
    {
     "name": "stdout",
     "output_type": "stream",
     "text": [
      "ROUND:011 Global Accuracy: 25.49%\n",
      "ROUND:011     Global Loss: 2.2158\n",
      "####### ROUND 11 END #######\n",
      "\n",
      "Client 4   Accuracy: 36.59%\n",
      "Client 15  Accuracy: 44.23%\n",
      "Client 41  Accuracy: 41.07%\n",
      "Client 62  Accuracy: 39.47%\n",
      "Client 66  Accuracy: 32.99%\n",
      "Client 73  Accuracy: 29.91%\n",
      "Client 76  Accuracy: 38.36%\n",
      "Client 81  Accuracy: 75.73%\n",
      "Client 85  Accuracy: 42.86%\n",
      "Client 94  Accuracy: 30.43%\n"
     ]
    },
    {
     "name": "stderr",
     "output_type": "stream",
     "text": [
      " 24%|██▍       | 12/50 [01:17<03:51,  6.10s/it]"
     ]
    },
    {
     "name": "stdout",
     "output_type": "stream",
     "text": [
      "ROUND:012 Global Accuracy: 25.63%\n",
      "ROUND:012     Global Loss: 2.2023\n",
      "####### ROUND 12 END #######\n",
      "\n",
      "Client 25  Accuracy: 46.55%\n",
      "Client 26  Accuracy: 44.44%\n",
      "Client 33  Accuracy: 57.38%\n",
      "Client 36  Accuracy: 70.30%\n",
      "Client 38  Accuracy: 42.41%\n",
      "Client 49  Accuracy: 35.90%\n",
      "Client 75  Accuracy: 47.52%\n",
      "Client 78  Accuracy: 37.56%\n",
      "Client 85  Accuracy: 42.86%\n",
      "Client 97  Accuracy: 48.19%\n"
     ]
    },
    {
     "name": "stderr",
     "output_type": "stream",
     "text": [
      " 26%|██▌       | 13/50 [01:25<03:59,  6.47s/it]"
     ]
    },
    {
     "name": "stdout",
     "output_type": "stream",
     "text": [
      "ROUND:013 Global Accuracy: 28.64%\n",
      "ROUND:013     Global Loss: 2.1777\n",
      "####### ROUND 13 END #######\n",
      "\n",
      "Client 4   Accuracy: 39.02%\n",
      "Client 6   Accuracy: 35.94%\n",
      "Client 12  Accuracy: 21.43%\n",
      "Client 36  Accuracy: 70.30%\n",
      "Client 39  Accuracy: 42.39%\n",
      "Client 48  Accuracy: 48.84%\n",
      "Client 55  Accuracy: 33.33%\n",
      "Client 60  Accuracy: 56.00%\n",
      "Client 61  Accuracy: 65.57%\n",
      "Client 83  Accuracy: 47.73%\n"
     ]
    },
    {
     "name": "stderr",
     "output_type": "stream",
     "text": [
      " 28%|██▊       | 14/50 [01:30<03:38,  6.08s/it]"
     ]
    },
    {
     "name": "stdout",
     "output_type": "stream",
     "text": [
      "ROUND:014 Global Accuracy: 26.38%\n",
      "ROUND:014     Global Loss: 2.1573\n",
      "####### ROUND 14 END #######\n",
      "\n",
      "Client 2   Accuracy: 57.52%\n",
      "Client 6   Accuracy: 35.94%\n",
      "Client 13  Accuracy: 60.71%\n",
      "Client 14  Accuracy: 50.00%\n",
      "Client 18  Accuracy: 52.87%\n",
      "Client 22  Accuracy: 67.21%\n",
      "Client 41  Accuracy: 57.14%\n",
      "Client 47  Accuracy: 44.00%\n",
      "Client 82  Accuracy: 42.70%\n",
      "Client 87  Accuracy: 64.94%\n"
     ]
    },
    {
     "name": "stderr",
     "output_type": "stream",
     "text": [
      " 30%|███       | 15/50 [01:35<03:24,  5.85s/it]"
     ]
    },
    {
     "name": "stdout",
     "output_type": "stream",
     "text": [
      "ROUND:015 Global Accuracy: 34.34%\n",
      "ROUND:015     Global Loss: 2.1267\n",
      "####### ROUND 15 END #######\n",
      "\n",
      "Client 0   Accuracy: 52.86%\n",
      "Client 16  Accuracy: 59.65%\n",
      "Client 32  Accuracy: 56.78%\n",
      "Client 36  Accuracy: 70.30%\n",
      "Client 37  Accuracy: 56.47%\n",
      "Client 68  Accuracy: 33.33%\n",
      "Client 70  Accuracy: 75.76%\n",
      "Client 78  Accuracy: 37.56%\n",
      "Client 87  Accuracy: 64.29%\n",
      "Client 96  Accuracy: 53.37%\n"
     ]
    },
    {
     "name": "stderr",
     "output_type": "stream",
     "text": [
      " 32%|███▏      | 16/50 [01:42<03:29,  6.17s/it]"
     ]
    },
    {
     "name": "stdout",
     "output_type": "stream",
     "text": [
      "ROUND:016 Global Accuracy: 41.22%\n",
      "ROUND:016     Global Loss: 2.0855\n",
      "####### ROUND 16 END #######\n",
      "\n",
      "Client 3   Accuracy: 65.08%\n",
      "Client 13  Accuracy: 60.71%\n",
      "Client 35  Accuracy: 55.17%\n",
      "Client 38  Accuracy: 46.20%\n",
      "Client 48  Accuracy: 58.14%\n",
      "Client 51  Accuracy: 47.27%\n",
      "Client 55  Accuracy: 43.54%\n",
      "Client 56  Accuracy: 40.00%\n",
      "Client 61  Accuracy: 70.49%\n",
      "Client 68  Accuracy: 62.50%\n"
     ]
    },
    {
     "name": "stderr",
     "output_type": "stream",
     "text": [
      " 34%|███▍      | 17/50 [01:48<03:20,  6.09s/it]"
     ]
    },
    {
     "name": "stdout",
     "output_type": "stream",
     "text": [
      "ROUND:017 Global Accuracy: 50.74%\n",
      "ROUND:017     Global Loss: 2.0365\n",
      "####### ROUND 17 END #######\n",
      "\n",
      "Client 1   Accuracy: 67.57%\n",
      "Client 33  Accuracy: 64.75%\n",
      "Client 38  Accuracy: 53.16%\n",
      "Client 45  Accuracy: 47.95%\n",
      "Client 69  Accuracy: 40.35%\n",
      "Client 71  Accuracy: 54.55%\n",
      "Client 74  Accuracy: 68.29%\n",
      "Client 85  Accuracy: 71.43%\n",
      "Client 86  Accuracy: 56.18%\n",
      "Client 95  Accuracy: 58.82%\n"
     ]
    },
    {
     "name": "stderr",
     "output_type": "stream",
     "text": [
      " 36%|███▌      | 18/50 [01:54<03:09,  5.92s/it]"
     ]
    },
    {
     "name": "stdout",
     "output_type": "stream",
     "text": [
      "ROUND:018 Global Accuracy: 50.47%\n",
      "ROUND:018     Global Loss: 1.9855\n",
      "####### ROUND 18 END #######\n",
      "\n",
      "Client 4   Accuracy: 70.73%\n",
      "Client 7   Accuracy: 56.98%\n",
      "Client 34  Accuracy: 85.31%\n",
      "Client 38  Accuracy: 63.29%\n",
      "Client 58  Accuracy: 48.78%\n",
      "Client 63  Accuracy: 75.24%\n",
      "Client 64  Accuracy: 51.13%\n",
      "Client 81  Accuracy: 72.82%\n",
      "Client 85  Accuracy: 67.86%\n",
      "Client 97  Accuracy: 50.60%\n"
     ]
    },
    {
     "name": "stderr",
     "output_type": "stream",
     "text": [
      " 38%|███▊      | 19/50 [01:59<03:02,  5.88s/it]"
     ]
    },
    {
     "name": "stdout",
     "output_type": "stream",
     "text": [
      "ROUND:019 Global Accuracy: 45.58%\n",
      "ROUND:019     Global Loss: 1.9336\n",
      "####### ROUND 19 END #######\n",
      "\n",
      "Client 12  Accuracy: 54.76%\n",
      "Client 20  Accuracy: 60.29%\n",
      "Client 29  Accuracy: 65.71%\n",
      "Client 31  Accuracy: 71.54%\n",
      "Client 37  Accuracy: 67.06%\n",
      "Client 48  Accuracy: 65.12%\n",
      "Client 67  Accuracy: 65.85%\n",
      "Client 68  Accuracy: 75.00%\n",
      "Client 78  Accuracy: 55.40%\n",
      "Client 81  Accuracy: 81.55%\n"
     ]
    },
    {
     "name": "stderr",
     "output_type": "stream",
     "text": [
      " 40%|████      | 20/50 [02:06<02:58,  5.95s/it]"
     ]
    },
    {
     "name": "stdout",
     "output_type": "stream",
     "text": [
      "ROUND:020 Global Accuracy: 49.58%\n",
      "ROUND:020     Global Loss: 1.8514\n",
      "####### ROUND 20 END #######\n",
      "\n",
      "Client 6   Accuracy: 35.94%\n",
      "Client 8   Accuracy: 71.52%\n",
      "Client 16  Accuracy: 59.65%\n",
      "Client 18  Accuracy: 78.16%\n",
      "Client 36  Accuracy: 78.22%\n",
      "Client 57  Accuracy: 37.50%\n",
      "Client 66  Accuracy: 59.79%\n",
      "Client 68  Accuracy: 69.44%\n",
      "Client 88  Accuracy: 64.10%\n",
      "Client 95  Accuracy: 61.18%\n"
     ]
    },
    {
     "name": "stderr",
     "output_type": "stream",
     "text": [
      " 42%|████▏     | 21/50 [02:11<02:45,  5.70s/it]"
     ]
    },
    {
     "name": "stdout",
     "output_type": "stream",
     "text": [
      "ROUND:021 Global Accuracy: 53.23%\n",
      "ROUND:021     Global Loss: 1.7860\n",
      "####### ROUND 21 END #######\n",
      "\n",
      "Client 14  Accuracy: 60.42%\n",
      "Client 30  Accuracy: 60.00%\n",
      "Client 37  Accuracy: 68.24%\n",
      "Client 44  Accuracy: 77.08%\n",
      "Client 45  Accuracy: 60.27%\n",
      "Client 47  Accuracy: 61.33%\n",
      "Client 49  Accuracy: 64.10%\n",
      "Client 55  Accuracy: 72.11%\n",
      "Client 64  Accuracy: 63.16%\n",
      "Client 91  Accuracy: 53.33%\n"
     ]
    },
    {
     "name": "stderr",
     "output_type": "stream",
     "text": [
      " 44%|████▍     | 22/50 [02:15<02:31,  5.40s/it]"
     ]
    },
    {
     "name": "stdout",
     "output_type": "stream",
     "text": [
      "ROUND:022 Global Accuracy: 64.15%\n",
      "ROUND:022     Global Loss: 1.7254\n",
      "####### ROUND 22 END #######\n",
      "\n",
      "Client 6   Accuracy: 43.75%\n",
      "Client 7   Accuracy: 65.12%\n",
      "Client 26  Accuracy: 66.67%\n",
      "Client 38  Accuracy: 76.58%\n",
      "Client 43  Accuracy: 63.29%\n",
      "Client 44  Accuracy: 77.08%\n",
      "Client 72  Accuracy: 70.00%\n",
      "Client 73  Accuracy: 69.23%\n",
      "Client 78  Accuracy: 73.71%\n",
      "Client 89  Accuracy: 64.79%\n"
     ]
    },
    {
     "name": "stderr",
     "output_type": "stream",
     "text": [
      " 46%|████▌     | 23/50 [02:21<02:28,  5.51s/it]"
     ]
    },
    {
     "name": "stdout",
     "output_type": "stream",
     "text": [
      "ROUND:023 Global Accuracy: 65.22%\n",
      "ROUND:023     Global Loss: 1.6455\n",
      "####### ROUND 23 END #######\n",
      "\n",
      "Client 3   Accuracy: 76.19%\n",
      "Client 4   Accuracy: 75.61%\n",
      "Client 16  Accuracy: 63.16%\n",
      "Client 18  Accuracy: 82.76%\n",
      "Client 21  Accuracy: 59.49%\n",
      "Client 31  Accuracy: 73.98%\n",
      "Client 47  Accuracy: 65.33%\n",
      "Client 71  Accuracy: 61.98%\n",
      "Client 84  Accuracy: 82.35%\n",
      "Client 87  Accuracy: 81.17%\n"
     ]
    },
    {
     "name": "stderr",
     "output_type": "stream",
     "text": [
      " 48%|████▊     | 24/50 [02:27<02:26,  5.62s/it]"
     ]
    },
    {
     "name": "stdout",
     "output_type": "stream",
     "text": [
      "ROUND:024 Global Accuracy: 61.55%\n",
      "ROUND:024     Global Loss: 1.5551\n",
      "####### ROUND 24 END #######\n",
      "\n",
      "Client 0   Accuracy: 72.86%\n",
      "Client 2   Accuracy: 76.11%\n",
      "Client 3   Accuracy: 78.57%\n",
      "Client 12  Accuracy: 76.19%\n",
      "Client 36  Accuracy: 84.16%\n",
      "Client 39  Accuracy: 61.96%\n",
      "Client 44  Accuracy: 77.08%\n",
      "Client 46  Accuracy: 75.00%\n",
      "Client 77  Accuracy: 70.49%\n",
      "Client 98  Accuracy: 76.25%\n"
     ]
    },
    {
     "name": "stderr",
     "output_type": "stream",
     "text": [
      " 50%|█████     | 25/50 [02:32<02:15,  5.44s/it]"
     ]
    },
    {
     "name": "stdout",
     "output_type": "stream",
     "text": [
      "ROUND:025 Global Accuracy: 62.06%\n",
      "ROUND:025     Global Loss: 1.4784\n",
      "####### ROUND 25 END #######\n",
      "\n",
      "Client 18  Accuracy: 85.06%\n",
      "Client 32  Accuracy: 77.89%\n",
      "Client 42  Accuracy: 70.00%\n",
      "Client 53  Accuracy: 79.28%\n",
      "Client 58  Accuracy: 76.83%\n",
      "Client 59  Accuracy: 72.88%\n",
      "Client 70  Accuracy: 80.30%\n",
      "Client 74  Accuracy: 76.83%\n",
      "Client 76  Accuracy: 76.71%\n",
      "Client 97  Accuracy: 73.49%\n"
     ]
    },
    {
     "name": "stderr",
     "output_type": "stream",
     "text": [
      " 52%|█████▏    | 26/50 [02:37<02:09,  5.41s/it]"
     ]
    },
    {
     "name": "stdout",
     "output_type": "stream",
     "text": [
      "ROUND:026 Global Accuracy: 61.34%\n",
      "ROUND:026     Global Loss: 1.4189\n",
      "####### ROUND 26 END #######\n",
      "\n",
      "Client 0   Accuracy: 72.86%\n",
      "Client 16  Accuracy: 78.07%\n",
      "Client 45  Accuracy: 73.97%\n",
      "Client 46  Accuracy: 77.59%\n",
      "Client 51  Accuracy: 76.36%\n",
      "Client 60  Accuracy: 75.00%\n",
      "Client 63  Accuracy: 80.00%\n",
      "Client 74  Accuracy: 78.05%\n",
      "Client 97  Accuracy: 75.90%\n",
      "Client 99  Accuracy: 82.41%\n"
     ]
    },
    {
     "name": "stderr",
     "output_type": "stream",
     "text": [
      " 54%|█████▍    | 27/50 [02:43<02:03,  5.38s/it]"
     ]
    },
    {
     "name": "stdout",
     "output_type": "stream",
     "text": [
      "ROUND:027 Global Accuracy: 72.34%\n",
      "ROUND:027     Global Loss: 1.3251\n",
      "####### ROUND 27 END #######\n",
      "\n",
      "Client 14  Accuracy: 68.75%\n",
      "Client 16  Accuracy: 77.19%\n",
      "Client 18  Accuracy: 88.51%\n",
      "Client 41  Accuracy: 76.79%\n",
      "Client 49  Accuracy: 71.79%\n",
      "Client 63  Accuracy: 80.95%\n",
      "Client 70  Accuracy: 84.85%\n",
      "Client 76  Accuracy: 76.71%\n",
      "Client 85  Accuracy: 82.14%\n",
      "Client 86  Accuracy: 65.17%\n"
     ]
    },
    {
     "name": "stderr",
     "output_type": "stream",
     "text": [
      " 56%|█████▌    | 28/50 [02:47<01:51,  5.05s/it]"
     ]
    },
    {
     "name": "stdout",
     "output_type": "stream",
     "text": [
      "ROUND:028 Global Accuracy: 67.83%\n",
      "ROUND:028     Global Loss: 1.2870\n",
      "####### ROUND 28 END #######\n",
      "\n",
      "Client 0   Accuracy: 77.14%\n",
      "Client 7   Accuracy: 70.93%\n",
      "Client 10  Accuracy: 77.66%\n",
      "Client 36  Accuracy: 86.14%\n",
      "Client 41  Accuracy: 76.79%\n",
      "Client 47  Accuracy: 74.67%\n",
      "Client 51  Accuracy: 81.82%\n",
      "Client 83  Accuracy: 71.59%\n",
      "Client 85  Accuracy: 82.14%\n",
      "Client 86  Accuracy: 66.29%\n"
     ]
    },
    {
     "name": "stderr",
     "output_type": "stream",
     "text": [
      " 58%|█████▊    | 29/50 [02:52<01:43,  4.91s/it]"
     ]
    },
    {
     "name": "stdout",
     "output_type": "stream",
     "text": [
      "ROUND:029 Global Accuracy: 66.52%\n",
      "ROUND:029     Global Loss: 1.2489\n",
      "####### ROUND 29 END #######\n",
      "\n",
      "Client 4   Accuracy: 82.93%\n",
      "Client 5   Accuracy: 79.41%\n",
      "Client 11  Accuracy: 75.56%\n",
      "Client 14  Accuracy: 68.75%\n",
      "Client 46  Accuracy: 76.72%\n",
      "Client 67  Accuracy: 85.37%\n",
      "Client 69  Accuracy: 78.95%\n",
      "Client 91  Accuracy: 69.33%\n",
      "Client 93  Accuracy: 71.70%\n",
      "Client 98  Accuracy: 78.75%\n"
     ]
    },
    {
     "name": "stderr",
     "output_type": "stream",
     "text": [
      " 60%|██████    | 30/50 [02:56<01:36,  4.84s/it]"
     ]
    },
    {
     "name": "stdout",
     "output_type": "stream",
     "text": [
      "ROUND:030 Global Accuracy: 73.51%\n",
      "ROUND:030     Global Loss: 1.1736\n",
      "####### ROUND 30 END #######\n",
      "\n",
      "Client 5   Accuracy: 80.88%\n",
      "Client 28  Accuracy: 82.50%\n",
      "Client 43  Accuracy: 79.75%\n",
      "Client 44  Accuracy: 83.33%\n",
      "Client 65  Accuracy: 77.88%\n",
      "Client 73  Accuracy: 70.94%\n",
      "Client 83  Accuracy: 75.00%\n",
      "Client 92  Accuracy: 75.76%\n",
      "Client 95  Accuracy: 76.47%\n",
      "Client 98  Accuracy: 80.00%\n"
     ]
    },
    {
     "name": "stderr",
     "output_type": "stream",
     "text": [
      " 62%|██████▏   | 31/50 [03:02<01:38,  5.16s/it]"
     ]
    },
    {
     "name": "stdout",
     "output_type": "stream",
     "text": [
      "ROUND:031 Global Accuracy: 71.86%\n",
      "ROUND:031     Global Loss: 1.1134\n",
      "####### ROUND 31 END #######\n",
      "\n",
      "Client 18  Accuracy: 91.95%\n",
      "Client 21  Accuracy: 68.35%\n",
      "Client 27  Accuracy: 83.67%\n",
      "Client 28  Accuracy: 86.25%\n",
      "Client 52  Accuracy: 83.92%\n",
      "Client 53  Accuracy: 82.88%\n",
      "Client 57  Accuracy: 87.50%\n",
      "Client 59  Accuracy: 74.58%\n",
      "Client 88  Accuracy: 76.92%\n",
      "Client 97  Accuracy: 79.52%\n"
     ]
    },
    {
     "name": "stderr",
     "output_type": "stream",
     "text": [
      " 64%|██████▍   | 32/50 [03:08<01:37,  5.42s/it]"
     ]
    },
    {
     "name": "stdout",
     "output_type": "stream",
     "text": [
      "ROUND:032 Global Accuracy: 75.68%\n",
      "ROUND:032     Global Loss: 1.0886\n",
      "####### ROUND 32 END #######\n",
      "\n",
      "Client 14  Accuracy: 68.75%\n",
      "Client 38  Accuracy: 86.08%\n",
      "Client 45  Accuracy: 76.71%\n",
      "Client 48  Accuracy: 88.37%\n",
      "Client 50  Accuracy: 81.74%\n",
      "Client 55  Accuracy: 82.31%\n",
      "Client 62  Accuracy: 77.63%\n",
      "Client 75  Accuracy: 82.27%\n",
      "Client 76  Accuracy: 83.56%\n",
      "Client 86  Accuracy: 75.28%\n"
     ]
    },
    {
     "name": "stderr",
     "output_type": "stream",
     "text": [
      " 66%|██████▌   | 33/50 [03:15<01:39,  5.84s/it]"
     ]
    },
    {
     "name": "stdout",
     "output_type": "stream",
     "text": [
      "ROUND:033 Global Accuracy: 73.70%\n",
      "ROUND:033     Global Loss: 1.0430\n",
      "####### ROUND 33 END #######\n",
      "\n",
      "Client 26  Accuracy: 84.13%\n",
      "Client 32  Accuracy: 86.43%\n",
      "Client 35  Accuracy: 71.26%\n",
      "Client 42  Accuracy: 81.67%\n",
      "Client 46  Accuracy: 78.45%\n",
      "Client 47  Accuracy: 76.00%\n",
      "Client 65  Accuracy: 79.81%\n",
      "Client 79  Accuracy: 80.30%\n",
      "Client 87  Accuracy: 87.01%\n",
      "Client 94  Accuracy: 82.61%\n"
     ]
    },
    {
     "name": "stderr",
     "output_type": "stream",
     "text": [
      " 68%|██████▊   | 34/50 [03:22<01:37,  6.12s/it]"
     ]
    },
    {
     "name": "stdout",
     "output_type": "stream",
     "text": [
      "ROUND:034 Global Accuracy: 74.46%\n",
      "ROUND:034     Global Loss: 0.9866\n",
      "####### ROUND 34 END #######\n",
      "\n",
      "Client 0   Accuracy: 82.86%\n",
      "Client 6   Accuracy: 78.12%\n",
      "Client 13  Accuracy: 91.43%\n",
      "Client 19  Accuracy: 91.89%\n",
      "Client 52  Accuracy: 84.92%\n",
      "Client 58  Accuracy: 84.15%\n",
      "Client 69  Accuracy: 86.84%\n",
      "Client 75  Accuracy: 83.69%\n",
      "Client 90  Accuracy: 86.60%\n",
      "Client 98  Accuracy: 83.75%\n"
     ]
    },
    {
     "name": "stderr",
     "output_type": "stream",
     "text": [
      " 70%|███████   | 35/50 [03:29<01:37,  6.49s/it]"
     ]
    },
    {
     "name": "stdout",
     "output_type": "stream",
     "text": [
      "ROUND:035 Global Accuracy: 78.14%\n",
      "ROUND:035     Global Loss: 0.9276\n",
      "####### ROUND 35 END #######\n",
      "\n",
      "Client 18  Accuracy: 95.40%\n",
      "Client 23  Accuracy: 85.29%\n",
      "Client 26  Accuracy: 85.71%\n",
      "Client 30  Accuracy: 85.00%\n",
      "Client 42  Accuracy: 85.00%\n",
      "Client 44  Accuracy: 87.50%\n",
      "Client 47  Accuracy: 78.67%\n",
      "Client 49  Accuracy: 74.36%\n",
      "Client 63  Accuracy: 85.71%\n",
      "Client 79  Accuracy: 83.33%\n"
     ]
    },
    {
     "name": "stderr",
     "output_type": "stream",
     "text": [
      " 72%|███████▏  | 36/50 [03:34<01:26,  6.16s/it]"
     ]
    },
    {
     "name": "stdout",
     "output_type": "stream",
     "text": [
      "ROUND:036 Global Accuracy: 77.66%\n",
      "ROUND:036     Global Loss: 0.9035\n",
      "####### ROUND 36 END #######\n",
      "\n",
      "Client 14  Accuracy: 75.00%\n",
      "Client 29  Accuracy: 87.62%\n",
      "Client 30  Accuracy: 85.00%\n",
      "Client 38  Accuracy: 88.61%\n",
      "Client 40  Accuracy: 92.45%\n",
      "Client 55  Accuracy: 82.31%\n",
      "Client 65  Accuracy: 80.77%\n",
      "Client 77  Accuracy: 83.61%\n",
      "Client 87  Accuracy: 87.66%\n",
      "Client 93  Accuracy: 71.70%\n"
     ]
    },
    {
     "name": "stderr",
     "output_type": "stream",
     "text": [
      " 74%|███████▍  | 37/50 [03:41<01:23,  6.39s/it]"
     ]
    },
    {
     "name": "stdout",
     "output_type": "stream",
     "text": [
      "ROUND:037 Global Accuracy: 79.16%\n",
      "ROUND:037     Global Loss: 0.8676\n",
      "####### ROUND 37 END #######\n",
      "\n",
      "Client 15  Accuracy: 82.69%\n",
      "Client 29  Accuracy: 86.67%\n",
      "Client 36  Accuracy: 88.12%\n",
      "Client 38  Accuracy: 89.87%\n",
      "Client 42  Accuracy: 86.67%\n",
      "Client 51  Accuracy: 87.27%\n",
      "Client 52  Accuracy: 85.43%\n",
      "Client 69  Accuracy: 86.84%\n",
      "Client 74  Accuracy: 85.37%\n",
      "Client 87  Accuracy: 87.66%\n"
     ]
    },
    {
     "name": "stderr",
     "output_type": "stream",
     "text": [
      " 76%|███████▌  | 38/50 [03:48<01:17,  6.50s/it]"
     ]
    },
    {
     "name": "stdout",
     "output_type": "stream",
     "text": [
      "ROUND:038 Global Accuracy: 78.32%\n",
      "ROUND:038     Global Loss: 0.8501\n",
      "####### ROUND 38 END #######\n",
      "\n",
      "Client 5   Accuracy: 85.29%\n",
      "Client 7   Accuracy: 82.56%\n",
      "Client 32  Accuracy: 87.44%\n",
      "Client 52  Accuracy: 85.93%\n",
      "Client 54  Accuracy: 70.97%\n",
      "Client 73  Accuracy: 78.63%\n",
      "Client 74  Accuracy: 85.37%\n",
      "Client 77  Accuracy: 83.61%\n",
      "Client 89  Accuracy: 84.51%\n",
      "Client 90  Accuracy: 86.60%\n"
     ]
    },
    {
     "name": "stderr",
     "output_type": "stream",
     "text": [
      " 78%|███████▊  | 39/50 [03:54<01:09,  6.35s/it]"
     ]
    },
    {
     "name": "stdout",
     "output_type": "stream",
     "text": [
      "ROUND:039 Global Accuracy: 79.99%\n",
      "ROUND:039     Global Loss: 0.8172\n",
      "####### ROUND 39 END #######\n",
      "\n",
      "Client 0   Accuracy: 84.29%\n",
      "Client 3   Accuracy: 88.89%\n",
      "Client 7   Accuracy: 83.72%\n",
      "Client 9   Accuracy: 89.04%\n",
      "Client 27  Accuracy: 87.76%\n",
      "Client 31  Accuracy: 87.80%\n",
      "Client 38  Accuracy: 90.51%\n",
      "Client 43  Accuracy: 81.01%\n",
      "Client 54  Accuracy: 72.58%\n",
      "Client 95  Accuracy: 85.88%\n"
     ]
    },
    {
     "name": "stderr",
     "output_type": "stream",
     "text": [
      " 80%|████████  | 40/50 [04:00<01:02,  6.20s/it]"
     ]
    },
    {
     "name": "stdout",
     "output_type": "stream",
     "text": [
      "ROUND:040 Global Accuracy: 79.24%\n",
      "ROUND:040     Global Loss: 0.7893\n",
      "####### ROUND 40 END #######\n",
      "\n",
      "Client 8   Accuracy: 83.44%\n",
      "Client 22  Accuracy: 83.61%\n",
      "Client 34  Accuracy: 90.91%\n",
      "Client 54  Accuracy: 72.58%\n",
      "Client 58  Accuracy: 86.59%\n",
      "Client 68  Accuracy: 88.89%\n",
      "Client 73  Accuracy: 79.49%\n",
      "Client 76  Accuracy: 84.93%\n",
      "Client 91  Accuracy: 81.33%\n",
      "Client 94  Accuracy: 86.96%\n"
     ]
    },
    {
     "name": "stderr",
     "output_type": "stream",
     "text": [
      " 82%|████████▏ | 41/50 [04:05<00:53,  5.91s/it]"
     ]
    },
    {
     "name": "stdout",
     "output_type": "stream",
     "text": [
      "ROUND:041 Global Accuracy: 78.08%\n",
      "ROUND:041     Global Loss: 0.7850\n",
      "####### ROUND 41 END #######\n",
      "\n",
      "Client 7   Accuracy: 83.72%\n",
      "Client 9   Accuracy: 89.73%\n",
      "Client 14  Accuracy: 85.42%\n",
      "Client 27  Accuracy: 87.76%\n",
      "Client 31  Accuracy: 89.43%\n",
      "Client 32  Accuracy: 88.44%\n",
      "Client 52  Accuracy: 86.43%\n",
      "Client 54  Accuracy: 74.19%\n",
      "Client 61  Accuracy: 90.16%\n",
      "Client 76  Accuracy: 84.93%\n"
     ]
    },
    {
     "name": "stderr",
     "output_type": "stream",
     "text": [
      " 84%|████████▍ | 42/50 [04:11<00:47,  5.92s/it]"
     ]
    },
    {
     "name": "stdout",
     "output_type": "stream",
     "text": [
      "ROUND:042 Global Accuracy: 81.00%\n",
      "ROUND:042     Global Loss: 0.7466\n",
      "####### ROUND 42 END #######\n",
      "\n",
      "Client 7   Accuracy: 83.72%\n",
      "Client 11  Accuracy: 77.78%\n",
      "Client 17  Accuracy: 84.38%\n",
      "Client 18  Accuracy: 95.40%\n",
      "Client 28  Accuracy: 87.50%\n",
      "Client 39  Accuracy: 84.78%\n",
      "Client 65  Accuracy: 83.65%\n",
      "Client 70  Accuracy: 92.42%\n",
      "Client 73  Accuracy: 80.34%\n",
      "Client 86  Accuracy: 78.65%\n"
     ]
    },
    {
     "name": "stderr",
     "output_type": "stream",
     "text": [
      " 86%|████████▌ | 43/50 [04:16<00:39,  5.62s/it]"
     ]
    },
    {
     "name": "stdout",
     "output_type": "stream",
     "text": [
      "ROUND:043 Global Accuracy: 80.76%\n",
      "ROUND:043     Global Loss: 0.7315\n",
      "####### ROUND 43 END #######\n",
      "\n",
      "Client 0   Accuracy: 87.14%\n",
      "Client 17  Accuracy: 85.94%\n",
      "Client 27  Accuracy: 89.80%\n",
      "Client 29  Accuracy: 86.67%\n",
      "Client 33  Accuracy: 87.70%\n",
      "Client 34  Accuracy: 91.61%\n",
      "Client 41  Accuracy: 80.36%\n",
      "Client 53  Accuracy: 90.09%\n",
      "Client 68  Accuracy: 88.89%\n",
      "Client 80  Accuracy: 87.23%\n"
     ]
    },
    {
     "name": "stderr",
     "output_type": "stream",
     "text": [
      " 88%|████████▊ | 44/50 [04:21<00:32,  5.43s/it]"
     ]
    },
    {
     "name": "stdout",
     "output_type": "stream",
     "text": [
      "ROUND:044 Global Accuracy: 80.01%\n",
      "ROUND:044     Global Loss: 0.7305\n",
      "####### ROUND 44 END #######\n",
      "\n",
      "Client 0   Accuracy: 88.57%\n",
      "Client 4   Accuracy: 87.80%\n",
      "Client 50  Accuracy: 82.61%\n",
      "Client 53  Accuracy: 88.29%\n",
      "Client 67  Accuracy: 90.24%\n",
      "Client 68  Accuracy: 88.89%\n",
      "Client 70  Accuracy: 93.94%\n",
      "Client 76  Accuracy: 84.93%\n",
      "Client 84  Accuracy: 95.59%\n",
      "Client 91  Accuracy: 81.33%\n"
     ]
    },
    {
     "name": "stderr",
     "output_type": "stream",
     "text": [
      " 90%|█████████ | 45/50 [04:25<00:25,  5.11s/it]"
     ]
    },
    {
     "name": "stdout",
     "output_type": "stream",
     "text": [
      "ROUND:045 Global Accuracy: 80.48%\n",
      "ROUND:045     Global Loss: 0.7104\n",
      "####### ROUND 45 END #######\n",
      "\n",
      "Client 10  Accuracy: 87.23%\n",
      "Client 11  Accuracy: 77.78%\n",
      "Client 12  Accuracy: 92.86%\n",
      "Client 14  Accuracy: 87.50%\n",
      "Client 27  Accuracy: 87.76%\n",
      "Client 40  Accuracy: 93.40%\n",
      "Client 46  Accuracy: 86.21%\n",
      "Client 48  Accuracy: 90.70%\n",
      "Client 64  Accuracy: 80.45%\n",
      "Client 68  Accuracy: 88.89%\n"
     ]
    },
    {
     "name": "stderr",
     "output_type": "stream",
     "text": [
      " 92%|█████████▏| 46/50 [04:30<00:19,  4.89s/it]"
     ]
    },
    {
     "name": "stdout",
     "output_type": "stream",
     "text": [
      "ROUND:046 Global Accuracy: 83.04%\n",
      "ROUND:046     Global Loss: 0.6808\n",
      "####### ROUND 46 END #######\n",
      "\n",
      "Client 9   Accuracy: 90.41%\n",
      "Client 13  Accuracy: 93.57%\n",
      "Client 15  Accuracy: 90.38%\n",
      "Client 18  Accuracy: 96.55%\n",
      "Client 28  Accuracy: 88.75%\n",
      "Client 35  Accuracy: 86.21%\n",
      "Client 40  Accuracy: 93.40%\n",
      "Client 71  Accuracy: 82.64%\n",
      "Client 93  Accuracy: 73.58%\n",
      "Client 97  Accuracy: 84.34%\n"
     ]
    },
    {
     "name": "stderr",
     "output_type": "stream",
     "text": [
      " 94%|█████████▍| 47/50 [04:35<00:15,  5.12s/it]"
     ]
    },
    {
     "name": "stdout",
     "output_type": "stream",
     "text": [
      "ROUND:047 Global Accuracy: 83.32%\n",
      "ROUND:047     Global Loss: 0.6701\n",
      "####### ROUND 47 END #######\n",
      "\n",
      "Client 4   Accuracy: 87.80%\n",
      "Client 13  Accuracy: 94.29%\n",
      "Client 20  Accuracy: 84.21%\n",
      "Client 28  Accuracy: 90.00%\n",
      "Client 39  Accuracy: 84.78%\n",
      "Client 44  Accuracy: 87.50%\n",
      "Client 49  Accuracy: 84.62%\n",
      "Client 55  Accuracy: 83.67%\n",
      "Client 84  Accuracy: 95.59%\n",
      "Client 94  Accuracy: 86.96%\n"
     ]
    },
    {
     "name": "stderr",
     "output_type": "stream",
     "text": [
      " 96%|█████████▌| 48/50 [04:41<00:10,  5.21s/it]"
     ]
    },
    {
     "name": "stdout",
     "output_type": "stream",
     "text": [
      "ROUND:048 Global Accuracy: 82.00%\n",
      "ROUND:048     Global Loss: 0.6655\n",
      "####### ROUND 48 END #######\n",
      "\n",
      "Client 18  Accuracy: 96.55%\n",
      "Client 33  Accuracy: 89.34%\n",
      "Client 58  Accuracy: 87.80%\n",
      "Client 68  Accuracy: 88.89%\n",
      "Client 74  Accuracy: 89.02%\n",
      "Client 75  Accuracy: 88.65%\n",
      "Client 79  Accuracy: 90.91%\n",
      "Client 86  Accuracy: 78.65%\n",
      "Client 89  Accuracy: 88.73%\n",
      "Client 96  Accuracy: 90.80%\n"
     ]
    },
    {
     "name": "stderr",
     "output_type": "stream",
     "text": [
      " 98%|█████████▊| 49/50 [04:47<00:05,  5.38s/it]"
     ]
    },
    {
     "name": "stdout",
     "output_type": "stream",
     "text": [
      "ROUND:049 Global Accuracy: 83.62%\n",
      "ROUND:049     Global Loss: 0.6464\n",
      "####### ROUND 49 END #######\n",
      "\n",
      "Client 0   Accuracy: 91.43%\n",
      "Client 32  Accuracy: 87.44%\n",
      "Client 33  Accuracy: 89.34%\n",
      "Client 37  Accuracy: 91.76%\n",
      "Client 47  Accuracy: 86.67%\n",
      "Client 49  Accuracy: 87.18%\n",
      "Client 50  Accuracy: 82.61%\n",
      "Client 53  Accuracy: 88.29%\n",
      "Client 66  Accuracy: 83.51%\n",
      "Client 91  Accuracy: 81.33%\n"
     ]
    },
    {
     "name": "stderr",
     "output_type": "stream",
     "text": [
      "100%|██████████| 50/50 [04:53<00:00,  5.86s/it]"
     ]
    },
    {
     "name": "stdout",
     "output_type": "stream",
     "text": [
      "ROUND:050 Global Accuracy: 81.26%\n",
      "ROUND:050     Global Loss: 0.6582\n",
      "####### ROUND 50 END #######\n",
      "\n",
      "Experiment: Template|MLP|MNIST|SGD|0.01|0.0001|128|0|10|False|100|50|0.5|0.1|NaiveClient|FedAvg|1.0\n"
     ]
    },
    {
     "name": "stderr",
     "output_type": "stream",
     "text": [
      "\n",
      " 19%|█▉        | 19/100 [00:00<00:00, 121.92it/s]"
     ]
    },
    {
     "name": "stdout",
     "output_type": "stream",
     "text": [
      "Initializing 100 clients\n"
     ]
    },
    {
     "name": "stderr",
     "output_type": "stream",
     "text": [
      "100%|██████████| 100/100 [00:00<00:00, 234.58it/s]\n",
      "  0%|          | 0/50 [00:00<?, ?it/s]"
     ]
    },
    {
     "name": "stdout",
     "output_type": "stream",
     "text": [
      "Client 6   Accuracy: 32.81%\n",
      "Client 10  Accuracy: 51.06%\n",
      "Client 17  Accuracy: 15.62%\n",
      "Client 24  Accuracy: 22.22%\n",
      "Client 33  Accuracy: 30.33%\n",
      "Client 42  Accuracy: 51.67%\n",
      "Client 75  Accuracy: 47.52%\n",
      "Client 78  Accuracy: 37.56%\n",
      "Client 91  Accuracy: 33.33%\n",
      "Client 95  Accuracy: 28.24%\n"
     ]
    },
    {
     "name": "stderr",
     "output_type": "stream",
     "text": [
      "  2%|▏         | 1/50 [00:05<04:47,  5.87s/it]"
     ]
    },
    {
     "name": "stdout",
     "output_type": "stream",
     "text": [
      "ROUND:001 Global Accuracy: 17.36%\n",
      "ROUND:001     Global Loss: 2.2909\n",
      "####### ROUND 1 END #######\n",
      "\n",
      "Client 6   Accuracy: 34.38%\n",
      "Client 8   Accuracy: 31.13%\n",
      "Client 42  Accuracy: 51.67%\n",
      "Client 57  Accuracy: 12.50%\n",
      "Client 64  Accuracy: 47.37%\n",
      "Client 67  Accuracy: 63.41%\n",
      "Client 72  Accuracy: 43.75%\n",
      "Client 78  Accuracy: 37.56%\n",
      "Client 81  Accuracy: 38.83%\n",
      "Client 93  Accuracy: 26.42%\n"
     ]
    },
    {
     "name": "stderr",
     "output_type": "stream",
     "text": [
      "  4%|▍         | 2/50 [00:11<04:32,  5.69s/it]"
     ]
    },
    {
     "name": "stdout",
     "output_type": "stream",
     "text": [
      "ROUND:002 Global Accuracy: 32.04%\n",
      "ROUND:002     Global Loss: 2.2700\n",
      "####### ROUND 2 END #######\n",
      "\n",
      "Client 3   Accuracy: 56.35%\n",
      "Client 19  Accuracy: 24.32%\n",
      "Client 24  Accuracy: 25.93%\n",
      "Client 31  Accuracy: 45.53%\n",
      "Client 46  Accuracy: 34.48%\n",
      "Client 50  Accuracy: 55.65%\n",
      "Client 70  Accuracy: 72.73%\n",
      "Client 75  Accuracy: 47.52%\n",
      "Client 90  Accuracy: 36.08%\n",
      "Client 96  Accuracy: 60.74%\n"
     ]
    },
    {
     "name": "stderr",
     "output_type": "stream",
     "text": [
      "  6%|▌         | 3/50 [00:17<04:38,  5.93s/it]"
     ]
    },
    {
     "name": "stdout",
     "output_type": "stream",
     "text": [
      "ROUND:003 Global Accuracy: 18.15%\n",
      "ROUND:003     Global Loss: 2.2380\n",
      "####### ROUND 3 END #######\n",
      "\n",
      "Client 9   Accuracy: 48.63%\n",
      "Client 22  Accuracy: 49.18%\n",
      "Client 27  Accuracy: 44.90%\n",
      "Client 41  Accuracy: 51.79%\n",
      "Client 42  Accuracy: 51.67%\n",
      "Client 44  Accuracy: 58.33%\n",
      "Client 56  Accuracy: 34.67%\n",
      "Client 59  Accuracy: 32.20%\n",
      "Client 61  Accuracy: 62.30%\n",
      "Client 70  Accuracy: 72.73%\n"
     ]
    },
    {
     "name": "stderr",
     "output_type": "stream",
     "text": [
      "  8%|▊         | 4/50 [00:22<04:04,  5.31s/it]"
     ]
    },
    {
     "name": "stdout",
     "output_type": "stream",
     "text": [
      "ROUND:004 Global Accuracy: 32.55%\n",
      "ROUND:004     Global Loss: 2.2109\n",
      "####### ROUND 4 END #######\n",
      "\n",
      "Client 13  Accuracy: 60.71%\n",
      "Client 18  Accuracy: 56.32%\n",
      "Client 20  Accuracy: 57.89%\n",
      "Client 31  Accuracy: 45.53%\n",
      "Client 39  Accuracy: 48.91%\n",
      "Client 42  Accuracy: 51.67%\n",
      "Client 58  Accuracy: 37.80%\n",
      "Client 77  Accuracy: 40.98%\n",
      "Client 78  Accuracy: 39.91%\n",
      "Client 82  Accuracy: 42.70%\n"
     ]
    },
    {
     "name": "stderr",
     "output_type": "stream",
     "text": [
      " 10%|█         | 5/50 [00:28<04:21,  5.82s/it]"
     ]
    },
    {
     "name": "stdout",
     "output_type": "stream",
     "text": [
      "ROUND:005 Global Accuracy: 28.01%\n",
      "ROUND:005     Global Loss: 2.1479\n",
      "####### ROUND 5 END #######\n",
      "\n",
      "Client 11  Accuracy: 42.22%\n",
      "Client 19  Accuracy: 37.84%\n",
      "Client 24  Accuracy: 37.04%\n",
      "Client 32  Accuracy: 57.29%\n",
      "Client 33  Accuracy: 67.21%\n",
      "Client 46  Accuracy: 43.97%\n",
      "Client 61  Accuracy: 70.49%\n",
      "Client 66  Accuracy: 55.67%\n",
      "Client 82  Accuracy: 44.94%\n",
      "Client 99  Accuracy: 59.26%\n"
     ]
    },
    {
     "name": "stderr",
     "output_type": "stream",
     "text": [
      " 12%|█▏        | 6/50 [00:34<04:12,  5.74s/it]"
     ]
    },
    {
     "name": "stdout",
     "output_type": "stream",
     "text": [
      "ROUND:006 Global Accuracy: 41.68%\n",
      "ROUND:006     Global Loss: 2.0763\n",
      "####### ROUND 6 END #######\n",
      "\n",
      "Client 12  Accuracy: 66.67%\n",
      "Client 16  Accuracy: 59.65%\n",
      "Client 39  Accuracy: 42.39%\n",
      "Client 42  Accuracy: 51.67%\n",
      "Client 47  Accuracy: 58.67%\n",
      "Client 60  Accuracy: 56.00%\n",
      "Client 69  Accuracy: 41.23%\n",
      "Client 70  Accuracy: 72.73%\n",
      "Client 94  Accuracy: 50.00%\n",
      "Client 99  Accuracy: 68.52%\n"
     ]
    },
    {
     "name": "stderr",
     "output_type": "stream",
     "text": [
      " 14%|█▍        | 7/50 [00:39<03:55,  5.47s/it]"
     ]
    },
    {
     "name": "stdout",
     "output_type": "stream",
     "text": [
      "ROUND:007 Global Accuracy: 42.81%\n",
      "ROUND:007     Global Loss: 2.0089\n",
      "####### ROUND 7 END #######\n",
      "\n",
      "Client 2   Accuracy: 68.14%\n",
      "Client 12  Accuracy: 54.76%\n",
      "Client 19  Accuracy: 67.57%\n",
      "Client 47  Accuracy: 58.67%\n",
      "Client 55  Accuracy: 68.03%\n",
      "Client 69  Accuracy: 56.14%\n",
      "Client 75  Accuracy: 68.09%\n",
      "Client 79  Accuracy: 42.42%\n",
      "Client 97  Accuracy: 50.60%\n",
      "Client 99  Accuracy: 72.22%\n"
     ]
    },
    {
     "name": "stderr",
     "output_type": "stream",
     "text": [
      " 16%|█▌        | 8/50 [00:44<03:50,  5.50s/it]"
     ]
    },
    {
     "name": "stdout",
     "output_type": "stream",
     "text": [
      "ROUND:008 Global Accuracy: 49.64%\n",
      "ROUND:008     Global Loss: 1.9243\n",
      "####### ROUND 8 END #######\n",
      "\n",
      "Client 3   Accuracy: 70.63%\n",
      "Client 6   Accuracy: 35.94%\n",
      "Client 51  Accuracy: 69.09%\n",
      "Client 57  Accuracy: 57.50%\n",
      "Client 61  Accuracy: 67.21%\n",
      "Client 69  Accuracy: 59.65%\n",
      "Client 71  Accuracy: 57.02%\n",
      "Client 85  Accuracy: 67.86%\n",
      "Client 93  Accuracy: 58.49%\n",
      "Client 98  Accuracy: 70.00%\n"
     ]
    },
    {
     "name": "stderr",
     "output_type": "stream",
     "text": [
      " 18%|█▊        | 9/50 [00:49<03:33,  5.21s/it]"
     ]
    },
    {
     "name": "stdout",
     "output_type": "stream",
     "text": [
      "ROUND:009 Global Accuracy: 54.24%\n",
      "ROUND:009     Global Loss: 1.8079\n",
      "####### ROUND 9 END #######\n",
      "\n",
      "Client 5   Accuracy: 67.65%\n",
      "Client 9   Accuracy: 73.97%\n",
      "Client 15  Accuracy: 53.85%\n",
      "Client 22  Accuracy: 65.57%\n",
      "Client 55  Accuracy: 76.87%\n",
      "Client 70  Accuracy: 77.27%\n",
      "Client 79  Accuracy: 60.61%\n",
      "Client 88  Accuracy: 61.54%\n",
      "Client 91  Accuracy: 58.67%\n",
      "Client 93  Accuracy: 58.49%\n"
     ]
    },
    {
     "name": "stderr",
     "output_type": "stream",
     "text": [
      " 20%|██        | 10/50 [00:54<03:22,  5.06s/it]"
     ]
    },
    {
     "name": "stdout",
     "output_type": "stream",
     "text": [
      "ROUND:010 Global Accuracy: 61.30%\n",
      "ROUND:010     Global Loss: 1.6953\n",
      "####### ROUND 10 END #######\n",
      "\n",
      "Client 13  Accuracy: 87.14%\n",
      "Client 15  Accuracy: 59.62%\n",
      "Client 17  Accuracy: 70.31%\n",
      "Client 18  Accuracy: 85.06%\n",
      "Client 35  Accuracy: 58.62%\n",
      "Client 39  Accuracy: 64.13%\n",
      "Client 50  Accuracy: 66.96%\n",
      "Client 52  Accuracy: 81.91%\n",
      "Client 78  Accuracy: 77.00%\n",
      "Client 80  Accuracy: 80.85%\n"
     ]
    },
    {
     "name": "stderr",
     "output_type": "stream",
     "text": [
      " 22%|██▏       | 11/50 [01:00<03:31,  5.42s/it]"
     ]
    },
    {
     "name": "stdout",
     "output_type": "stream",
     "text": [
      "ROUND:011 Global Accuracy: 66.43%\n",
      "ROUND:011     Global Loss: 1.5613\n",
      "####### ROUND 11 END #######\n",
      "\n",
      "Client 4   Accuracy: 78.05%\n",
      "Client 15  Accuracy: 59.62%\n",
      "Client 41  Accuracy: 75.00%\n",
      "Client 62  Accuracy: 76.32%\n",
      "Client 66  Accuracy: 74.23%\n",
      "Client 73  Accuracy: 70.94%\n",
      "Client 76  Accuracy: 73.97%\n",
      "Client 81  Accuracy: 82.52%\n",
      "Client 85  Accuracy: 82.14%\n",
      "Client 94  Accuracy: 78.26%\n"
     ]
    },
    {
     "name": "stderr",
     "output_type": "stream",
     "text": [
      " 24%|██▍       | 12/50 [01:04<03:12,  5.06s/it]"
     ]
    },
    {
     "name": "stdout",
     "output_type": "stream",
     "text": [
      "ROUND:012 Global Accuracy: 62.34%\n",
      "ROUND:012     Global Loss: 1.4541\n",
      "####### ROUND 12 END #######\n",
      "\n",
      "Client 25  Accuracy: 72.41%\n",
      "Client 26  Accuracy: 76.19%\n",
      "Client 33  Accuracy: 73.77%\n",
      "Client 36  Accuracy: 84.16%\n",
      "Client 38  Accuracy: 83.54%\n",
      "Client 49  Accuracy: 66.67%\n",
      "Client 75  Accuracy: 80.85%\n",
      "Client 78  Accuracy: 83.10%\n",
      "Client 85  Accuracy: 78.57%\n",
      "Client 97  Accuracy: 75.90%\n"
     ]
    },
    {
     "name": "stderr",
     "output_type": "stream",
     "text": [
      " 26%|██▌       | 13/50 [01:10<03:18,  5.37s/it]"
     ]
    },
    {
     "name": "stdout",
     "output_type": "stream",
     "text": [
      "ROUND:013 Global Accuracy: 71.18%\n",
      "ROUND:013     Global Loss: 1.3091\n",
      "####### ROUND 13 END #######\n",
      "\n",
      "Client 4   Accuracy: 82.93%\n",
      "Client 6   Accuracy: 71.88%\n",
      "Client 12  Accuracy: 78.57%\n",
      "Client 36  Accuracy: 86.14%\n",
      "Client 39  Accuracy: 76.09%\n",
      "Client 48  Accuracy: 81.40%\n",
      "Client 55  Accuracy: 82.31%\n",
      "Client 60  Accuracy: 78.00%\n",
      "Client 61  Accuracy: 85.25%\n",
      "Client 83  Accuracy: 72.73%\n"
     ]
    },
    {
     "name": "stderr",
     "output_type": "stream",
     "text": [
      " 28%|██▊       | 14/50 [01:15<03:07,  5.20s/it]"
     ]
    },
    {
     "name": "stdout",
     "output_type": "stream",
     "text": [
      "ROUND:014 Global Accuracy: 75.13%\n",
      "ROUND:014     Global Loss: 1.2093\n",
      "####### ROUND 14 END #######\n",
      "\n",
      "Client 2   Accuracy: 84.07%\n",
      "Client 6   Accuracy: 78.12%\n",
      "Client 13  Accuracy: 90.71%\n",
      "Client 14  Accuracy: 68.75%\n",
      "Client 18  Accuracy: 91.95%\n",
      "Client 22  Accuracy: 73.77%\n",
      "Client 41  Accuracy: 76.79%\n",
      "Client 47  Accuracy: 77.33%\n",
      "Client 82  Accuracy: 78.65%\n",
      "Client 87  Accuracy: 86.36%\n"
     ]
    },
    {
     "name": "stderr",
     "output_type": "stream",
     "text": [
      " 30%|███       | 15/50 [01:20<03:03,  5.25s/it]"
     ]
    },
    {
     "name": "stdout",
     "output_type": "stream",
     "text": [
      "ROUND:015 Global Accuracy: 68.06%\n",
      "ROUND:015     Global Loss: 1.1271\n",
      "####### ROUND 15 END #######\n",
      "\n",
      "Client 0   Accuracy: 81.43%\n",
      "Client 16  Accuracy: 83.33%\n",
      "Client 32  Accuracy: 83.42%\n",
      "Client 36  Accuracy: 87.13%\n",
      "Client 37  Accuracy: 83.53%\n",
      "Client 68  Accuracy: 84.72%\n",
      "Client 70  Accuracy: 87.88%\n",
      "Client 78  Accuracy: 83.10%\n",
      "Client 87  Accuracy: 87.01%\n",
      "Client 96  Accuracy: 83.44%\n"
     ]
    },
    {
     "name": "stderr",
     "output_type": "stream",
     "text": [
      " 32%|███▏      | 16/50 [01:27<03:15,  5.76s/it]"
     ]
    },
    {
     "name": "stdout",
     "output_type": "stream",
     "text": [
      "ROUND:016 Global Accuracy: 68.76%\n",
      "ROUND:016     Global Loss: 1.0400\n",
      "####### ROUND 16 END #######\n",
      "\n",
      "Client 3   Accuracy: 89.68%\n",
      "Client 13  Accuracy: 92.14%\n",
      "Client 35  Accuracy: 74.71%\n",
      "Client 38  Accuracy: 87.97%\n",
      "Client 48  Accuracy: 88.37%\n",
      "Client 51  Accuracy: 83.64%\n",
      "Client 55  Accuracy: 83.67%\n",
      "Client 56  Accuracy: 72.00%\n",
      "Client 61  Accuracy: 88.52%\n",
      "Client 68  Accuracy: 86.11%\n"
     ]
    },
    {
     "name": "stderr",
     "output_type": "stream",
     "text": [
      " 34%|███▍      | 17/50 [01:33<03:10,  5.79s/it]"
     ]
    },
    {
     "name": "stdout",
     "output_type": "stream",
     "text": [
      "ROUND:017 Global Accuracy: 75.01%\n",
      "ROUND:017     Global Loss: 0.9375\n",
      "####### ROUND 17 END #######\n",
      "\n",
      "Client 1   Accuracy: 81.08%\n",
      "Client 33  Accuracy: 86.07%\n",
      "Client 38  Accuracy: 88.61%\n",
      "Client 45  Accuracy: 79.45%\n",
      "Client 69  Accuracy: 87.72%\n",
      "Client 71  Accuracy: 77.69%\n",
      "Client 74  Accuracy: 85.37%\n",
      "Client 85  Accuracy: 89.29%\n",
      "Client 86  Accuracy: 79.78%\n",
      "Client 95  Accuracy: 85.88%\n"
     ]
    },
    {
     "name": "stderr",
     "output_type": "stream",
     "text": [
      " 36%|███▌      | 18/50 [01:39<03:03,  5.72s/it]"
     ]
    },
    {
     "name": "stdout",
     "output_type": "stream",
     "text": [
      "ROUND:018 Global Accuracy: 78.78%\n",
      "ROUND:018     Global Loss: 0.8723\n",
      "####### ROUND 18 END #######\n",
      "\n",
      "Client 4   Accuracy: 85.37%\n",
      "Client 7   Accuracy: 82.56%\n",
      "Client 34  Accuracy: 90.91%\n",
      "Client 38  Accuracy: 90.51%\n",
      "Client 58  Accuracy: 87.80%\n",
      "Client 63  Accuracy: 83.81%\n",
      "Client 64  Accuracy: 78.95%\n",
      "Client 81  Accuracy: 87.38%\n",
      "Client 85  Accuracy: 92.86%\n",
      "Client 97  Accuracy: 81.93%\n"
     ]
    },
    {
     "name": "stderr",
     "output_type": "stream",
     "text": [
      " 38%|███▊      | 19/50 [01:44<02:58,  5.75s/it]"
     ]
    },
    {
     "name": "stdout",
     "output_type": "stream",
     "text": [
      "ROUND:019 Global Accuracy: 77.90%\n",
      "ROUND:019     Global Loss: 0.8306\n",
      "####### ROUND 19 END #######\n",
      "\n",
      "Client 12  Accuracy: 85.71%\n",
      "Client 20  Accuracy: 84.21%\n",
      "Client 29  Accuracy: 86.67%\n",
      "Client 31  Accuracy: 88.62%\n",
      "Client 37  Accuracy: 89.41%\n",
      "Client 48  Accuracy: 88.37%\n",
      "Client 67  Accuracy: 92.68%\n",
      "Client 68  Accuracy: 88.89%\n",
      "Client 78  Accuracy: 85.45%\n",
      "Client 81  Accuracy: 87.38%\n"
     ]
    },
    {
     "name": "stderr",
     "output_type": "stream",
     "text": [
      " 40%|████      | 20/50 [01:51<02:55,  5.85s/it]"
     ]
    },
    {
     "name": "stdout",
     "output_type": "stream",
     "text": [
      "ROUND:020 Global Accuracy: 81.55%\n",
      "ROUND:020     Global Loss: 0.7669\n",
      "####### ROUND 20 END #######\n",
      "\n",
      "Client 6   Accuracy: 85.94%\n",
      "Client 8   Accuracy: 86.09%\n",
      "Client 16  Accuracy: 87.72%\n",
      "Client 18  Accuracy: 95.40%\n",
      "Client 36  Accuracy: 89.11%\n",
      "Client 57  Accuracy: 90.00%\n",
      "Client 66  Accuracy: 84.54%\n",
      "Client 68  Accuracy: 88.89%\n",
      "Client 88  Accuracy: 84.62%\n",
      "Client 95  Accuracy: 85.88%\n"
     ]
    },
    {
     "name": "stderr",
     "output_type": "stream",
     "text": [
      " 42%|████▏     | 21/50 [01:56<02:43,  5.63s/it]"
     ]
    },
    {
     "name": "stdout",
     "output_type": "stream",
     "text": [
      "ROUND:021 Global Accuracy: 81.78%\n",
      "ROUND:021     Global Loss: 0.7402\n",
      "####### ROUND 21 END #######\n",
      "\n",
      "Client 14  Accuracy: 85.42%\n",
      "Client 30  Accuracy: 87.50%\n",
      "Client 37  Accuracy: 90.59%\n",
      "Client 44  Accuracy: 87.50%\n",
      "Client 45  Accuracy: 80.82%\n",
      "Client 47  Accuracy: 82.67%\n",
      "Client 49  Accuracy: 84.62%\n",
      "Client 55  Accuracy: 85.71%\n",
      "Client 64  Accuracy: 80.45%\n",
      "Client 91  Accuracy: 82.67%\n"
     ]
    },
    {
     "name": "stderr",
     "output_type": "stream",
     "text": [
      " 44%|████▍     | 22/50 [02:00<02:29,  5.35s/it]"
     ]
    },
    {
     "name": "stdout",
     "output_type": "stream",
     "text": [
      "ROUND:022 Global Accuracy: 80.72%\n",
      "ROUND:022     Global Loss: 0.7184\n",
      "####### ROUND 22 END #######\n",
      "\n",
      "Client 6   Accuracy: 89.06%\n",
      "Client 7   Accuracy: 83.72%\n",
      "Client 26  Accuracy: 90.48%\n",
      "Client 38  Accuracy: 93.04%\n",
      "Client 43  Accuracy: 83.54%\n",
      "Client 44  Accuracy: 87.50%\n",
      "Client 72  Accuracy: 88.75%\n",
      "Client 73  Accuracy: 84.62%\n",
      "Client 78  Accuracy: 85.92%\n",
      "Client 89  Accuracy: 88.73%\n"
     ]
    },
    {
     "name": "stderr",
     "output_type": "stream",
     "text": [
      " 46%|████▌     | 23/50 [02:07<02:32,  5.66s/it]"
     ]
    },
    {
     "name": "stdout",
     "output_type": "stream",
     "text": [
      "ROUND:023 Global Accuracy: 81.74%\n",
      "ROUND:023     Global Loss: 0.6829\n",
      "####### ROUND 23 END #######\n",
      "\n",
      "Client 3   Accuracy: 91.27%\n",
      "Client 4   Accuracy: 87.80%\n",
      "Client 16  Accuracy: 91.23%\n",
      "Client 18  Accuracy: 97.70%\n",
      "Client 21  Accuracy: 78.48%\n",
      "Client 31  Accuracy: 91.06%\n",
      "Client 47  Accuracy: 85.33%\n",
      "Client 71  Accuracy: 83.47%\n",
      "Client 84  Accuracy: 95.59%\n",
      "Client 87  Accuracy: 89.61%\n"
     ]
    },
    {
     "name": "stderr",
     "output_type": "stream",
     "text": [
      " 48%|████▊     | 24/50 [02:14<02:38,  6.08s/it]"
     ]
    },
    {
     "name": "stdout",
     "output_type": "stream",
     "text": [
      "ROUND:024 Global Accuracy: 82.38%\n",
      "ROUND:024     Global Loss: 0.6551\n",
      "####### ROUND 24 END #######\n",
      "\n",
      "Client 0   Accuracy: 91.43%\n",
      "Client 2   Accuracy: 86.73%\n",
      "Client 3   Accuracy: 92.06%\n",
      "Client 12  Accuracy: 92.86%\n",
      "Client 36  Accuracy: 90.10%\n",
      "Client 39  Accuracy: 86.96%\n",
      "Client 44  Accuracy: 87.50%\n",
      "Client 46  Accuracy: 85.34%\n",
      "Client 77  Accuracy: 90.16%\n",
      "Client 98  Accuracy: 90.00%\n"
     ]
    },
    {
     "name": "stderr",
     "output_type": "stream",
     "text": [
      " 50%|█████     | 25/50 [02:20<02:31,  6.07s/it]"
     ]
    },
    {
     "name": "stdout",
     "output_type": "stream",
     "text": [
      "ROUND:025 Global Accuracy: 84.53%\n",
      "ROUND:025     Global Loss: 0.6259\n",
      "####### ROUND 25 END #######\n",
      "\n",
      "Client 18  Accuracy: 97.70%\n",
      "Client 32  Accuracy: 87.94%\n",
      "Client 42  Accuracy: 86.67%\n",
      "Client 53  Accuracy: 89.19%\n",
      "Client 58  Accuracy: 90.24%\n",
      "Client 59  Accuracy: 84.75%\n",
      "Client 70  Accuracy: 93.94%\n",
      "Client 74  Accuracy: 90.24%\n",
      "Client 76  Accuracy: 84.93%\n",
      "Client 97  Accuracy: 85.54%\n"
     ]
    },
    {
     "name": "stderr",
     "output_type": "stream",
     "text": [
      " 52%|█████▏    | 26/50 [02:26<02:28,  6.18s/it]"
     ]
    },
    {
     "name": "stdout",
     "output_type": "stream",
     "text": [
      "ROUND:026 Global Accuracy: 82.73%\n",
      "ROUND:026     Global Loss: 0.6388\n",
      "####### ROUND 26 END #######\n",
      "\n",
      "Client 0   Accuracy: 91.43%\n",
      "Client 16  Accuracy: 92.98%\n",
      "Client 45  Accuracy: 83.56%\n",
      "Client 46  Accuracy: 86.21%\n",
      "Client 51  Accuracy: 92.73%\n",
      "Client 60  Accuracy: 84.00%\n",
      "Client 63  Accuracy: 86.67%\n",
      "Client 74  Accuracy: 90.24%\n",
      "Client 97  Accuracy: 84.34%\n",
      "Client 99  Accuracy: 89.81%\n"
     ]
    },
    {
     "name": "stderr",
     "output_type": "stream",
     "text": [
      " 54%|█████▍    | 27/50 [02:33<02:23,  6.25s/it]"
     ]
    },
    {
     "name": "stdout",
     "output_type": "stream",
     "text": [
      "ROUND:027 Global Accuracy: 84.80%\n",
      "ROUND:027     Global Loss: 0.5922\n",
      "####### ROUND 27 END #######\n",
      "\n",
      "Client 14  Accuracy: 91.67%\n",
      "Client 16  Accuracy: 92.98%\n",
      "Client 18  Accuracy: 96.55%\n",
      "Client 41  Accuracy: 85.71%\n",
      "Client 49  Accuracy: 87.18%\n",
      "Client 63  Accuracy: 85.71%\n",
      "Client 70  Accuracy: 93.94%\n",
      "Client 76  Accuracy: 87.67%\n",
      "Client 85  Accuracy: 92.86%\n",
      "Client 86  Accuracy: 83.15%\n"
     ]
    },
    {
     "name": "stderr",
     "output_type": "stream",
     "text": [
      " 56%|█████▌    | 28/50 [02:38<02:10,  5.92s/it]"
     ]
    },
    {
     "name": "stdout",
     "output_type": "stream",
     "text": [
      "ROUND:028 Global Accuracy: 84.96%\n",
      "ROUND:028     Global Loss: 0.5840\n",
      "####### ROUND 28 END #######\n",
      "\n",
      "Client 0   Accuracy: 90.00%\n",
      "Client 7   Accuracy: 87.21%\n",
      "Client 10  Accuracy: 88.30%\n",
      "Client 36  Accuracy: 92.08%\n",
      "Client 41  Accuracy: 85.71%\n",
      "Client 47  Accuracy: 86.67%\n",
      "Client 51  Accuracy: 90.91%\n",
      "Client 83  Accuracy: 81.82%\n",
      "Client 85  Accuracy: 92.86%\n",
      "Client 86  Accuracy: 84.27%\n"
     ]
    },
    {
     "name": "stderr",
     "output_type": "stream",
     "text": [
      " 58%|█████▊    | 29/50 [02:43<02:02,  5.81s/it]"
     ]
    },
    {
     "name": "stdout",
     "output_type": "stream",
     "text": [
      "ROUND:029 Global Accuracy: 83.91%\n",
      "ROUND:029     Global Loss: 0.5842\n",
      "####### ROUND 29 END #######\n",
      "\n",
      "Client 4   Accuracy: 90.24%\n",
      "Client 5   Accuracy: 89.71%\n",
      "Client 11  Accuracy: 77.78%\n",
      "Client 14  Accuracy: 93.75%\n",
      "Client 46  Accuracy: 87.07%\n",
      "Client 67  Accuracy: 90.24%\n",
      "Client 69  Accuracy: 91.23%\n",
      "Client 91  Accuracy: 86.67%\n",
      "Client 93  Accuracy: 83.02%\n",
      "Client 98  Accuracy: 90.00%\n"
     ]
    },
    {
     "name": "stderr",
     "output_type": "stream",
     "text": [
      " 60%|██████    | 30/50 [02:48<01:51,  5.57s/it]"
     ]
    },
    {
     "name": "stdout",
     "output_type": "stream",
     "text": [
      "ROUND:030 Global Accuracy: 85.63%\n",
      "ROUND:030     Global Loss: 0.5569\n",
      "####### ROUND 30 END #######\n",
      "\n",
      "Client 5   Accuracy: 89.71%\n",
      "Client 28  Accuracy: 91.25%\n",
      "Client 43  Accuracy: 87.34%\n",
      "Client 44  Accuracy: 87.50%\n",
      "Client 65  Accuracy: 88.46%\n",
      "Client 73  Accuracy: 89.74%\n",
      "Client 83  Accuracy: 80.68%\n",
      "Client 92  Accuracy: 87.88%\n",
      "Client 95  Accuracy: 87.06%\n",
      "Client 98  Accuracy: 90.00%\n"
     ]
    },
    {
     "name": "stderr",
     "output_type": "stream",
     "text": [
      " 62%|██████▏   | 31/50 [02:54<01:48,  5.69s/it]"
     ]
    },
    {
     "name": "stdout",
     "output_type": "stream",
     "text": [
      "ROUND:031 Global Accuracy: 85.73%\n",
      "ROUND:031     Global Loss: 0.5379\n",
      "####### ROUND 31 END #######\n",
      "\n",
      "Client 18  Accuracy: 97.70%\n",
      "Client 21  Accuracy: 79.75%\n",
      "Client 27  Accuracy: 91.84%\n",
      "Client 28  Accuracy: 91.25%\n",
      "Client 52  Accuracy: 90.45%\n",
      "Client 53  Accuracy: 86.49%\n",
      "Client 57  Accuracy: 92.50%\n",
      "Client 59  Accuracy: 88.14%\n",
      "Client 88  Accuracy: 84.62%\n",
      "Client 97  Accuracy: 86.75%\n"
     ]
    },
    {
     "name": "stderr",
     "output_type": "stream",
     "text": [
      " 64%|██████▍   | 32/50 [03:00<01:44,  5.80s/it]"
     ]
    },
    {
     "name": "stdout",
     "output_type": "stream",
     "text": [
      "ROUND:032 Global Accuracy: 85.51%\n",
      "ROUND:032     Global Loss: 0.5434\n",
      "####### ROUND 32 END #######\n",
      "\n",
      "Client 14  Accuracy: 93.75%\n",
      "Client 38  Accuracy: 94.30%\n",
      "Client 45  Accuracy: 86.30%\n",
      "Client 48  Accuracy: 93.02%\n",
      "Client 50  Accuracy: 86.09%\n",
      "Client 55  Accuracy: 89.80%\n",
      "Client 62  Accuracy: 86.84%\n",
      "Client 75  Accuracy: 90.78%\n",
      "Client 76  Accuracy: 87.67%\n",
      "Client 86  Accuracy: 84.27%\n"
     ]
    },
    {
     "name": "stderr",
     "output_type": "stream",
     "text": [
      " 66%|██████▌   | 33/50 [03:07<01:43,  6.11s/it]"
     ]
    },
    {
     "name": "stdout",
     "output_type": "stream",
     "text": [
      "ROUND:033 Global Accuracy: 85.31%\n",
      "ROUND:033     Global Loss: 0.5341\n",
      "####### ROUND 33 END #######\n",
      "\n",
      "Client 26  Accuracy: 92.06%\n",
      "Client 32  Accuracy: 89.95%\n",
      "Client 35  Accuracy: 90.80%\n",
      "Client 42  Accuracy: 90.00%\n",
      "Client 46  Accuracy: 87.07%\n",
      "Client 47  Accuracy: 90.67%\n",
      "Client 65  Accuracy: 89.42%\n",
      "Client 79  Accuracy: 93.94%\n",
      "Client 87  Accuracy: 90.91%\n",
      "Client 94  Accuracy: 86.96%\n"
     ]
    },
    {
     "name": "stderr",
     "output_type": "stream",
     "text": [
      " 68%|██████▊   | 34/50 [03:14<01:41,  6.33s/it]"
     ]
    },
    {
     "name": "stdout",
     "output_type": "stream",
     "text": [
      "ROUND:034 Global Accuracy: 85.95%\n",
      "ROUND:034     Global Loss: 0.5149\n",
      "####### ROUND 34 END #######\n",
      "\n",
      "Client 0   Accuracy: 92.86%\n",
      "Client 6   Accuracy: 87.50%\n",
      "Client 13  Accuracy: 96.43%\n",
      "Client 19  Accuracy: 91.89%\n",
      "Client 52  Accuracy: 91.96%\n",
      "Client 58  Accuracy: 92.68%\n",
      "Client 69  Accuracy: 92.98%\n",
      "Client 75  Accuracy: 90.78%\n",
      "Client 90  Accuracy: 90.72%\n",
      "Client 98  Accuracy: 90.00%\n"
     ]
    },
    {
     "name": "stderr",
     "output_type": "stream",
     "text": [
      " 70%|███████   | 35/50 [03:22<01:39,  6.64s/it]"
     ]
    },
    {
     "name": "stdout",
     "output_type": "stream",
     "text": [
      "ROUND:035 Global Accuracy: 87.31%\n",
      "ROUND:035     Global Loss: 0.4880\n",
      "####### ROUND 35 END #######\n",
      "\n",
      "Client 18  Accuracy: 97.70%\n",
      "Client 23  Accuracy: 91.91%\n",
      "Client 26  Accuracy: 93.65%\n",
      "Client 30  Accuracy: 92.50%\n",
      "Client 42  Accuracy: 90.00%\n",
      "Client 44  Accuracy: 89.58%\n",
      "Client 47  Accuracy: 90.67%\n",
      "Client 49  Accuracy: 89.74%\n",
      "Client 63  Accuracy: 86.67%\n",
      "Client 79  Accuracy: 93.94%\n"
     ]
    },
    {
     "name": "stderr",
     "output_type": "stream",
     "text": [
      " 72%|███████▏  | 36/50 [03:27<01:27,  6.27s/it]"
     ]
    },
    {
     "name": "stdout",
     "output_type": "stream",
     "text": [
      "ROUND:036 Global Accuracy: 87.33%\n",
      "ROUND:036     Global Loss: 0.4814\n",
      "####### ROUND 36 END #######\n",
      "\n",
      "Client 14  Accuracy: 93.75%\n",
      "Client 29  Accuracy: 87.62%\n",
      "Client 30  Accuracy: 92.50%\n",
      "Client 38  Accuracy: 94.30%\n",
      "Client 40  Accuracy: 94.34%\n",
      "Client 55  Accuracy: 89.80%\n",
      "Client 65  Accuracy: 90.38%\n",
      "Client 77  Accuracy: 93.44%\n",
      "Client 87  Accuracy: 90.91%\n",
      "Client 93  Accuracy: 83.02%\n"
     ]
    },
    {
     "name": "stderr",
     "output_type": "stream",
     "text": [
      " 74%|███████▍  | 37/50 [03:34<01:24,  6.48s/it]"
     ]
    },
    {
     "name": "stdout",
     "output_type": "stream",
     "text": [
      "ROUND:037 Global Accuracy: 87.55%\n",
      "ROUND:037     Global Loss: 0.4718\n",
      "####### ROUND 37 END #######\n",
      "\n",
      "Client 15  Accuracy: 94.23%\n",
      "Client 29  Accuracy: 87.62%\n",
      "Client 36  Accuracy: 93.07%\n",
      "Client 38  Accuracy: 94.30%\n",
      "Client 42  Accuracy: 90.00%\n",
      "Client 51  Accuracy: 94.55%\n",
      "Client 52  Accuracy: 91.96%\n",
      "Client 69  Accuracy: 92.11%\n",
      "Client 74  Accuracy: 93.90%\n",
      "Client 87  Accuracy: 90.91%\n"
     ]
    },
    {
     "name": "stderr",
     "output_type": "stream",
     "text": [
      " 76%|███████▌  | 38/50 [03:41<01:21,  6.81s/it]"
     ]
    },
    {
     "name": "stdout",
     "output_type": "stream",
     "text": [
      "ROUND:038 Global Accuracy: 87.12%\n",
      "ROUND:038     Global Loss: 0.4737\n",
      "####### ROUND 38 END #######\n",
      "\n",
      "Client 5   Accuracy: 91.18%\n",
      "Client 7   Accuracy: 87.21%\n",
      "Client 32  Accuracy: 90.95%\n",
      "Client 52  Accuracy: 91.46%\n",
      "Client 54  Accuracy: 83.87%\n",
      "Client 73  Accuracy: 90.60%\n",
      "Client 74  Accuracy: 93.90%\n",
      "Client 77  Accuracy: 93.44%\n",
      "Client 89  Accuracy: 92.96%\n",
      "Client 90  Accuracy: 90.72%\n"
     ]
    },
    {
     "name": "stderr",
     "output_type": "stream",
     "text": [
      " 78%|███████▊  | 39/50 [03:49<01:16,  6.93s/it]"
     ]
    },
    {
     "name": "stdout",
     "output_type": "stream",
     "text": [
      "ROUND:039 Global Accuracy: 87.41%\n",
      "ROUND:039     Global Loss: 0.4623\n",
      "####### ROUND 39 END #######\n",
      "\n",
      "Client 0   Accuracy: 92.86%\n",
      "Client 3   Accuracy: 92.86%\n",
      "Client 7   Accuracy: 87.21%\n",
      "Client 9   Accuracy: 93.84%\n",
      "Client 27  Accuracy: 95.92%\n",
      "Client 31  Accuracy: 91.06%\n",
      "Client 38  Accuracy: 94.30%\n",
      "Client 43  Accuracy: 88.61%\n",
      "Client 54  Accuracy: 85.48%\n",
      "Client 95  Accuracy: 87.06%\n"
     ]
    },
    {
     "name": "stderr",
     "output_type": "stream",
     "text": [
      " 80%|████████  | 40/50 [03:56<01:09,  6.98s/it]"
     ]
    },
    {
     "name": "stdout",
     "output_type": "stream",
     "text": [
      "ROUND:040 Global Accuracy: 87.36%\n",
      "ROUND:040     Global Loss: 0.4572\n",
      "####### ROUND 40 END #######\n",
      "\n",
      "Client 8   Accuracy: 90.73%\n",
      "Client 22  Accuracy: 93.44%\n",
      "Client 34  Accuracy: 93.71%\n",
      "Client 54  Accuracy: 83.87%\n",
      "Client 58  Accuracy: 92.68%\n",
      "Client 68  Accuracy: 91.67%\n",
      "Client 73  Accuracy: 90.60%\n",
      "Client 76  Accuracy: 90.41%\n",
      "Client 91  Accuracy: 89.33%\n",
      "Client 94  Accuracy: 84.78%\n"
     ]
    },
    {
     "name": "stderr",
     "output_type": "stream",
     "text": [
      " 82%|████████▏ | 41/50 [04:02<01:00,  6.77s/it]"
     ]
    },
    {
     "name": "stdout",
     "output_type": "stream",
     "text": [
      "ROUND:041 Global Accuracy: 87.03%\n",
      "ROUND:041     Global Loss: 0.4607\n",
      "####### ROUND 41 END #######\n",
      "\n",
      "Client 7   Accuracy: 89.53%\n",
      "Client 9   Accuracy: 93.84%\n",
      "Client 14  Accuracy: 93.75%\n",
      "Client 27  Accuracy: 97.96%\n",
      "Client 31  Accuracy: 91.06%\n",
      "Client 32  Accuracy: 90.95%\n",
      "Client 52  Accuracy: 91.96%\n",
      "Client 54  Accuracy: 87.10%\n",
      "Client 61  Accuracy: 95.08%\n",
      "Client 76  Accuracy: 91.78%\n"
     ]
    },
    {
     "name": "stderr",
     "output_type": "stream",
     "text": [
      " 84%|████████▍ | 42/50 [04:09<00:55,  6.91s/it]"
     ]
    },
    {
     "name": "stdout",
     "output_type": "stream",
     "text": [
      "ROUND:042 Global Accuracy: 87.94%\n",
      "ROUND:042     Global Loss: 0.4397\n",
      "####### ROUND 42 END #######\n",
      "\n",
      "Client 7   Accuracy: 89.53%\n",
      "Client 11  Accuracy: 86.67%\n",
      "Client 17  Accuracy: 90.62%\n",
      "Client 18  Accuracy: 97.70%\n",
      "Client 28  Accuracy: 92.50%\n",
      "Client 39  Accuracy: 91.30%\n",
      "Client 65  Accuracy: 93.27%\n",
      "Client 70  Accuracy: 95.45%\n",
      "Client 73  Accuracy: 91.45%\n",
      "Client 86  Accuracy: 83.15%\n"
     ]
    },
    {
     "name": "stderr",
     "output_type": "stream",
     "text": [
      " 86%|████████▌ | 43/50 [04:15<00:46,  6.61s/it]"
     ]
    },
    {
     "name": "stdout",
     "output_type": "stream",
     "text": [
      "ROUND:043 Global Accuracy: 87.70%\n",
      "ROUND:043     Global Loss: 0.4379\n",
      "####### ROUND 43 END #######\n",
      "\n",
      "Client 0   Accuracy: 92.86%\n",
      "Client 17  Accuracy: 90.62%\n",
      "Client 27  Accuracy: 97.96%\n",
      "Client 29  Accuracy: 89.52%\n",
      "Client 33  Accuracy: 92.62%\n",
      "Client 34  Accuracy: 93.71%\n",
      "Client 41  Accuracy: 92.86%\n",
      "Client 53  Accuracy: 89.19%\n",
      "Client 68  Accuracy: 91.67%\n",
      "Client 80  Accuracy: 91.49%\n"
     ]
    },
    {
     "name": "stderr",
     "output_type": "stream",
     "text": [
      " 88%|████████▊ | 44/50 [04:21<00:38,  6.45s/it]"
     ]
    },
    {
     "name": "stdout",
     "output_type": "stream",
     "text": [
      "ROUND:044 Global Accuracy: 87.29%\n",
      "ROUND:044     Global Loss: 0.4413\n",
      "####### ROUND 44 END #######\n",
      "\n",
      "Client 0   Accuracy: 92.86%\n",
      "Client 4   Accuracy: 90.24%\n",
      "Client 50  Accuracy: 87.83%\n",
      "Client 53  Accuracy: 90.09%\n",
      "Client 67  Accuracy: 92.68%\n",
      "Client 68  Accuracy: 91.67%\n",
      "Client 70  Accuracy: 93.94%\n",
      "Client 76  Accuracy: 91.78%\n",
      "Client 84  Accuracy: 95.59%\n",
      "Client 91  Accuracy: 90.67%\n"
     ]
    },
    {
     "name": "stderr",
     "output_type": "stream",
     "text": [
      " 90%|█████████ | 45/50 [04:27<00:30,  6.11s/it]"
     ]
    },
    {
     "name": "stdout",
     "output_type": "stream",
     "text": [
      "ROUND:045 Global Accuracy: 87.94%\n",
      "ROUND:045     Global Loss: 0.4301\n",
      "####### ROUND 45 END #######\n",
      "\n",
      "Client 10  Accuracy: 91.49%\n",
      "Client 11  Accuracy: 86.67%\n",
      "Client 12  Accuracy: 95.24%\n",
      "Client 14  Accuracy: 93.75%\n",
      "Client 27  Accuracy: 97.96%\n",
      "Client 40  Accuracy: 95.28%\n",
      "Client 46  Accuracy: 88.79%\n",
      "Client 48  Accuracy: 95.35%\n",
      "Client 64  Accuracy: 87.97%\n",
      "Client 68  Accuracy: 91.67%\n"
     ]
    },
    {
     "name": "stderr",
     "output_type": "stream",
     "text": [
      " 92%|█████████▏| 46/50 [04:32<00:23,  5.86s/it]"
     ]
    },
    {
     "name": "stdout",
     "output_type": "stream",
     "text": [
      "ROUND:046 Global Accuracy: 88.52%\n",
      "ROUND:046     Global Loss: 0.4169\n",
      "####### ROUND 46 END #######\n",
      "\n",
      "Client 9   Accuracy: 93.84%\n",
      "Client 13  Accuracy: 95.71%\n",
      "Client 15  Accuracy: 92.31%\n",
      "Client 18  Accuracy: 97.70%\n",
      "Client 28  Accuracy: 92.50%\n",
      "Client 35  Accuracy: 95.40%\n",
      "Client 40  Accuracy: 95.28%\n",
      "Client 71  Accuracy: 85.95%\n",
      "Client 93  Accuracy: 86.79%\n",
      "Client 97  Accuracy: 90.36%\n"
     ]
    },
    {
     "name": "stderr",
     "output_type": "stream",
     "text": [
      " 94%|█████████▍| 47/50 [04:39<00:18,  6.14s/it]"
     ]
    },
    {
     "name": "stdout",
     "output_type": "stream",
     "text": [
      "ROUND:047 Global Accuracy: 88.50%\n",
      "ROUND:047     Global Loss: 0.4142\n",
      "####### ROUND 47 END #######\n",
      "\n",
      "Client 4   Accuracy: 90.24%\n",
      "Client 13  Accuracy: 95.71%\n",
      "Client 20  Accuracy: 89.47%\n",
      "Client 28  Accuracy: 92.50%\n",
      "Client 39  Accuracy: 91.30%\n",
      "Client 44  Accuracy: 89.58%\n",
      "Client 49  Accuracy: 97.44%\n",
      "Client 55  Accuracy: 92.52%\n",
      "Client 84  Accuracy: 97.06%\n",
      "Client 94  Accuracy: 84.78%\n"
     ]
    },
    {
     "name": "stderr",
     "output_type": "stream",
     "text": [
      " 96%|█████████▌| 48/50 [04:45<00:12,  6.27s/it]"
     ]
    },
    {
     "name": "stdout",
     "output_type": "stream",
     "text": [
      "ROUND:048 Global Accuracy: 87.99%\n",
      "ROUND:048     Global Loss: 0.4160\n",
      "####### ROUND 48 END #######\n",
      "\n",
      "Client 18  Accuracy: 97.70%\n",
      "Client 33  Accuracy: 93.44%\n",
      "Client 58  Accuracy: 92.68%\n",
      "Client 68  Accuracy: 91.67%\n",
      "Client 74  Accuracy: 95.12%\n",
      "Client 75  Accuracy: 93.62%\n",
      "Client 79  Accuracy: 93.94%\n",
      "Client 86  Accuracy: 84.27%\n",
      "Client 89  Accuracy: 91.55%\n",
      "Client 96  Accuracy: 92.64%\n"
     ]
    },
    {
     "name": "stderr",
     "output_type": "stream",
     "text": [
      " 98%|█████████▊| 49/50 [04:52<00:06,  6.47s/it]"
     ]
    },
    {
     "name": "stdout",
     "output_type": "stream",
     "text": [
      "ROUND:049 Global Accuracy: 88.52%\n",
      "ROUND:049     Global Loss: 0.4100\n",
      "####### ROUND 49 END #######\n",
      "\n",
      "Client 0   Accuracy: 92.86%\n",
      "Client 32  Accuracy: 90.95%\n",
      "Client 33  Accuracy: 92.62%\n",
      "Client 37  Accuracy: 92.94%\n",
      "Client 47  Accuracy: 94.67%\n",
      "Client 49  Accuracy: 97.44%\n",
      "Client 50  Accuracy: 89.57%\n",
      "Client 53  Accuracy: 88.29%\n",
      "Client 66  Accuracy: 90.72%\n",
      "Client 91  Accuracy: 90.67%\n"
     ]
    },
    {
     "name": "stderr",
     "output_type": "stream",
     "text": [
      "100%|██████████| 50/50 [04:59<00:00,  6.00s/it]"
     ]
    },
    {
     "name": "stdout",
     "output_type": "stream",
     "text": [
      "ROUND:050 Global Accuracy: 87.91%\n",
      "ROUND:050     Global Loss: 0.4207\n",
      "####### ROUND 50 END #######\n",
      "\n",
      "Experiment: Template|MLP|MNIST|SGD|0.01|0.0001|128|0|10|False|100|50|0.5|0.1|NaiveClient|FedAvg|0.5\n"
     ]
    },
    {
     "name": "stderr",
     "output_type": "stream",
     "text": [
      "\n",
      " 33%|███▎      | 33/100 [00:00<00:00, 329.17it/s]"
     ]
    },
    {
     "name": "stdout",
     "output_type": "stream",
     "text": [
      "Initializing 100 clients\n"
     ]
    },
    {
     "name": "stderr",
     "output_type": "stream",
     "text": [
      "100%|██████████| 100/100 [00:00<00:00, 325.42it/s]\n",
      "  0%|          | 0/50 [00:00<?, ?it/s]"
     ]
    },
    {
     "name": "stdout",
     "output_type": "stream",
     "text": [
      "Client 6   Accuracy: 34.38%\n",
      "Client 10  Accuracy: 51.06%\n",
      "Client 17  Accuracy: 34.38%\n",
      "Client 24  Accuracy: 22.22%\n",
      "Client 33  Accuracy: 45.08%\n",
      "Client 42  Accuracy: 51.67%\n",
      "Client 75  Accuracy: 53.19%\n",
      "Client 78  Accuracy: 45.54%\n",
      "Client 91  Accuracy: 36.00%\n",
      "Client 95  Accuracy: 25.88%\n"
     ]
    },
    {
     "name": "stderr",
     "output_type": "stream",
     "text": [
      "  2%|▏         | 1/50 [00:05<04:46,  5.84s/it]"
     ]
    },
    {
     "name": "stdout",
     "output_type": "stream",
     "text": [
      "ROUND:001 Global Accuracy: 21.32%\n",
      "ROUND:001     Global Loss: 2.2479\n",
      "####### ROUND 1 END #######\n",
      "\n",
      "Client 6   Accuracy: 34.38%\n",
      "Client 8   Accuracy: 49.01%\n",
      "Client 42  Accuracy: 51.67%\n",
      "Client 57  Accuracy: 52.50%\n",
      "Client 64  Accuracy: 49.62%\n",
      "Client 67  Accuracy: 63.41%\n",
      "Client 72  Accuracy: 63.75%\n",
      "Client 78  Accuracy: 66.20%\n",
      "Client 81  Accuracy: 47.57%\n",
      "Client 93  Accuracy: 28.30%\n"
     ]
    },
    {
     "name": "stderr",
     "output_type": "stream",
     "text": [
      "  4%|▍         | 2/50 [00:11<04:32,  5.67s/it]"
     ]
    },
    {
     "name": "stdout",
     "output_type": "stream",
     "text": [
      "ROUND:002 Global Accuracy: 47.67%\n",
      "ROUND:002     Global Loss: 2.1428\n",
      "####### ROUND 2 END #######\n",
      "\n",
      "Client 3   Accuracy: 76.98%\n",
      "Client 19  Accuracy: 62.16%\n",
      "Client 24  Accuracy: 53.70%\n",
      "Client 31  Accuracy: 73.98%\n",
      "Client 46  Accuracy: 62.93%\n",
      "Client 50  Accuracy: 58.26%\n",
      "Client 70  Accuracy: 72.73%\n",
      "Client 75  Accuracy: 68.09%\n",
      "Client 90  Accuracy: 56.70%\n",
      "Client 96  Accuracy: 72.39%\n"
     ]
    },
    {
     "name": "stderr",
     "output_type": "stream",
     "text": [
      "  6%|▌         | 3/50 [00:17<04:37,  5.90s/it]"
     ]
    },
    {
     "name": "stdout",
     "output_type": "stream",
     "text": [
      "ROUND:003 Global Accuracy: 56.77%\n",
      "ROUND:003     Global Loss: 1.9699\n",
      "####### ROUND 3 END #######\n",
      "\n",
      "Client 9   Accuracy: 74.66%\n",
      "Client 22  Accuracy: 63.93%\n",
      "Client 27  Accuracy: 46.94%\n",
      "Client 41  Accuracy: 66.07%\n",
      "Client 42  Accuracy: 55.00%\n",
      "Client 44  Accuracy: 64.58%\n",
      "Client 56  Accuracy: 52.00%\n",
      "Client 59  Accuracy: 67.80%\n",
      "Client 61  Accuracy: 70.49%\n",
      "Client 70  Accuracy: 72.73%\n"
     ]
    },
    {
     "name": "stderr",
     "output_type": "stream",
     "text": [
      "  8%|▊         | 4/50 [00:21<04:03,  5.29s/it]"
     ]
    },
    {
     "name": "stdout",
     "output_type": "stream",
     "text": [
      "ROUND:004 Global Accuracy: 57.31%\n",
      "ROUND:004     Global Loss: 1.8122\n",
      "####### ROUND 4 END #######\n",
      "\n",
      "Client 13  Accuracy: 88.57%\n",
      "Client 18  Accuracy: 83.91%\n",
      "Client 20  Accuracy: 77.99%\n",
      "Client 31  Accuracy: 73.98%\n",
      "Client 39  Accuracy: 64.13%\n",
      "Client 42  Accuracy: 65.00%\n",
      "Client 58  Accuracy: 78.05%\n",
      "Client 77  Accuracy: 67.21%\n",
      "Client 78  Accuracy: 83.57%\n",
      "Client 82  Accuracy: 68.54%\n"
     ]
    },
    {
     "name": "stderr",
     "output_type": "stream",
     "text": [
      " 10%|█         | 5/50 [00:28<04:20,  5.80s/it]"
     ]
    },
    {
     "name": "stdout",
     "output_type": "stream",
     "text": [
      "ROUND:005 Global Accuracy: 61.36%\n",
      "ROUND:005     Global Loss: 1.5525\n",
      "####### ROUND 5 END #######\n",
      "\n",
      "Client 11  Accuracy: 64.44%\n",
      "Client 19  Accuracy: 91.89%\n",
      "Client 24  Accuracy: 75.93%\n",
      "Client 32  Accuracy: 81.91%\n",
      "Client 33  Accuracy: 79.51%\n",
      "Client 46  Accuracy: 78.45%\n",
      "Client 61  Accuracy: 83.61%\n",
      "Client 66  Accuracy: 72.16%\n",
      "Client 82  Accuracy: 74.16%\n",
      "Client 99  Accuracy: 86.11%\n"
     ]
    },
    {
     "name": "stderr",
     "output_type": "stream",
     "text": [
      " 12%|█▏        | 6/50 [00:34<04:11,  5.72s/it]"
     ]
    },
    {
     "name": "stdout",
     "output_type": "stream",
     "text": [
      "ROUND:006 Global Accuracy: 72.35%\n",
      "ROUND:006     Global Loss: 1.2947\n",
      "####### ROUND 6 END #######\n",
      "\n",
      "Client 12  Accuracy: 76.19%\n",
      "Client 16  Accuracy: 81.58%\n",
      "Client 39  Accuracy: 81.52%\n",
      "Client 42  Accuracy: 80.00%\n",
      "Client 47  Accuracy: 80.00%\n",
      "Client 60  Accuracy: 81.00%\n",
      "Client 69  Accuracy: 81.58%\n",
      "Client 70  Accuracy: 84.85%\n",
      "Client 94  Accuracy: 78.26%\n",
      "Client 99  Accuracy: 88.89%\n"
     ]
    },
    {
     "name": "stderr",
     "output_type": "stream",
     "text": [
      " 14%|█▍        | 7/50 [00:39<03:54,  5.45s/it]"
     ]
    },
    {
     "name": "stdout",
     "output_type": "stream",
     "text": [
      "ROUND:007 Global Accuracy: 79.30%\n",
      "ROUND:007     Global Loss: 1.1332\n",
      "####### ROUND 7 END #######\n",
      "\n",
      "Client 2   Accuracy: 84.96%\n",
      "Client 12  Accuracy: 78.57%\n",
      "Client 19  Accuracy: 91.89%\n",
      "Client 47  Accuracy: 80.00%\n",
      "Client 55  Accuracy: 85.03%\n",
      "Client 69  Accuracy: 88.60%\n",
      "Client 75  Accuracy: 86.52%\n",
      "Client 79  Accuracy: 83.33%\n",
      "Client 97  Accuracy: 79.52%\n",
      "Client 99  Accuracy: 88.89%\n"
     ]
    },
    {
     "name": "stderr",
     "output_type": "stream",
     "text": [
      " 16%|█▌        | 8/50 [00:44<03:50,  5.48s/it]"
     ]
    },
    {
     "name": "stdout",
     "output_type": "stream",
     "text": [
      "ROUND:008 Global Accuracy: 75.62%\n",
      "ROUND:008     Global Loss: 1.0206\n",
      "####### ROUND 8 END #######\n",
      "\n",
      "Client 3   Accuracy: 90.48%\n",
      "Client 6   Accuracy: 82.81%\n",
      "Client 51  Accuracy: 83.64%\n",
      "Client 57  Accuracy: 90.00%\n",
      "Client 61  Accuracy: 90.16%\n",
      "Client 69  Accuracy: 88.60%\n",
      "Client 71  Accuracy: 79.34%\n",
      "Client 85  Accuracy: 89.29%\n",
      "Client 93  Accuracy: 77.36%\n",
      "Client 98  Accuracy: 87.50%\n"
     ]
    },
    {
     "name": "stderr",
     "output_type": "stream",
     "text": [
      " 18%|█▊        | 9/50 [00:49<03:32,  5.19s/it]"
     ]
    },
    {
     "name": "stdout",
     "output_type": "stream",
     "text": [
      "ROUND:009 Global Accuracy: 80.26%\n",
      "ROUND:009     Global Loss: 0.8742\n",
      "####### ROUND 9 END #######\n",
      "\n",
      "Client 5   Accuracy: 86.76%\n",
      "Client 9   Accuracy: 89.73%\n",
      "Client 15  Accuracy: 84.62%\n",
      "Client 22  Accuracy: 81.97%\n",
      "Client 55  Accuracy: 87.07%\n",
      "Client 70  Accuracy: 89.39%\n",
      "Client 79  Accuracy: 86.36%\n",
      "Client 88  Accuracy: 84.62%\n",
      "Client 91  Accuracy: 82.67%\n",
      "Client 93  Accuracy: 79.25%\n"
     ]
    },
    {
     "name": "stderr",
     "output_type": "stream",
     "text": [
      " 20%|██        | 10/50 [00:53<03:21,  5.04s/it]"
     ]
    },
    {
     "name": "stdout",
     "output_type": "stream",
     "text": [
      "ROUND:010 Global Accuracy: 83.69%\n",
      "ROUND:010     Global Loss: 0.7955\n",
      "####### ROUND 10 END #######\n",
      "\n",
      "Client 13  Accuracy: 93.57%\n",
      "Client 15  Accuracy: 86.54%\n",
      "Client 17  Accuracy: 85.94%\n",
      "Client 18  Accuracy: 97.70%\n",
      "Client 35  Accuracy: 86.21%\n",
      "Client 39  Accuracy: 86.96%\n",
      "Client 50  Accuracy: 83.48%\n",
      "Client 52  Accuracy: 87.44%\n",
      "Client 78  Accuracy: 85.92%\n",
      "Client 80  Accuracy: 87.23%\n"
     ]
    },
    {
     "name": "stderr",
     "output_type": "stream",
     "text": [
      " 22%|██▏       | 11/50 [01:00<03:30,  5.38s/it]"
     ]
    },
    {
     "name": "stdout",
     "output_type": "stream",
     "text": [
      "ROUND:011 Global Accuracy: 81.72%\n",
      "ROUND:011     Global Loss: 0.7281\n",
      "####### ROUND 11 END #######\n",
      "\n",
      "Client 4   Accuracy: 87.80%\n",
      "Client 15  Accuracy: 90.38%\n",
      "Client 41  Accuracy: 80.36%\n",
      "Client 62  Accuracy: 84.21%\n",
      "Client 66  Accuracy: 86.60%\n",
      "Client 73  Accuracy: 85.47%\n",
      "Client 76  Accuracy: 86.30%\n",
      "Client 81  Accuracy: 87.38%\n",
      "Client 85  Accuracy: 96.43%\n",
      "Client 94  Accuracy: 80.43%\n"
     ]
    },
    {
     "name": "stderr",
     "output_type": "stream",
     "text": [
      " 24%|██▍       | 12/50 [01:04<03:11,  5.05s/it]"
     ]
    },
    {
     "name": "stdout",
     "output_type": "stream",
     "text": [
      "ROUND:012 Global Accuracy: 82.98%\n",
      "ROUND:012     Global Loss: 0.6851\n",
      "####### ROUND 12 END #######\n",
      "\n",
      "Client 25  Accuracy: 91.38%\n",
      "Client 26  Accuracy: 92.06%\n",
      "Client 33  Accuracy: 88.52%\n",
      "Client 36  Accuracy: 91.09%\n",
      "Client 38  Accuracy: 94.30%\n",
      "Client 49  Accuracy: 84.62%\n",
      "Client 75  Accuracy: 90.78%\n",
      "Client 78  Accuracy: 87.32%\n",
      "Client 85  Accuracy: 96.43%\n",
      "Client 97  Accuracy: 85.54%\n"
     ]
    },
    {
     "name": "stderr",
     "output_type": "stream",
     "text": [
      " 26%|██▌       | 13/50 [01:10<03:18,  5.37s/it]"
     ]
    },
    {
     "name": "stdout",
     "output_type": "stream",
     "text": [
      "ROUND:013 Global Accuracy: 85.27%\n",
      "ROUND:013     Global Loss: 0.6223\n",
      "####### ROUND 13 END #######\n",
      "\n",
      "Client 4   Accuracy: 87.80%\n",
      "Client 6   Accuracy: 87.50%\n",
      "Client 12  Accuracy: 92.86%\n",
      "Client 36  Accuracy: 93.07%\n",
      "Client 39  Accuracy: 89.13%\n",
      "Client 48  Accuracy: 88.37%\n",
      "Client 55  Accuracy: 90.48%\n",
      "Client 60  Accuracy: 87.00%\n",
      "Client 61  Accuracy: 96.72%\n",
      "Client 83  Accuracy: 81.82%\n"
     ]
    },
    {
     "name": "stderr",
     "output_type": "stream",
     "text": [
      " 28%|██▊       | 14/50 [01:15<03:07,  5.21s/it]"
     ]
    },
    {
     "name": "stdout",
     "output_type": "stream",
     "text": [
      "ROUND:014 Global Accuracy: 86.23%\n",
      "ROUND:014     Global Loss: 0.5886\n",
      "####### ROUND 14 END #######\n",
      "\n",
      "Client 2   Accuracy: 89.38%\n",
      "Client 6   Accuracy: 87.50%\n",
      "Client 13  Accuracy: 95.00%\n",
      "Client 14  Accuracy: 89.58%\n",
      "Client 18  Accuracy: 97.70%\n",
      "Client 22  Accuracy: 90.16%\n",
      "Client 41  Accuracy: 89.29%\n",
      "Client 47  Accuracy: 89.33%\n",
      "Client 82  Accuracy: 92.13%\n",
      "Client 87  Accuracy: 89.61%\n"
     ]
    },
    {
     "name": "stderr",
     "output_type": "stream",
     "text": [
      " 30%|███       | 15/50 [01:20<03:03,  5.25s/it]"
     ]
    },
    {
     "name": "stdout",
     "output_type": "stream",
     "text": [
      "ROUND:015 Global Accuracy: 85.66%\n",
      "ROUND:015     Global Loss: 0.5646\n",
      "####### ROUND 15 END #######\n",
      "\n",
      "Client 0   Accuracy: 92.86%\n",
      "Client 16  Accuracy: 92.98%\n",
      "Client 32  Accuracy: 89.45%\n",
      "Client 36  Accuracy: 93.07%\n",
      "Client 37  Accuracy: 92.94%\n",
      "Client 68  Accuracy: 91.67%\n",
      "Client 70  Accuracy: 93.94%\n",
      "Client 78  Accuracy: 87.79%\n",
      "Client 87  Accuracy: 90.26%\n",
      "Client 96  Accuracy: 91.41%\n"
     ]
    },
    {
     "name": "stderr",
     "output_type": "stream",
     "text": [
      " 32%|███▏      | 16/50 [01:27<03:15,  5.75s/it]"
     ]
    },
    {
     "name": "stdout",
     "output_type": "stream",
     "text": [
      "ROUND:016 Global Accuracy: 83.98%\n",
      "ROUND:016     Global Loss: 0.5553\n",
      "####### ROUND 16 END #######\n",
      "\n",
      "Client 3   Accuracy: 92.06%\n",
      "Client 13  Accuracy: 96.43%\n",
      "Client 35  Accuracy: 94.25%\n",
      "Client 38  Accuracy: 94.30%\n",
      "Client 48  Accuracy: 95.35%\n",
      "Client 51  Accuracy: 92.73%\n",
      "Client 55  Accuracy: 90.48%\n",
      "Client 56  Accuracy: 86.67%\n",
      "Client 61  Accuracy: 96.72%\n",
      "Client 68  Accuracy: 90.28%\n"
     ]
    },
    {
     "name": "stderr",
     "output_type": "stream",
     "text": [
      " 34%|███▍      | 17/50 [01:33<03:10,  5.78s/it]"
     ]
    },
    {
     "name": "stdout",
     "output_type": "stream",
     "text": [
      "ROUND:017 Global Accuracy: 86.54%\n",
      "ROUND:017     Global Loss: 0.5074\n",
      "####### ROUND 17 END #######\n",
      "\n",
      "Client 1   Accuracy: 89.19%\n",
      "Client 33  Accuracy: 90.98%\n",
      "Client 38  Accuracy: 94.94%\n",
      "Client 45  Accuracy: 86.30%\n",
      "Client 69  Accuracy: 92.11%\n",
      "Client 71  Accuracy: 86.78%\n",
      "Client 74  Accuracy: 93.90%\n",
      "Client 85  Accuracy: 92.86%\n",
      "Client 86  Accuracy: 86.52%\n",
      "Client 95  Accuracy: 87.06%\n"
     ]
    },
    {
     "name": "stderr",
     "output_type": "stream",
     "text": [
      " 36%|███▌      | 18/50 [01:38<03:02,  5.71s/it]"
     ]
    },
    {
     "name": "stdout",
     "output_type": "stream",
     "text": [
      "ROUND:018 Global Accuracy: 87.02%\n",
      "ROUND:018     Global Loss: 0.4886\n",
      "####### ROUND 18 END #######\n",
      "\n",
      "Client 4   Accuracy: 87.80%\n",
      "Client 7   Accuracy: 87.21%\n",
      "Client 34  Accuracy: 92.31%\n",
      "Client 38  Accuracy: 94.30%\n",
      "Client 58  Accuracy: 95.12%\n",
      "Client 63  Accuracy: 86.67%\n",
      "Client 64  Accuracy: 87.97%\n",
      "Client 81  Accuracy: 91.26%\n",
      "Client 85  Accuracy: 92.86%\n",
      "Client 97  Accuracy: 89.16%\n"
     ]
    },
    {
     "name": "stderr",
     "output_type": "stream",
     "text": [
      " 38%|███▊      | 19/50 [01:44<02:57,  5.74s/it]"
     ]
    },
    {
     "name": "stdout",
     "output_type": "stream",
     "text": [
      "ROUND:019 Global Accuracy: 87.30%\n",
      "ROUND:019     Global Loss: 0.4750\n",
      "####### ROUND 19 END #######\n",
      "\n",
      "Client 12  Accuracy: 95.24%\n",
      "Client 20  Accuracy: 89.95%\n",
      "Client 29  Accuracy: 89.52%\n",
      "Client 31  Accuracy: 91.06%\n",
      "Client 37  Accuracy: 92.94%\n",
      "Client 48  Accuracy: 95.35%\n",
      "Client 67  Accuracy: 92.68%\n",
      "Client 68  Accuracy: 90.28%\n",
      "Client 78  Accuracy: 88.26%\n",
      "Client 81  Accuracy: 91.26%\n"
     ]
    },
    {
     "name": "stderr",
     "output_type": "stream",
     "text": [
      " 40%|████      | 20/50 [01:50<02:55,  5.84s/it]"
     ]
    },
    {
     "name": "stdout",
     "output_type": "stream",
     "text": [
      "ROUND:020 Global Accuracy: 88.06%\n",
      "ROUND:020     Global Loss: 0.4533\n",
      "####### ROUND 20 END #######\n",
      "\n",
      "Client 6   Accuracy: 90.62%\n",
      "Client 8   Accuracy: 90.73%\n",
      "Client 16  Accuracy: 93.86%\n",
      "Client 18  Accuracy: 97.70%\n",
      "Client 36  Accuracy: 93.07%\n",
      "Client 57  Accuracy: 92.50%\n",
      "Client 66  Accuracy: 89.69%\n",
      "Client 68  Accuracy: 91.67%\n",
      "Client 88  Accuracy: 89.74%\n",
      "Client 95  Accuracy: 88.24%\n"
     ]
    },
    {
     "name": "stderr",
     "output_type": "stream",
     "text": [
      " 42%|████▏     | 21/50 [01:55<02:43,  5.62s/it]"
     ]
    },
    {
     "name": "stdout",
     "output_type": "stream",
     "text": [
      "ROUND:021 Global Accuracy: 88.05%\n",
      "ROUND:021     Global Loss: 0.4486\n",
      "####### ROUND 21 END #######\n",
      "\n",
      "Client 14  Accuracy: 93.75%\n",
      "Client 30  Accuracy: 92.50%\n",
      "Client 37  Accuracy: 92.94%\n",
      "Client 44  Accuracy: 87.50%\n",
      "Client 45  Accuracy: 87.67%\n",
      "Client 47  Accuracy: 92.00%\n",
      "Client 49  Accuracy: 94.87%\n",
      "Client 55  Accuracy: 91.84%\n",
      "Client 64  Accuracy: 86.47%\n",
      "Client 91  Accuracy: 90.67%\n"
     ]
    },
    {
     "name": "stderr",
     "output_type": "stream",
     "text": [
      " 44%|████▍     | 22/50 [02:00<02:29,  5.35s/it]"
     ]
    },
    {
     "name": "stdout",
     "output_type": "stream",
     "text": [
      "ROUND:022 Global Accuracy: 87.63%\n",
      "ROUND:022     Global Loss: 0.4408\n",
      "####### ROUND 22 END #######\n",
      "\n",
      "Client 6   Accuracy: 92.19%\n",
      "Client 7   Accuracy: 89.53%\n",
      "Client 26  Accuracy: 93.65%\n",
      "Client 38  Accuracy: 94.30%\n",
      "Client 43  Accuracy: 91.14%\n",
      "Client 44  Accuracy: 91.67%\n",
      "Client 72  Accuracy: 91.25%\n",
      "Client 73  Accuracy: 91.45%\n",
      "Client 78  Accuracy: 90.14%\n",
      "Client 89  Accuracy: 90.14%\n"
     ]
    },
    {
     "name": "stderr",
     "output_type": "stream",
     "text": [
      " 46%|████▌     | 23/50 [02:06<02:28,  5.49s/it]"
     ]
    },
    {
     "name": "stdout",
     "output_type": "stream",
     "text": [
      "ROUND:023 Global Accuracy: 87.99%\n",
      "ROUND:023     Global Loss: 0.4282\n",
      "####### ROUND 23 END #######\n",
      "\n",
      "Client 3   Accuracy: 95.24%\n",
      "Client 4   Accuracy: 87.80%\n",
      "Client 16  Accuracy: 94.74%\n",
      "Client 18  Accuracy: 98.85%\n",
      "Client 21  Accuracy: 87.34%\n",
      "Client 31  Accuracy: 91.06%\n",
      "Client 47  Accuracy: 93.33%\n",
      "Client 71  Accuracy: 86.78%\n",
      "Client 84  Accuracy: 95.59%\n",
      "Client 87  Accuracy: 92.86%\n"
     ]
    },
    {
     "name": "stderr",
     "output_type": "stream",
     "text": [
      " 48%|████▊     | 24/50 [02:12<02:25,  5.61s/it]"
     ]
    },
    {
     "name": "stdout",
     "output_type": "stream",
     "text": [
      "ROUND:024 Global Accuracy: 88.71%\n",
      "ROUND:024     Global Loss: 0.4156\n",
      "####### ROUND 24 END #######\n",
      "\n",
      "Client 0   Accuracy: 92.86%\n",
      "Client 2   Accuracy: 92.92%\n",
      "Client 3   Accuracy: 95.24%\n",
      "Client 12  Accuracy: 95.24%\n",
      "Client 36  Accuracy: 93.07%\n",
      "Client 39  Accuracy: 91.30%\n",
      "Client 44  Accuracy: 89.58%\n",
      "Client 46  Accuracy: 88.79%\n",
      "Client 77  Accuracy: 95.08%\n",
      "Client 98  Accuracy: 92.50%\n"
     ]
    },
    {
     "name": "stderr",
     "output_type": "stream",
     "text": [
      " 50%|█████     | 25/50 [02:17<02:16,  5.44s/it]"
     ]
    },
    {
     "name": "stdout",
     "output_type": "stream",
     "text": [
      "ROUND:025 Global Accuracy: 89.06%\n",
      "ROUND:025     Global Loss: 0.4029\n",
      "####### ROUND 25 END #######\n",
      "\n",
      "Client 18  Accuracy: 97.70%\n",
      "Client 32  Accuracy: 92.46%\n",
      "Client 42  Accuracy: 88.33%\n",
      "Client 53  Accuracy: 90.09%\n",
      "Client 58  Accuracy: 95.12%\n",
      "Client 59  Accuracy: 89.83%\n",
      "Client 70  Accuracy: 95.45%\n",
      "Client 74  Accuracy: 95.12%\n",
      "Client 76  Accuracy: 91.78%\n",
      "Client 97  Accuracy: 90.36%\n"
     ]
    },
    {
     "name": "stderr",
     "output_type": "stream",
     "text": [
      " 52%|█████▏    | 26/50 [02:22<02:10,  5.42s/it]"
     ]
    },
    {
     "name": "stdout",
     "output_type": "stream",
     "text": [
      "ROUND:026 Global Accuracy: 88.25%\n",
      "ROUND:026     Global Loss: 0.4145\n",
      "####### ROUND 26 END #######\n",
      "\n",
      "Client 0   Accuracy: 94.29%\n",
      "Client 16  Accuracy: 93.86%\n",
      "Client 45  Accuracy: 90.41%\n",
      "Client 46  Accuracy: 88.79%\n",
      "Client 51  Accuracy: 94.55%\n",
      "Client 60  Accuracy: 89.00%\n",
      "Client 63  Accuracy: 86.67%\n",
      "Client 74  Accuracy: 95.12%\n",
      "Client 97  Accuracy: 90.36%\n",
      "Client 99  Accuracy: 91.67%\n"
     ]
    },
    {
     "name": "stderr",
     "output_type": "stream",
     "text": [
      " 54%|█████▍    | 27/50 [02:28<02:04,  5.40s/it]"
     ]
    },
    {
     "name": "stdout",
     "output_type": "stream",
     "text": [
      "ROUND:027 Global Accuracy: 88.76%\n",
      "ROUND:027     Global Loss: 0.3946\n",
      "####### ROUND 27 END #######\n",
      "\n",
      "Client 14  Accuracy: 93.75%\n",
      "Client 16  Accuracy: 93.86%\n",
      "Client 18  Accuracy: 97.70%\n",
      "Client 41  Accuracy: 94.64%\n",
      "Client 49  Accuracy: 97.44%\n",
      "Client 63  Accuracy: 86.67%\n",
      "Client 70  Accuracy: 95.45%\n",
      "Client 76  Accuracy: 91.78%\n",
      "Client 85  Accuracy: 92.86%\n",
      "Client 86  Accuracy: 87.64%\n"
     ]
    },
    {
     "name": "stderr",
     "output_type": "stream",
     "text": [
      " 56%|█████▌    | 28/50 [02:32<01:51,  5.07s/it]"
     ]
    },
    {
     "name": "stdout",
     "output_type": "stream",
     "text": [
      "ROUND:028 Global Accuracy: 88.81%\n",
      "ROUND:028     Global Loss: 0.3915\n",
      "####### ROUND 28 END #######\n",
      "\n",
      "Client 0   Accuracy: 95.71%\n",
      "Client 7   Accuracy: 89.53%\n",
      "Client 10  Accuracy: 91.49%\n",
      "Client 36  Accuracy: 93.07%\n",
      "Client 41  Accuracy: 94.64%\n",
      "Client 47  Accuracy: 92.00%\n",
      "Client 51  Accuracy: 92.73%\n",
      "Client 83  Accuracy: 90.91%\n",
      "Client 85  Accuracy: 92.86%\n",
      "Client 86  Accuracy: 88.76%\n"
     ]
    },
    {
     "name": "stderr",
     "output_type": "stream",
     "text": [
      " 58%|█████▊    | 29/50 [02:37<01:43,  4.94s/it]"
     ]
    },
    {
     "name": "stdout",
     "output_type": "stream",
     "text": [
      "ROUND:029 Global Accuracy: 88.96%\n",
      "ROUND:029     Global Loss: 0.3949\n",
      "####### ROUND 29 END #######\n",
      "\n",
      "Client 4   Accuracy: 90.24%\n",
      "Client 5   Accuracy: 92.65%\n",
      "Client 11  Accuracy: 86.67%\n",
      "Client 14  Accuracy: 91.67%\n",
      "Client 46  Accuracy: 88.79%\n",
      "Client 67  Accuracy: 90.24%\n",
      "Client 69  Accuracy: 92.11%\n",
      "Client 91  Accuracy: 90.67%\n",
      "Client 93  Accuracy: 88.68%\n",
      "Client 98  Accuracy: 91.25%\n"
     ]
    },
    {
     "name": "stderr",
     "output_type": "stream",
     "text": [
      " 60%|██████    | 30/50 [02:41<01:35,  4.75s/it]"
     ]
    },
    {
     "name": "stdout",
     "output_type": "stream",
     "text": [
      "ROUND:030 Global Accuracy: 89.28%\n",
      "ROUND:030     Global Loss: 0.3822\n",
      "####### ROUND 30 END #######\n",
      "\n",
      "Client 5   Accuracy: 92.65%\n",
      "Client 28  Accuracy: 96.25%\n",
      "Client 43  Accuracy: 91.14%\n",
      "Client 44  Accuracy: 91.67%\n",
      "Client 65  Accuracy: 95.19%\n",
      "Client 73  Accuracy: 92.31%\n",
      "Client 83  Accuracy: 92.05%\n",
      "Client 92  Accuracy: 86.36%\n",
      "Client 95  Accuracy: 91.76%\n",
      "Client 98  Accuracy: 91.25%\n"
     ]
    },
    {
     "name": "stderr",
     "output_type": "stream",
     "text": [
      " 62%|██████▏   | 31/50 [02:47<01:37,  5.12s/it]"
     ]
    },
    {
     "name": "stdout",
     "output_type": "stream",
     "text": [
      "ROUND:031 Global Accuracy: 89.47%\n",
      "ROUND:031     Global Loss: 0.3713\n",
      "####### ROUND 31 END #######\n",
      "\n",
      "Client 18  Accuracy: 97.70%\n",
      "Client 21  Accuracy: 87.34%\n",
      "Client 27  Accuracy: 95.92%\n",
      "Client 28  Accuracy: 97.50%\n",
      "Client 52  Accuracy: 92.46%\n",
      "Client 53  Accuracy: 90.99%\n",
      "Client 57  Accuracy: 95.00%\n",
      "Client 59  Accuracy: 89.83%\n",
      "Client 88  Accuracy: 92.31%\n",
      "Client 97  Accuracy: 90.36%\n"
     ]
    },
    {
     "name": "stderr",
     "output_type": "stream",
     "text": [
      " 64%|██████▍   | 32/50 [02:53<01:37,  5.41s/it]"
     ]
    },
    {
     "name": "stdout",
     "output_type": "stream",
     "text": [
      "ROUND:032 Global Accuracy: 89.17%\n",
      "ROUND:032     Global Loss: 0.3775\n",
      "####### ROUND 32 END #######\n",
      "\n",
      "Client 14  Accuracy: 91.67%\n",
      "Client 38  Accuracy: 94.30%\n",
      "Client 45  Accuracy: 90.41%\n",
      "Client 48  Accuracy: 95.35%\n",
      "Client 50  Accuracy: 91.30%\n",
      "Client 55  Accuracy: 92.52%\n",
      "Client 62  Accuracy: 89.47%\n",
      "Client 75  Accuracy: 95.74%\n",
      "Client 76  Accuracy: 91.78%\n",
      "Client 86  Accuracy: 89.89%\n"
     ]
    },
    {
     "name": "stderr",
     "output_type": "stream",
     "text": [
      " 66%|██████▌   | 33/50 [03:00<01:39,  5.83s/it]"
     ]
    },
    {
     "name": "stdout",
     "output_type": "stream",
     "text": [
      "ROUND:033 Global Accuracy: 89.18%\n",
      "ROUND:033     Global Loss: 0.3733\n",
      "####### ROUND 33 END #######\n",
      "\n",
      "Client 26  Accuracy: 95.24%\n",
      "Client 32  Accuracy: 92.46%\n",
      "Client 35  Accuracy: 96.55%\n",
      "Client 42  Accuracy: 88.33%\n",
      "Client 46  Accuracy: 88.79%\n",
      "Client 47  Accuracy: 93.33%\n",
      "Client 65  Accuracy: 95.19%\n",
      "Client 79  Accuracy: 93.94%\n",
      "Client 87  Accuracy: 95.45%\n",
      "Client 94  Accuracy: 86.96%\n"
     ]
    },
    {
     "name": "stderr",
     "output_type": "stream",
     "text": [
      " 68%|██████▊   | 34/50 [03:06<01:34,  5.89s/it]"
     ]
    },
    {
     "name": "stdout",
     "output_type": "stream",
     "text": [
      "ROUND:034 Global Accuracy: 89.35%\n",
      "ROUND:034     Global Loss: 0.3664\n",
      "####### ROUND 34 END #######\n",
      "\n",
      "Client 0   Accuracy: 95.71%\n",
      "Client 6   Accuracy: 93.75%\n",
      "Client 13  Accuracy: 95.71%\n",
      "Client 19  Accuracy: 94.59%\n",
      "Client 52  Accuracy: 93.97%\n",
      "Client 58  Accuracy: 95.12%\n",
      "Client 69  Accuracy: 92.98%\n",
      "Client 75  Accuracy: 95.74%\n",
      "Client 90  Accuracy: 94.85%\n",
      "Client 98  Accuracy: 92.50%\n"
     ]
    },
    {
     "name": "stderr",
     "output_type": "stream",
     "text": [
      " 70%|███████   | 35/50 [03:13<01:34,  6.29s/it]"
     ]
    },
    {
     "name": "stdout",
     "output_type": "stream",
     "text": [
      "ROUND:035 Global Accuracy: 90.21%\n",
      "ROUND:035     Global Loss: 0.3507\n",
      "####### ROUND 35 END #######\n",
      "\n",
      "Client 18  Accuracy: 97.70%\n",
      "Client 23  Accuracy: 93.38%\n",
      "Client 26  Accuracy: 95.24%\n",
      "Client 30  Accuracy: 92.50%\n",
      "Client 42  Accuracy: 88.33%\n",
      "Client 44  Accuracy: 89.58%\n",
      "Client 47  Accuracy: 93.33%\n",
      "Client 49  Accuracy: 100.00%\n",
      "Client 63  Accuracy: 88.57%\n",
      "Client 79  Accuracy: 93.94%\n"
     ]
    },
    {
     "name": "stderr",
     "output_type": "stream",
     "text": [
      " 72%|███████▏  | 36/50 [03:18<01:24,  6.02s/it]"
     ]
    },
    {
     "name": "stdout",
     "output_type": "stream",
     "text": [
      "ROUND:036 Global Accuracy: 90.18%\n",
      "ROUND:036     Global Loss: 0.3473\n",
      "####### ROUND 36 END #######\n",
      "\n",
      "Client 14  Accuracy: 91.67%\n",
      "Client 29  Accuracy: 92.38%\n",
      "Client 30  Accuracy: 92.50%\n",
      "Client 38  Accuracy: 94.30%\n",
      "Client 40  Accuracy: 93.40%\n",
      "Client 55  Accuracy: 93.20%\n",
      "Client 65  Accuracy: 95.19%\n",
      "Client 77  Accuracy: 96.72%\n",
      "Client 87  Accuracy: 95.45%\n",
      "Client 93  Accuracy: 90.57%\n"
     ]
    },
    {
     "name": "stderr",
     "output_type": "stream",
     "text": [
      " 74%|███████▍  | 37/50 [03:25<01:21,  6.30s/it]"
     ]
    },
    {
     "name": "stdout",
     "output_type": "stream",
     "text": [
      "ROUND:037 Global Accuracy: 90.16%\n",
      "ROUND:037     Global Loss: 0.3431\n",
      "####### ROUND 37 END #######\n",
      "\n",
      "Client 15  Accuracy: 94.23%\n",
      "Client 29  Accuracy: 91.43%\n",
      "Client 36  Accuracy: 93.07%\n",
      "Client 38  Accuracy: 94.94%\n",
      "Client 42  Accuracy: 88.33%\n",
      "Client 51  Accuracy: 96.36%\n",
      "Client 52  Accuracy: 93.47%\n",
      "Client 69  Accuracy: 92.11%\n",
      "Client 74  Accuracy: 96.34%\n",
      "Client 87  Accuracy: 96.10%\n"
     ]
    },
    {
     "name": "stderr",
     "output_type": "stream",
     "text": [
      " 76%|███████▌  | 38/50 [03:33<01:20,  6.69s/it]"
     ]
    },
    {
     "name": "stdout",
     "output_type": "stream",
     "text": [
      "ROUND:038 Global Accuracy: 89.92%\n",
      "ROUND:038     Global Loss: 0.3478\n",
      "####### ROUND 38 END #######\n",
      "\n",
      "Client 5   Accuracy: 94.12%\n",
      "Client 7   Accuracy: 90.70%\n",
      "Client 32  Accuracy: 93.47%\n",
      "Client 52  Accuracy: 92.96%\n",
      "Client 54  Accuracy: 90.32%\n",
      "Client 73  Accuracy: 94.02%\n",
      "Client 74  Accuracy: 95.12%\n",
      "Client 77  Accuracy: 96.72%\n",
      "Client 89  Accuracy: 91.55%\n",
      "Client 90  Accuracy: 94.85%\n"
     ]
    },
    {
     "name": "stderr",
     "output_type": "stream",
     "text": [
      " 78%|███████▊  | 39/50 [03:40<01:15,  6.85s/it]"
     ]
    },
    {
     "name": "stdout",
     "output_type": "stream",
     "text": [
      "ROUND:039 Global Accuracy: 90.04%\n",
      "ROUND:039     Global Loss: 0.3413\n",
      "####### ROUND 39 END #######\n",
      "\n",
      "Client 0   Accuracy: 95.71%\n",
      "Client 3   Accuracy: 94.44%\n",
      "Client 7   Accuracy: 89.53%\n",
      "Client 9   Accuracy: 94.52%\n",
      "Client 27  Accuracy: 95.92%\n",
      "Client 31  Accuracy: 91.87%\n",
      "Client 38  Accuracy: 94.30%\n",
      "Client 43  Accuracy: 91.14%\n",
      "Client 54  Accuracy: 90.32%\n",
      "Client 95  Accuracy: 91.76%\n"
     ]
    },
    {
     "name": "stderr",
     "output_type": "stream",
     "text": [
      " 80%|████████  | 40/50 [03:47<01:09,  6.92s/it]"
     ]
    },
    {
     "name": "stdout",
     "output_type": "stream",
     "text": [
      "ROUND:040 Global Accuracy: 90.16%\n",
      "ROUND:040     Global Loss: 0.3426\n",
      "####### ROUND 40 END #######\n",
      "\n",
      "Client 8   Accuracy: 92.05%\n",
      "Client 22  Accuracy: 95.08%\n",
      "Client 34  Accuracy: 96.50%\n",
      "Client 54  Accuracy: 90.32%\n",
      "Client 58  Accuracy: 95.12%\n",
      "Client 68  Accuracy: 93.06%\n",
      "Client 73  Accuracy: 94.87%\n",
      "Client 76  Accuracy: 93.15%\n",
      "Client 91  Accuracy: 90.67%\n",
      "Client 94  Accuracy: 86.96%\n"
     ]
    },
    {
     "name": "stderr",
     "output_type": "stream",
     "text": [
      " 82%|████████▏ | 41/50 [03:54<01:00,  6.74s/it]"
     ]
    },
    {
     "name": "stdout",
     "output_type": "stream",
     "text": [
      "ROUND:041 Global Accuracy: 89.79%\n",
      "ROUND:041     Global Loss: 0.3455\n",
      "####### ROUND 41 END #######\n",
      "\n",
      "Client 7   Accuracy: 88.37%\n",
      "Client 9   Accuracy: 94.52%\n",
      "Client 14  Accuracy: 91.67%\n",
      "Client 27  Accuracy: 95.92%\n",
      "Client 31  Accuracy: 91.87%\n",
      "Client 32  Accuracy: 93.97%\n",
      "Client 52  Accuracy: 92.96%\n",
      "Client 54  Accuracy: 90.32%\n",
      "Client 61  Accuracy: 96.72%\n",
      "Client 76  Accuracy: 93.15%\n"
     ]
    },
    {
     "name": "stderr",
     "output_type": "stream",
     "text": [
      " 84%|████████▍ | 42/50 [04:01<00:54,  6.87s/it]"
     ]
    },
    {
     "name": "stdout",
     "output_type": "stream",
     "text": [
      "ROUND:042 Global Accuracy: 90.50%\n",
      "ROUND:042     Global Loss: 0.3306\n",
      "####### ROUND 42 END #######\n",
      "\n",
      "Client 7   Accuracy: 90.70%\n",
      "Client 11  Accuracy: 91.11%\n",
      "Client 17  Accuracy: 92.19%\n",
      "Client 18  Accuracy: 98.85%\n",
      "Client 28  Accuracy: 97.50%\n",
      "Client 39  Accuracy: 92.39%\n",
      "Client 65  Accuracy: 95.19%\n",
      "Client 70  Accuracy: 96.97%\n",
      "Client 73  Accuracy: 94.87%\n",
      "Client 86  Accuracy: 91.01%\n"
     ]
    },
    {
     "name": "stderr",
     "output_type": "stream",
     "text": [
      " 86%|████████▌ | 43/50 [04:07<00:46,  6.58s/it]"
     ]
    },
    {
     "name": "stdout",
     "output_type": "stream",
     "text": [
      "ROUND:043 Global Accuracy: 90.23%\n",
      "ROUND:043     Global Loss: 0.3313\n",
      "####### ROUND 43 END #######\n",
      "\n",
      "Client 0   Accuracy: 97.14%\n",
      "Client 17  Accuracy: 92.19%\n",
      "Client 27  Accuracy: 95.92%\n",
      "Client 29  Accuracy: 92.38%\n",
      "Client 33  Accuracy: 95.08%\n",
      "Client 34  Accuracy: 96.50%\n",
      "Client 41  Accuracy: 92.86%\n",
      "Client 53  Accuracy: 92.79%\n",
      "Client 68  Accuracy: 93.06%\n",
      "Client 80  Accuracy: 93.62%\n"
     ]
    },
    {
     "name": "stderr",
     "output_type": "stream",
     "text": [
      " 88%|████████▊ | 44/50 [04:13<00:38,  6.43s/it]"
     ]
    },
    {
     "name": "stdout",
     "output_type": "stream",
     "text": [
      "ROUND:044 Global Accuracy: 90.00%\n",
      "ROUND:044     Global Loss: 0.3346\n",
      "####### ROUND 44 END #######\n",
      "\n",
      "Client 0   Accuracy: 95.71%\n",
      "Client 4   Accuracy: 95.12%\n",
      "Client 50  Accuracy: 91.30%\n",
      "Client 53  Accuracy: 90.99%\n",
      "Client 67  Accuracy: 92.68%\n",
      "Client 68  Accuracy: 93.06%\n",
      "Client 70  Accuracy: 96.97%\n",
      "Client 76  Accuracy: 94.52%\n",
      "Client 84  Accuracy: 98.53%\n",
      "Client 91  Accuracy: 90.67%\n"
     ]
    },
    {
     "name": "stderr",
     "output_type": "stream",
     "text": [
      " 90%|█████████ | 45/50 [04:18<00:30,  6.08s/it]"
     ]
    },
    {
     "name": "stdout",
     "output_type": "stream",
     "text": [
      "ROUND:045 Global Accuracy: 90.33%\n",
      "ROUND:045     Global Loss: 0.3274\n",
      "####### ROUND 45 END #######\n",
      "\n",
      "Client 10  Accuracy: 91.49%\n",
      "Client 11  Accuracy: 91.11%\n",
      "Client 12  Accuracy: 95.24%\n",
      "Client 14  Accuracy: 91.67%\n",
      "Client 27  Accuracy: 95.92%\n",
      "Client 40  Accuracy: 95.28%\n",
      "Client 46  Accuracy: 91.38%\n",
      "Client 48  Accuracy: 95.35%\n",
      "Client 64  Accuracy: 87.97%\n",
      "Client 68  Accuracy: 93.06%\n"
     ]
    },
    {
     "name": "stderr",
     "output_type": "stream",
     "text": [
      " 92%|█████████▏| 46/50 [04:23<00:23,  5.84s/it]"
     ]
    },
    {
     "name": "stdout",
     "output_type": "stream",
     "text": [
      "ROUND:046 Global Accuracy: 90.70%\n",
      "ROUND:046     Global Loss: 0.3194\n",
      "####### ROUND 46 END #######\n",
      "\n",
      "Client 9   Accuracy: 94.52%\n",
      "Client 13  Accuracy: 96.43%\n",
      "Client 15  Accuracy: 94.23%\n",
      "Client 18  Accuracy: 98.85%\n",
      "Client 28  Accuracy: 96.25%\n",
      "Client 35  Accuracy: 96.55%\n",
      "Client 40  Accuracy: 94.34%\n",
      "Client 71  Accuracy: 90.91%\n",
      "Client 93  Accuracy: 90.57%\n",
      "Client 97  Accuracy: 89.16%\n"
     ]
    },
    {
     "name": "stderr",
     "output_type": "stream",
     "text": [
      " 94%|█████████▍| 47/50 [04:30<00:18,  6.13s/it]"
     ]
    },
    {
     "name": "stdout",
     "output_type": "stream",
     "text": [
      "ROUND:047 Global Accuracy: 90.91%\n",
      "ROUND:047     Global Loss: 0.3186\n",
      "####### ROUND 47 END #######\n",
      "\n",
      "Client 4   Accuracy: 95.12%\n",
      "Client 13  Accuracy: 96.43%\n",
      "Client 20  Accuracy: 92.82%\n",
      "Client 28  Accuracy: 96.25%\n",
      "Client 39  Accuracy: 92.39%\n",
      "Client 44  Accuracy: 91.67%\n",
      "Client 49  Accuracy: 100.00%\n",
      "Client 55  Accuracy: 93.20%\n",
      "Client 84  Accuracy: 100.00%\n",
      "Client 94  Accuracy: 86.96%\n"
     ]
    },
    {
     "name": "stderr",
     "output_type": "stream",
     "text": [
      " 96%|█████████▌| 48/50 [04:37<00:12,  6.26s/it]"
     ]
    },
    {
     "name": "stdout",
     "output_type": "stream",
     "text": [
      "ROUND:048 Global Accuracy: 90.41%\n",
      "ROUND:048     Global Loss: 0.3216\n",
      "####### ROUND 48 END #######\n",
      "\n",
      "Client 18  Accuracy: 98.85%\n",
      "Client 33  Accuracy: 95.08%\n",
      "Client 58  Accuracy: 95.12%\n",
      "Client 68  Accuracy: 93.06%\n",
      "Client 74  Accuracy: 97.56%\n",
      "Client 75  Accuracy: 96.45%\n",
      "Client 79  Accuracy: 95.45%\n",
      "Client 86  Accuracy: 91.01%\n",
      "Client 89  Accuracy: 91.55%\n",
      "Client 96  Accuracy: 92.64%\n"
     ]
    },
    {
     "name": "stderr",
     "output_type": "stream",
     "text": [
      " 98%|█████████▊| 49/50 [04:43<00:06,  6.23s/it]"
     ]
    },
    {
     "name": "stdout",
     "output_type": "stream",
     "text": [
      "ROUND:049 Global Accuracy: 90.76%\n",
      "ROUND:049     Global Loss: 0.3183\n",
      "####### ROUND 49 END #######\n",
      "\n",
      "Client 0   Accuracy: 97.14%\n",
      "Client 32  Accuracy: 94.97%\n",
      "Client 33  Accuracy: 94.26%\n",
      "Client 37  Accuracy: 92.94%\n",
      "Client 47  Accuracy: 96.00%\n",
      "Client 49  Accuracy: 100.00%\n",
      "Client 50  Accuracy: 91.30%\n",
      "Client 53  Accuracy: 91.89%\n",
      "Client 66  Accuracy: 90.72%\n",
      "Client 91  Accuracy: 90.67%\n"
     ]
    },
    {
     "name": "stderr",
     "output_type": "stream",
     "text": [
      "100%|██████████| 50/50 [04:49<00:00,  5.78s/it]"
     ]
    },
    {
     "name": "stdout",
     "output_type": "stream",
     "text": [
      "ROUND:050 Global Accuracy: 90.40%\n",
      "ROUND:050     Global Loss: 0.3274\n",
      "####### ROUND 50 END #######\n",
      "\n",
      "Experiment: Template|MLP|MNIST|SGD|0.01|0.0001|128|0|10|False|100|50|0.5|0.1|NaiveClient|FedAvg|0.25\n"
     ]
    },
    {
     "name": "stderr",
     "output_type": "stream",
     "text": [
      "\n",
      " 33%|███▎      | 33/100 [00:00<00:00, 326.74it/s]"
     ]
    },
    {
     "name": "stdout",
     "output_type": "stream",
     "text": [
      "Initializing 100 clients\n"
     ]
    },
    {
     "name": "stderr",
     "output_type": "stream",
     "text": [
      "100%|██████████| 100/100 [00:00<00:00, 327.16it/s]\n",
      "  0%|          | 0/50 [00:00<?, ?it/s]"
     ]
    },
    {
     "name": "stdout",
     "output_type": "stream",
     "text": [
      "Client 6   Accuracy: 34.38%\n",
      "Client 10  Accuracy: 65.96%\n",
      "Client 17  Accuracy: 34.38%\n",
      "Client 24  Accuracy: 35.19%\n",
      "Client 33  Accuracy: 63.93%\n",
      "Client 42  Accuracy: 51.67%\n",
      "Client 75  Accuracy: 70.92%\n",
      "Client 78  Accuracy: 80.28%\n",
      "Client 91  Accuracy: 49.33%\n",
      "Client 95  Accuracy: 34.12%\n"
     ]
    },
    {
     "name": "stderr",
     "output_type": "stream",
     "text": [
      "  2%|▏         | 1/50 [00:05<04:47,  5.87s/it]"
     ]
    },
    {
     "name": "stdout",
     "output_type": "stream",
     "text": [
      "ROUND:001 Global Accuracy: 40.71%\n",
      "ROUND:001     Global Loss: 2.0836\n",
      "####### ROUND 1 END #######\n",
      "\n",
      "Client 6   Accuracy: 56.25%\n",
      "Client 8   Accuracy: 74.83%\n",
      "Client 42  Accuracy: 65.00%\n",
      "Client 57  Accuracy: 67.50%\n",
      "Client 64  Accuracy: 67.67%\n",
      "Client 67  Accuracy: 63.41%\n",
      "Client 72  Accuracy: 66.25%\n",
      "Client 78  Accuracy: 83.10%\n",
      "Client 81  Accuracy: 81.55%\n",
      "Client 93  Accuracy: 50.94%\n"
     ]
    },
    {
     "name": "stderr",
     "output_type": "stream",
     "text": [
      "  4%|▍         | 2/50 [00:11<04:33,  5.70s/it]"
     ]
    },
    {
     "name": "stdout",
     "output_type": "stream",
     "text": [
      "ROUND:002 Global Accuracy: 64.28%\n",
      "ROUND:002     Global Loss: 1.6904\n",
      "####### ROUND 2 END #######\n",
      "\n",
      "Client 3   Accuracy: 86.51%\n",
      "Client 19  Accuracy: 67.57%\n",
      "Client 24  Accuracy: 75.93%\n",
      "Client 31  Accuracy: 86.18%\n",
      "Client 46  Accuracy: 80.17%\n",
      "Client 50  Accuracy: 83.48%\n",
      "Client 70  Accuracy: 81.82%\n",
      "Client 75  Accuracy: 83.69%\n",
      "Client 90  Accuracy: 84.54%\n",
      "Client 96  Accuracy: 85.28%\n"
     ]
    },
    {
     "name": "stderr",
     "output_type": "stream",
     "text": [
      "  6%|▌         | 3/50 [00:17<04:38,  5.93s/it]"
     ]
    },
    {
     "name": "stdout",
     "output_type": "stream",
     "text": [
      "ROUND:003 Global Accuracy: 76.90%\n",
      "ROUND:003     Global Loss: 1.2391\n",
      "####### ROUND 3 END #######\n",
      "\n",
      "Client 9   Accuracy: 89.73%\n",
      "Client 22  Accuracy: 78.69%\n",
      "Client 27  Accuracy: 81.63%\n",
      "Client 41  Accuracy: 80.36%\n",
      "Client 42  Accuracy: 85.00%\n",
      "Client 44  Accuracy: 77.08%\n",
      "Client 56  Accuracy: 78.67%\n",
      "Client 59  Accuracy: 77.97%\n",
      "Client 61  Accuracy: 91.80%\n",
      "Client 70  Accuracy: 86.36%\n"
     ]
    },
    {
     "name": "stderr",
     "output_type": "stream",
     "text": [
      "  8%|▊         | 4/50 [00:22<04:04,  5.32s/it]"
     ]
    },
    {
     "name": "stdout",
     "output_type": "stream",
     "text": [
      "ROUND:004 Global Accuracy: 79.11%\n",
      "ROUND:004     Global Loss: 0.9990\n",
      "####### ROUND 4 END #######\n",
      "\n",
      "Client 13  Accuracy: 92.14%\n",
      "Client 18  Accuracy: 95.40%\n",
      "Client 20  Accuracy: 87.08%\n",
      "Client 31  Accuracy: 87.80%\n",
      "Client 39  Accuracy: 85.87%\n",
      "Client 42  Accuracy: 85.00%\n",
      "Client 58  Accuracy: 91.46%\n",
      "Client 77  Accuracy: 86.89%\n",
      "Client 78  Accuracy: 87.32%\n",
      "Client 82  Accuracy: 88.76%\n"
     ]
    },
    {
     "name": "stderr",
     "output_type": "stream",
     "text": [
      " 10%|█         | 5/50 [00:28<04:22,  5.82s/it]"
     ]
    },
    {
     "name": "stdout",
     "output_type": "stream",
     "text": [
      "ROUND:005 Global Accuracy: 81.06%\n",
      "ROUND:005     Global Loss: 0.7947\n",
      "####### ROUND 5 END #######\n",
      "\n",
      "Client 11  Accuracy: 88.89%\n",
      "Client 19  Accuracy: 94.59%\n",
      "Client 24  Accuracy: 90.74%\n",
      "Client 32  Accuracy: 89.45%\n",
      "Client 33  Accuracy: 88.52%\n",
      "Client 46  Accuracy: 85.34%\n",
      "Client 61  Accuracy: 95.08%\n",
      "Client 66  Accuracy: 85.57%\n",
      "Client 82  Accuracy: 92.13%\n",
      "Client 99  Accuracy: 89.81%\n"
     ]
    },
    {
     "name": "stderr",
     "output_type": "stream",
     "text": [
      " 12%|█▏        | 6/50 [00:34<04:12,  5.74s/it]"
     ]
    },
    {
     "name": "stdout",
     "output_type": "stream",
     "text": [
      "ROUND:006 Global Accuracy: 84.56%\n",
      "ROUND:006     Global Loss: 0.6590\n",
      "####### ROUND 6 END #######\n",
      "\n",
      "Client 12  Accuracy: 90.48%\n",
      "Client 16  Accuracy: 91.23%\n",
      "Client 39  Accuracy: 90.22%\n",
      "Client 42  Accuracy: 86.67%\n",
      "Client 47  Accuracy: 92.00%\n",
      "Client 60  Accuracy: 88.00%\n",
      "Client 69  Accuracy: 90.35%\n",
      "Client 70  Accuracy: 92.42%\n",
      "Client 94  Accuracy: 82.61%\n",
      "Client 99  Accuracy: 89.81%\n"
     ]
    },
    {
     "name": "stderr",
     "output_type": "stream",
     "text": [
      " 14%|█▍        | 7/50 [00:39<03:55,  5.47s/it]"
     ]
    },
    {
     "name": "stdout",
     "output_type": "stream",
     "text": [
      "ROUND:007 Global Accuracy: 86.55%\n",
      "ROUND:007     Global Loss: 0.5885\n",
      "####### ROUND 7 END #######\n",
      "\n",
      "Client 2   Accuracy: 89.38%\n",
      "Client 12  Accuracy: 92.86%\n",
      "Client 19  Accuracy: 94.59%\n",
      "Client 47  Accuracy: 89.33%\n",
      "Client 55  Accuracy: 90.48%\n",
      "Client 69  Accuracy: 92.11%\n",
      "Client 75  Accuracy: 93.62%\n",
      "Client 79  Accuracy: 93.94%\n",
      "Client 97  Accuracy: 90.36%\n",
      "Client 99  Accuracy: 90.74%\n"
     ]
    },
    {
     "name": "stderr",
     "output_type": "stream",
     "text": [
      " 16%|█▌        | 8/50 [00:44<03:50,  5.49s/it]"
     ]
    },
    {
     "name": "stdout",
     "output_type": "stream",
     "text": [
      "ROUND:008 Global Accuracy: 86.34%\n",
      "ROUND:008     Global Loss: 0.5490\n",
      "####### ROUND 8 END #######\n",
      "\n",
      "Client 3   Accuracy: 94.44%\n",
      "Client 6   Accuracy: 92.19%\n",
      "Client 51  Accuracy: 90.91%\n",
      "Client 57  Accuracy: 92.50%\n",
      "Client 61  Accuracy: 96.72%\n",
      "Client 69  Accuracy: 91.23%\n",
      "Client 71  Accuracy: 88.43%\n",
      "Client 85  Accuracy: 96.43%\n",
      "Client 93  Accuracy: 88.68%\n",
      "Client 98  Accuracy: 92.50%\n"
     ]
    },
    {
     "name": "stderr",
     "output_type": "stream",
     "text": [
      " 18%|█▊        | 9/50 [00:49<03:33,  5.21s/it]"
     ]
    },
    {
     "name": "stdout",
     "output_type": "stream",
     "text": [
      "ROUND:009 Global Accuracy: 87.31%\n",
      "ROUND:009     Global Loss: 0.4930\n",
      "####### ROUND 9 END #######\n",
      "\n",
      "Client 5   Accuracy: 92.65%\n",
      "Client 9   Accuracy: 93.15%\n",
      "Client 15  Accuracy: 92.31%\n",
      "Client 22  Accuracy: 91.80%\n",
      "Client 55  Accuracy: 91.16%\n",
      "Client 70  Accuracy: 93.94%\n",
      "Client 79  Accuracy: 93.94%\n",
      "Client 88  Accuracy: 89.74%\n",
      "Client 91  Accuracy: 90.67%\n",
      "Client 93  Accuracy: 88.68%\n"
     ]
    },
    {
     "name": "stderr",
     "output_type": "stream",
     "text": [
      " 20%|██        | 10/50 [00:54<03:22,  5.07s/it]"
     ]
    },
    {
     "name": "stdout",
     "output_type": "stream",
     "text": [
      "ROUND:010 Global Accuracy: 88.22%\n",
      "ROUND:010     Global Loss: 0.4654\n",
      "####### ROUND 10 END #######\n",
      "\n",
      "Client 13  Accuracy: 97.14%\n",
      "Client 15  Accuracy: 92.31%\n",
      "Client 17  Accuracy: 90.62%\n",
      "Client 18  Accuracy: 98.85%\n",
      "Client 35  Accuracy: 95.40%\n",
      "Client 39  Accuracy: 92.39%\n",
      "Client 50  Accuracy: 89.57%\n",
      "Client 52  Accuracy: 92.46%\n",
      "Client 78  Accuracy: 89.20%\n",
      "Client 80  Accuracy: 89.36%\n"
     ]
    },
    {
     "name": "stderr",
     "output_type": "stream",
     "text": [
      " 22%|██▏       | 11/50 [01:00<03:31,  5.42s/it]"
     ]
    },
    {
     "name": "stdout",
     "output_type": "stream",
     "text": [
      "ROUND:011 Global Accuracy: 88.04%\n",
      "ROUND:011     Global Loss: 0.4468\n",
      "####### ROUND 11 END #######\n",
      "\n",
      "Client 4   Accuracy: 90.24%\n",
      "Client 15  Accuracy: 94.23%\n",
      "Client 41  Accuracy: 92.86%\n",
      "Client 62  Accuracy: 86.84%\n",
      "Client 66  Accuracy: 89.69%\n",
      "Client 73  Accuracy: 90.60%\n",
      "Client 76  Accuracy: 93.15%\n",
      "Client 81  Accuracy: 93.20%\n",
      "Client 85  Accuracy: 92.86%\n",
      "Client 94  Accuracy: 84.78%\n"
     ]
    },
    {
     "name": "stderr",
     "output_type": "stream",
     "text": [
      " 24%|██▍       | 12/50 [01:04<03:12,  5.08s/it]"
     ]
    },
    {
     "name": "stdout",
     "output_type": "stream",
     "text": [
      "ROUND:012 Global Accuracy: 88.14%\n",
      "ROUND:012     Global Loss: 0.4296\n",
      "####### ROUND 12 END #######\n",
      "\n",
      "Client 25  Accuracy: 91.38%\n",
      "Client 26  Accuracy: 93.65%\n",
      "Client 33  Accuracy: 93.44%\n",
      "Client 36  Accuracy: 94.06%\n",
      "Client 38  Accuracy: 94.94%\n",
      "Client 49  Accuracy: 97.44%\n",
      "Client 75  Accuracy: 95.74%\n",
      "Client 78  Accuracy: 89.67%\n",
      "Client 85  Accuracy: 92.86%\n",
      "Client 97  Accuracy: 91.57%\n"
     ]
    },
    {
     "name": "stderr",
     "output_type": "stream",
     "text": [
      " 26%|██▌       | 13/50 [01:10<03:19,  5.40s/it]"
     ]
    },
    {
     "name": "stdout",
     "output_type": "stream",
     "text": [
      "ROUND:013 Global Accuracy: 89.27%\n",
      "ROUND:013     Global Loss: 0.4043\n",
      "####### ROUND 13 END #######\n",
      "\n",
      "Client 4   Accuracy: 95.12%\n",
      "Client 6   Accuracy: 93.75%\n",
      "Client 12  Accuracy: 95.24%\n",
      "Client 36  Accuracy: 95.05%\n",
      "Client 39  Accuracy: 91.30%\n",
      "Client 48  Accuracy: 95.35%\n",
      "Client 55  Accuracy: 92.52%\n",
      "Client 60  Accuracy: 89.00%\n",
      "Client 61  Accuracy: 96.72%\n",
      "Client 83  Accuracy: 90.91%\n"
     ]
    },
    {
     "name": "stderr",
     "output_type": "stream",
     "text": [
      " 28%|██▊       | 14/50 [01:15<03:07,  5.22s/it]"
     ]
    },
    {
     "name": "stdout",
     "output_type": "stream",
     "text": [
      "ROUND:014 Global Accuracy: 89.20%\n",
      "ROUND:014     Global Loss: 0.3924\n",
      "####### ROUND 14 END #######\n",
      "\n",
      "Client 2   Accuracy: 92.04%\n",
      "Client 6   Accuracy: 93.75%\n",
      "Client 13  Accuracy: 97.86%\n",
      "Client 14  Accuracy: 91.67%\n",
      "Client 18  Accuracy: 97.70%\n",
      "Client 22  Accuracy: 91.80%\n",
      "Client 41  Accuracy: 92.86%\n",
      "Client 47  Accuracy: 93.33%\n",
      "Client 82  Accuracy: 93.26%\n",
      "Client 87  Accuracy: 95.45%\n"
     ]
    },
    {
     "name": "stderr",
     "output_type": "stream",
     "text": [
      " 30%|███       | 15/50 [01:21<03:06,  5.32s/it]"
     ]
    },
    {
     "name": "stdout",
     "output_type": "stream",
     "text": [
      "ROUND:015 Global Accuracy: 89.03%\n",
      "ROUND:015     Global Loss: 0.3835\n",
      "####### ROUND 15 END #######\n",
      "\n",
      "Client 0   Accuracy: 97.14%\n",
      "Client 16  Accuracy: 94.74%\n",
      "Client 32  Accuracy: 92.96%\n",
      "Client 36  Accuracy: 94.06%\n",
      "Client 37  Accuracy: 92.94%\n",
      "Client 68  Accuracy: 93.06%\n",
      "Client 70  Accuracy: 96.97%\n",
      "Client 78  Accuracy: 92.49%\n",
      "Client 87  Accuracy: 95.45%\n",
      "Client 96  Accuracy: 91.41%\n"
     ]
    },
    {
     "name": "stderr",
     "output_type": "stream",
     "text": [
      " 32%|███▏      | 16/50 [01:28<03:23,  6.00s/it]"
     ]
    },
    {
     "name": "stdout",
     "output_type": "stream",
     "text": [
      "ROUND:016 Global Accuracy: 89.09%\n",
      "ROUND:016     Global Loss: 0.3874\n",
      "####### ROUND 16 END #######\n",
      "\n",
      "Client 3   Accuracy: 95.24%\n",
      "Client 13  Accuracy: 97.14%\n",
      "Client 35  Accuracy: 96.55%\n",
      "Client 38  Accuracy: 94.30%\n",
      "Client 48  Accuracy: 95.35%\n",
      "Client 51  Accuracy: 90.91%\n",
      "Client 55  Accuracy: 93.20%\n",
      "Client 56  Accuracy: 94.67%\n",
      "Client 61  Accuracy: 96.72%\n",
      "Client 68  Accuracy: 93.06%\n"
     ]
    },
    {
     "name": "stderr",
     "output_type": "stream",
     "text": [
      " 34%|███▍      | 17/50 [01:34<03:16,  5.96s/it]"
     ]
    },
    {
     "name": "stdout",
     "output_type": "stream",
     "text": [
      "ROUND:017 Global Accuracy: 89.65%\n",
      "ROUND:017     Global Loss: 0.3599\n",
      "####### ROUND 17 END #######\n",
      "\n",
      "Client 1   Accuracy: 91.89%\n",
      "Client 33  Accuracy: 94.26%\n",
      "Client 38  Accuracy: 94.30%\n",
      "Client 45  Accuracy: 93.15%\n",
      "Client 69  Accuracy: 92.11%\n",
      "Client 71  Accuracy: 90.08%\n",
      "Client 74  Accuracy: 95.12%\n",
      "Client 85  Accuracy: 96.43%\n",
      "Client 86  Accuracy: 91.01%\n",
      "Client 95  Accuracy: 89.41%\n"
     ]
    },
    {
     "name": "stderr",
     "output_type": "stream",
     "text": [
      " 36%|███▌      | 18/50 [01:40<03:07,  5.84s/it]"
     ]
    },
    {
     "name": "stdout",
     "output_type": "stream",
     "text": [
      "ROUND:018 Global Accuracy: 90.00%\n",
      "ROUND:018     Global Loss: 0.3522\n",
      "####### ROUND 18 END #######\n",
      "\n",
      "Client 4   Accuracy: 92.68%\n",
      "Client 7   Accuracy: 89.53%\n",
      "Client 34  Accuracy: 95.10%\n",
      "Client 38  Accuracy: 94.30%\n",
      "Client 58  Accuracy: 95.12%\n",
      "Client 63  Accuracy: 87.62%\n",
      "Client 64  Accuracy: 87.97%\n",
      "Client 81  Accuracy: 95.15%\n",
      "Client 85  Accuracy: 96.43%\n",
      "Client 97  Accuracy: 89.16%\n"
     ]
    },
    {
     "name": "stderr",
     "output_type": "stream",
     "text": [
      " 38%|███▊      | 19/50 [01:45<03:00,  5.82s/it]"
     ]
    },
    {
     "name": "stdout",
     "output_type": "stream",
     "text": [
      "ROUND:019 Global Accuracy: 90.00%\n",
      "ROUND:019     Global Loss: 0.3475\n",
      "####### ROUND 19 END #######\n",
      "\n",
      "Client 12  Accuracy: 95.24%\n",
      "Client 20  Accuracy: 91.39%\n",
      "Client 29  Accuracy: 92.38%\n",
      "Client 31  Accuracy: 92.68%\n",
      "Client 37  Accuracy: 92.94%\n",
      "Client 48  Accuracy: 95.35%\n",
      "Client 67  Accuracy: 92.68%\n",
      "Client 68  Accuracy: 93.06%\n",
      "Client 78  Accuracy: 91.55%\n",
      "Client 81  Accuracy: 94.17%\n"
     ]
    },
    {
     "name": "stderr",
     "output_type": "stream",
     "text": [
      " 40%|████      | 20/50 [01:52<02:57,  5.91s/it]"
     ]
    },
    {
     "name": "stdout",
     "output_type": "stream",
     "text": [
      "ROUND:020 Global Accuracy: 90.71%\n",
      "ROUND:020     Global Loss: 0.3378\n",
      "####### ROUND 20 END #######\n",
      "\n",
      "Client 6   Accuracy: 95.31%\n",
      "Client 8   Accuracy: 92.72%\n",
      "Client 16  Accuracy: 95.61%\n",
      "Client 18  Accuracy: 97.70%\n",
      "Client 36  Accuracy: 95.05%\n",
      "Client 57  Accuracy: 95.00%\n",
      "Client 66  Accuracy: 90.72%\n",
      "Client 68  Accuracy: 93.06%\n",
      "Client 88  Accuracy: 92.31%\n",
      "Client 95  Accuracy: 92.94%\n"
     ]
    },
    {
     "name": "stderr",
     "output_type": "stream",
     "text": [
      " 42%|████▏     | 21/50 [01:57<02:44,  5.67s/it]"
     ]
    },
    {
     "name": "stdout",
     "output_type": "stream",
     "text": [
      "ROUND:021 Global Accuracy: 90.44%\n",
      "ROUND:021     Global Loss: 0.3375\n",
      "####### ROUND 21 END #######\n",
      "\n",
      "Client 14  Accuracy: 91.67%\n",
      "Client 30  Accuracy: 92.50%\n",
      "Client 37  Accuracy: 92.94%\n",
      "Client 44  Accuracy: 89.58%\n",
      "Client 45  Accuracy: 93.15%\n",
      "Client 47  Accuracy: 93.33%\n",
      "Client 49  Accuracy: 100.00%\n",
      "Client 55  Accuracy: 93.20%\n",
      "Client 64  Accuracy: 87.97%\n",
      "Client 91  Accuracy: 90.67%\n"
     ]
    },
    {
     "name": "stderr",
     "output_type": "stream",
     "text": [
      " 44%|████▍     | 22/50 [02:01<02:30,  5.39s/it]"
     ]
    },
    {
     "name": "stdout",
     "output_type": "stream",
     "text": [
      "ROUND:022 Global Accuracy: 90.23%\n",
      "ROUND:022     Global Loss: 0.3324\n",
      "####### ROUND 22 END #######\n",
      "\n",
      "Client 6   Accuracy: 95.31%\n",
      "Client 7   Accuracy: 89.53%\n",
      "Client 26  Accuracy: 98.41%\n",
      "Client 38  Accuracy: 94.94%\n",
      "Client 43  Accuracy: 92.41%\n",
      "Client 44  Accuracy: 89.58%\n",
      "Client 72  Accuracy: 95.00%\n",
      "Client 73  Accuracy: 95.73%\n",
      "Client 78  Accuracy: 92.02%\n",
      "Client 89  Accuracy: 91.55%\n"
     ]
    },
    {
     "name": "stderr",
     "output_type": "stream",
     "text": [
      " 46%|████▌     | 23/50 [02:07<02:28,  5.51s/it]"
     ]
    },
    {
     "name": "stdout",
     "output_type": "stream",
     "text": [
      "ROUND:023 Global Accuracy: 90.64%\n",
      "ROUND:023     Global Loss: 0.3297\n",
      "####### ROUND 23 END #######\n",
      "\n",
      "Client 3   Accuracy: 94.44%\n",
      "Client 4   Accuracy: 92.68%\n",
      "Client 16  Accuracy: 96.49%\n",
      "Client 18  Accuracy: 100.00%\n",
      "Client 21  Accuracy: 88.61%\n",
      "Client 31  Accuracy: 91.87%\n",
      "Client 47  Accuracy: 94.67%\n",
      "Client 71  Accuracy: 90.91%\n",
      "Client 84  Accuracy: 100.00%\n",
      "Client 87  Accuracy: 95.45%\n"
     ]
    },
    {
     "name": "stderr",
     "output_type": "stream",
     "text": [
      " 48%|████▊     | 24/50 [02:13<02:26,  5.64s/it]"
     ]
    },
    {
     "name": "stdout",
     "output_type": "stream",
     "text": [
      "ROUND:024 Global Accuracy: 90.82%\n",
      "ROUND:024     Global Loss: 0.3204\n",
      "####### ROUND 24 END #######\n",
      "\n",
      "Client 0   Accuracy: 98.57%\n",
      "Client 2   Accuracy: 93.81%\n",
      "Client 3   Accuracy: 94.44%\n",
      "Client 12  Accuracy: 95.24%\n",
      "Client 36  Accuracy: 96.04%\n",
      "Client 39  Accuracy: 92.39%\n",
      "Client 44  Accuracy: 91.67%\n",
      "Client 46  Accuracy: 92.24%\n",
      "Client 77  Accuracy: 96.72%\n",
      "Client 98  Accuracy: 92.50%\n"
     ]
    },
    {
     "name": "stderr",
     "output_type": "stream",
     "text": [
      " 50%|█████     | 25/50 [02:18<02:16,  5.45s/it]"
     ]
    },
    {
     "name": "stdout",
     "output_type": "stream",
     "text": [
      "ROUND:025 Global Accuracy: 91.04%\n",
      "ROUND:025     Global Loss: 0.3125\n",
      "####### ROUND 25 END #######\n",
      "\n",
      "Client 18  Accuracy: 100.00%\n",
      "Client 32  Accuracy: 94.97%\n",
      "Client 42  Accuracy: 88.33%\n",
      "Client 53  Accuracy: 92.79%\n",
      "Client 58  Accuracy: 95.12%\n",
      "Client 59  Accuracy: 88.14%\n",
      "Client 70  Accuracy: 96.97%\n",
      "Client 74  Accuracy: 97.56%\n",
      "Client 76  Accuracy: 94.52%\n",
      "Client 97  Accuracy: 90.36%\n"
     ]
    },
    {
     "name": "stderr",
     "output_type": "stream",
     "text": [
      " 52%|█████▏    | 26/50 [02:23<02:10,  5.42s/it]"
     ]
    },
    {
     "name": "stdout",
     "output_type": "stream",
     "text": [
      "ROUND:026 Global Accuracy: 90.66%\n",
      "ROUND:026     Global Loss: 0.3197\n",
      "####### ROUND 26 END #######\n",
      "\n",
      "Client 0   Accuracy: 98.57%\n",
      "Client 16  Accuracy: 96.49%\n",
      "Client 45  Accuracy: 94.52%\n",
      "Client 46  Accuracy: 93.97%\n",
      "Client 51  Accuracy: 90.91%\n",
      "Client 60  Accuracy: 91.00%\n",
      "Client 63  Accuracy: 90.48%\n",
      "Client 74  Accuracy: 96.34%\n",
      "Client 97  Accuracy: 91.57%\n",
      "Client 99  Accuracy: 93.52%\n"
     ]
    },
    {
     "name": "stderr",
     "output_type": "stream",
     "text": [
      " 54%|█████▍    | 27/50 [02:29<02:04,  5.40s/it]"
     ]
    },
    {
     "name": "stdout",
     "output_type": "stream",
     "text": [
      "ROUND:027 Global Accuracy: 90.86%\n",
      "ROUND:027     Global Loss: 0.3097\n",
      "####### ROUND 27 END #######\n",
      "\n",
      "Client 14  Accuracy: 91.67%\n",
      "Client 16  Accuracy: 96.49%\n",
      "Client 18  Accuracy: 98.85%\n",
      "Client 41  Accuracy: 92.86%\n",
      "Client 49  Accuracy: 97.44%\n",
      "Client 63  Accuracy: 90.48%\n",
      "Client 70  Accuracy: 96.97%\n",
      "Client 76  Accuracy: 94.52%\n",
      "Client 85  Accuracy: 96.43%\n",
      "Client 86  Accuracy: 91.01%\n"
     ]
    },
    {
     "name": "stderr",
     "output_type": "stream",
     "text": [
      " 56%|█████▌    | 28/50 [02:33<01:51,  5.06s/it]"
     ]
    },
    {
     "name": "stdout",
     "output_type": "stream",
     "text": [
      "ROUND:028 Global Accuracy: 91.03%\n",
      "ROUND:028     Global Loss: 0.3065\n",
      "####### ROUND 28 END #######\n",
      "\n",
      "Client 0   Accuracy: 97.14%\n",
      "Client 7   Accuracy: 89.53%\n",
      "Client 10  Accuracy: 91.49%\n",
      "Client 36  Accuracy: 95.05%\n",
      "Client 41  Accuracy: 92.86%\n",
      "Client 47  Accuracy: 94.67%\n",
      "Client 51  Accuracy: 90.91%\n",
      "Client 83  Accuracy: 95.45%\n",
      "Client 85  Accuracy: 96.43%\n",
      "Client 86  Accuracy: 89.89%\n"
     ]
    },
    {
     "name": "stderr",
     "output_type": "stream",
     "text": [
      " 58%|█████▊    | 29/50 [02:38<01:43,  4.92s/it]"
     ]
    },
    {
     "name": "stdout",
     "output_type": "stream",
     "text": [
      "ROUND:029 Global Accuracy: 91.06%\n",
      "ROUND:029     Global Loss: 0.3112\n",
      "####### ROUND 29 END #######\n",
      "\n",
      "Client 4   Accuracy: 95.12%\n",
      "Client 5   Accuracy: 92.65%\n",
      "Client 11  Accuracy: 91.11%\n",
      "Client 14  Accuracy: 91.67%\n",
      "Client 46  Accuracy: 93.97%\n",
      "Client 67  Accuracy: 95.12%\n",
      "Client 69  Accuracy: 92.11%\n",
      "Client 91  Accuracy: 90.67%\n",
      "Client 93  Accuracy: 90.57%\n",
      "Client 98  Accuracy: 93.75%\n"
     ]
    },
    {
     "name": "stderr",
     "output_type": "stream",
     "text": [
      " 60%|██████    | 30/50 [02:42<01:33,  4.69s/it]"
     ]
    },
    {
     "name": "stdout",
     "output_type": "stream",
     "text": [
      "ROUND:030 Global Accuracy: 91.24%\n",
      "ROUND:030     Global Loss: 0.3045\n",
      "####### ROUND 30 END #######\n",
      "\n",
      "Client 5   Accuracy: 95.59%\n",
      "Client 28  Accuracy: 96.25%\n",
      "Client 43  Accuracy: 92.41%\n",
      "Client 44  Accuracy: 93.75%\n",
      "Client 65  Accuracy: 96.15%\n",
      "Client 73  Accuracy: 93.16%\n",
      "Client 83  Accuracy: 96.59%\n",
      "Client 92  Accuracy: 93.94%\n",
      "Client 95  Accuracy: 92.94%\n",
      "Client 98  Accuracy: 93.75%\n"
     ]
    },
    {
     "name": "stderr",
     "output_type": "stream",
     "text": [
      " 62%|██████▏   | 31/50 [02:47<01:30,  4.77s/it]"
     ]
    },
    {
     "name": "stdout",
     "output_type": "stream",
     "text": [
      "ROUND:031 Global Accuracy: 91.44%\n",
      "ROUND:031     Global Loss: 0.2960\n",
      "####### ROUND 31 END #######\n",
      "\n",
      "Client 18  Accuracy: 100.00%\n",
      "Client 21  Accuracy: 89.87%\n",
      "Client 27  Accuracy: 97.96%\n",
      "Client 28  Accuracy: 96.25%\n",
      "Client 52  Accuracy: 93.97%\n",
      "Client 53  Accuracy: 92.79%\n",
      "Client 57  Accuracy: 95.00%\n",
      "Client 59  Accuracy: 93.22%\n",
      "Client 88  Accuracy: 94.87%\n",
      "Client 97  Accuracy: 91.57%\n"
     ]
    },
    {
     "name": "stderr",
     "output_type": "stream",
     "text": [
      " 64%|██████▍   | 32/50 [02:52<01:27,  4.85s/it]"
     ]
    },
    {
     "name": "stdout",
     "output_type": "stream",
     "text": [
      "ROUND:032 Global Accuracy: 91.30%\n",
      "ROUND:032     Global Loss: 0.2991\n",
      "####### ROUND 32 END #######\n",
      "\n",
      "Client 14  Accuracy: 91.67%\n",
      "Client 38  Accuracy: 95.57%\n",
      "Client 45  Accuracy: 94.52%\n",
      "Client 48  Accuracy: 95.35%\n",
      "Client 50  Accuracy: 91.30%\n",
      "Client 55  Accuracy: 94.56%\n",
      "Client 62  Accuracy: 89.47%\n",
      "Client 75  Accuracy: 97.16%\n",
      "Client 76  Accuracy: 94.52%\n",
      "Client 86  Accuracy: 91.01%\n"
     ]
    },
    {
     "name": "stderr",
     "output_type": "stream",
     "text": [
      " 66%|██████▌   | 33/50 [02:58<01:26,  5.10s/it]"
     ]
    },
    {
     "name": "stdout",
     "output_type": "stream",
     "text": [
      "ROUND:033 Global Accuracy: 91.29%\n",
      "ROUND:033     Global Loss: 0.2968\n",
      "####### ROUND 33 END #######\n",
      "\n",
      "Client 26  Accuracy: 96.83%\n",
      "Client 32  Accuracy: 95.98%\n",
      "Client 35  Accuracy: 96.55%\n",
      "Client 42  Accuracy: 86.67%\n",
      "Client 46  Accuracy: 95.69%\n",
      "Client 47  Accuracy: 96.00%\n",
      "Client 65  Accuracy: 96.15%\n",
      "Client 79  Accuracy: 96.97%\n",
      "Client 87  Accuracy: 95.45%\n",
      "Client 94  Accuracy: 86.96%\n"
     ]
    },
    {
     "name": "stderr",
     "output_type": "stream",
     "text": [
      " 68%|██████▊   | 34/50 [03:03<01:24,  5.27s/it]"
     ]
    },
    {
     "name": "stdout",
     "output_type": "stream",
     "text": [
      "ROUND:034 Global Accuracy: 91.28%\n",
      "ROUND:034     Global Loss: 0.2947\n",
      "####### ROUND 34 END #######\n",
      "\n",
      "Client 0   Accuracy: 97.14%\n",
      "Client 6   Accuracy: 95.31%\n",
      "Client 13  Accuracy: 97.14%\n",
      "Client 19  Accuracy: 94.59%\n",
      "Client 52  Accuracy: 94.47%\n",
      "Client 58  Accuracy: 96.34%\n",
      "Client 69  Accuracy: 92.11%\n",
      "Client 75  Accuracy: 96.45%\n",
      "Client 90  Accuracy: 97.94%\n",
      "Client 98  Accuracy: 95.00%\n"
     ]
    },
    {
     "name": "stderr",
     "output_type": "stream",
     "text": [
      " 70%|███████   | 35/50 [03:09<01:22,  5.53s/it]"
     ]
    },
    {
     "name": "stdout",
     "output_type": "stream",
     "text": [
      "ROUND:035 Global Accuracy: 91.79%\n",
      "ROUND:035     Global Loss: 0.2820\n",
      "####### ROUND 35 END #######\n",
      "\n",
      "Client 18  Accuracy: 98.85%\n",
      "Client 23  Accuracy: 93.38%\n",
      "Client 26  Accuracy: 98.41%\n",
      "Client 30  Accuracy: 92.50%\n",
      "Client 42  Accuracy: 86.67%\n",
      "Client 44  Accuracy: 93.75%\n",
      "Client 47  Accuracy: 96.00%\n",
      "Client 49  Accuracy: 100.00%\n",
      "Client 63  Accuracy: 90.48%\n",
      "Client 79  Accuracy: 96.97%\n"
     ]
    },
    {
     "name": "stderr",
     "output_type": "stream",
     "text": [
      " 72%|███████▏  | 36/50 [03:14<01:13,  5.22s/it]"
     ]
    },
    {
     "name": "stdout",
     "output_type": "stream",
     "text": [
      "ROUND:036 Global Accuracy: 91.79%\n",
      "ROUND:036     Global Loss: 0.2791\n",
      "####### ROUND 36 END #######\n",
      "\n",
      "Client 14  Accuracy: 91.67%\n",
      "Client 29  Accuracy: 93.33%\n",
      "Client 30  Accuracy: 92.50%\n",
      "Client 38  Accuracy: 94.94%\n",
      "Client 40  Accuracy: 95.28%\n",
      "Client 55  Accuracy: 95.24%\n",
      "Client 65  Accuracy: 96.15%\n",
      "Client 77  Accuracy: 98.36%\n",
      "Client 87  Accuracy: 95.45%\n",
      "Client 93  Accuracy: 94.34%\n"
     ]
    },
    {
     "name": "stderr",
     "output_type": "stream",
     "text": [
      " 74%|███████▍  | 37/50 [03:20<01:10,  5.39s/it]"
     ]
    },
    {
     "name": "stdout",
     "output_type": "stream",
     "text": [
      "ROUND:037 Global Accuracy: 91.79%\n",
      "ROUND:037     Global Loss: 0.2766\n",
      "####### ROUND 37 END #######\n",
      "\n",
      "Client 15  Accuracy: 94.23%\n",
      "Client 29  Accuracy: 93.33%\n",
      "Client 36  Accuracy: 95.05%\n",
      "Client 38  Accuracy: 95.57%\n",
      "Client 42  Accuracy: 86.67%\n",
      "Client 51  Accuracy: 92.73%\n",
      "Client 52  Accuracy: 93.97%\n",
      "Client 69  Accuracy: 92.11%\n",
      "Client 74  Accuracy: 97.56%\n",
      "Client 87  Accuracy: 95.45%\n"
     ]
    },
    {
     "name": "stderr",
     "output_type": "stream",
     "text": [
      " 76%|███████▌  | 38/50 [03:27<01:10,  5.89s/it]"
     ]
    },
    {
     "name": "stdout",
     "output_type": "stream",
     "text": [
      "ROUND:038 Global Accuracy: 91.83%\n",
      "ROUND:038     Global Loss: 0.2817\n",
      "####### ROUND 38 END #######\n",
      "\n",
      "Client 5   Accuracy: 95.59%\n",
      "Client 7   Accuracy: 90.70%\n",
      "Client 32  Accuracy: 95.48%\n",
      "Client 52  Accuracy: 93.97%\n",
      "Client 54  Accuracy: 93.55%\n",
      "Client 73  Accuracy: 94.87%\n",
      "Client 74  Accuracy: 96.34%\n",
      "Client 77  Accuracy: 98.36%\n",
      "Client 89  Accuracy: 92.96%\n",
      "Client 90  Accuracy: 96.91%\n"
     ]
    },
    {
     "name": "stderr",
     "output_type": "stream",
     "text": [
      " 78%|███████▊  | 39/50 [03:33<01:06,  6.01s/it]"
     ]
    },
    {
     "name": "stdout",
     "output_type": "stream",
     "text": [
      "ROUND:039 Global Accuracy: 91.64%\n",
      "ROUND:039     Global Loss: 0.2749\n",
      "####### ROUND 39 END #######\n",
      "\n",
      "Client 0   Accuracy: 98.57%\n",
      "Client 3   Accuracy: 96.03%\n",
      "Client 7   Accuracy: 90.70%\n",
      "Client 9   Accuracy: 95.89%\n",
      "Client 27  Accuracy: 95.92%\n",
      "Client 31  Accuracy: 92.68%\n",
      "Client 38  Accuracy: 94.94%\n",
      "Client 43  Accuracy: 92.41%\n",
      "Client 54  Accuracy: 93.55%\n",
      "Client 95  Accuracy: 91.76%\n"
     ]
    },
    {
     "name": "stderr",
     "output_type": "stream",
     "text": [
      " 80%|████████  | 40/50 [03:39<00:59,  5.98s/it]"
     ]
    },
    {
     "name": "stdout",
     "output_type": "stream",
     "text": [
      "ROUND:040 Global Accuracy: 91.90%\n",
      "ROUND:040     Global Loss: 0.2783\n",
      "####### ROUND 40 END #######\n",
      "\n",
      "Client 8   Accuracy: 93.38%\n",
      "Client 22  Accuracy: 91.80%\n",
      "Client 34  Accuracy: 97.20%\n",
      "Client 54  Accuracy: 93.55%\n",
      "Client 58  Accuracy: 97.56%\n",
      "Client 68  Accuracy: 93.06%\n",
      "Client 73  Accuracy: 94.87%\n",
      "Client 76  Accuracy: 95.89%\n",
      "Client 91  Accuracy: 90.67%\n",
      "Client 94  Accuracy: 89.13%\n"
     ]
    },
    {
     "name": "stderr",
     "output_type": "stream",
     "text": [
      " 82%|████████▏ | 41/50 [03:44<00:51,  5.76s/it]"
     ]
    },
    {
     "name": "stdout",
     "output_type": "stream",
     "text": [
      "ROUND:041 Global Accuracy: 91.63%\n",
      "ROUND:041     Global Loss: 0.2793\n",
      "####### ROUND 41 END #######\n",
      "\n",
      "Client 7   Accuracy: 89.53%\n",
      "Client 9   Accuracy: 95.21%\n",
      "Client 14  Accuracy: 91.67%\n",
      "Client 27  Accuracy: 95.92%\n",
      "Client 31  Accuracy: 92.68%\n",
      "Client 32  Accuracy: 95.98%\n",
      "Client 52  Accuracy: 93.97%\n",
      "Client 54  Accuracy: 93.55%\n",
      "Client 61  Accuracy: 96.72%\n",
      "Client 76  Accuracy: 95.89%\n"
     ]
    },
    {
     "name": "stderr",
     "output_type": "stream",
     "text": [
      " 84%|████████▍ | 42/50 [03:50<00:46,  5.83s/it]"
     ]
    },
    {
     "name": "stdout",
     "output_type": "stream",
     "text": [
      "ROUND:042 Global Accuracy: 91.92%\n",
      "ROUND:042     Global Loss: 0.2674\n",
      "####### ROUND 42 END #######\n",
      "\n",
      "Client 7   Accuracy: 89.53%\n",
      "Client 11  Accuracy: 93.33%\n",
      "Client 17  Accuracy: 90.62%\n",
      "Client 18  Accuracy: 98.85%\n",
      "Client 28  Accuracy: 96.25%\n",
      "Client 39  Accuracy: 93.48%\n",
      "Client 65  Accuracy: 96.15%\n",
      "Client 70  Accuracy: 95.45%\n",
      "Client 73  Accuracy: 94.87%\n",
      "Client 86  Accuracy: 88.76%\n"
     ]
    },
    {
     "name": "stderr",
     "output_type": "stream",
     "text": [
      " 86%|████████▌ | 43/50 [03:55<00:38,  5.56s/it]"
     ]
    },
    {
     "name": "stdout",
     "output_type": "stream",
     "text": [
      "ROUND:043 Global Accuracy: 92.08%\n",
      "ROUND:043     Global Loss: 0.2680\n",
      "####### ROUND 43 END #######\n",
      "\n",
      "Client 0   Accuracy: 98.57%\n",
      "Client 17  Accuracy: 90.62%\n",
      "Client 27  Accuracy: 95.92%\n",
      "Client 29  Accuracy: 93.33%\n",
      "Client 33  Accuracy: 95.08%\n",
      "Client 34  Accuracy: 97.20%\n",
      "Client 41  Accuracy: 91.07%\n",
      "Client 53  Accuracy: 92.79%\n",
      "Client 68  Accuracy: 94.44%\n",
      "Client 80  Accuracy: 93.62%\n"
     ]
    },
    {
     "name": "stderr",
     "output_type": "stream",
     "text": [
      " 88%|████████▊ | 44/50 [04:00<00:32,  5.45s/it]"
     ]
    },
    {
     "name": "stdout",
     "output_type": "stream",
     "text": [
      "ROUND:044 Global Accuracy: 91.70%\n",
      "ROUND:044     Global Loss: 0.2707\n",
      "####### ROUND 44 END #######\n",
      "\n",
      "Client 0   Accuracy: 98.57%\n",
      "Client 4   Accuracy: 95.12%\n",
      "Client 50  Accuracy: 92.17%\n",
      "Client 53  Accuracy: 92.79%\n",
      "Client 67  Accuracy: 97.56%\n",
      "Client 68  Accuracy: 94.44%\n",
      "Client 70  Accuracy: 96.97%\n",
      "Client 76  Accuracy: 94.52%\n",
      "Client 84  Accuracy: 100.00%\n",
      "Client 91  Accuracy: 90.67%\n"
     ]
    },
    {
     "name": "stderr",
     "output_type": "stream",
     "text": [
      " 90%|█████████ | 45/50 [04:05<00:25,  5.19s/it]"
     ]
    },
    {
     "name": "stdout",
     "output_type": "stream",
     "text": [
      "ROUND:045 Global Accuracy: 92.24%\n",
      "ROUND:045     Global Loss: 0.2653\n",
      "####### ROUND 45 END #######\n",
      "\n",
      "Client 10  Accuracy: 91.49%\n",
      "Client 11  Accuracy: 93.33%\n",
      "Client 12  Accuracy: 95.24%\n",
      "Client 14  Accuracy: 91.67%\n",
      "Client 27  Accuracy: 97.96%\n",
      "Client 40  Accuracy: 95.28%\n",
      "Client 46  Accuracy: 96.55%\n",
      "Client 48  Accuracy: 95.35%\n",
      "Client 64  Accuracy: 90.98%\n",
      "Client 68  Accuracy: 93.06%\n"
     ]
    },
    {
     "name": "stderr",
     "output_type": "stream",
     "text": [
      " 92%|█████████▏| 46/50 [04:09<00:19,  5.00s/it]"
     ]
    },
    {
     "name": "stdout",
     "output_type": "stream",
     "text": [
      "ROUND:046 Global Accuracy: 92.30%\n",
      "ROUND:046     Global Loss: 0.2585\n",
      "####### ROUND 46 END #######\n",
      "\n",
      "Client 9   Accuracy: 96.58%\n",
      "Client 13  Accuracy: 97.14%\n",
      "Client 15  Accuracy: 94.23%\n",
      "Client 18  Accuracy: 98.85%\n",
      "Client 28  Accuracy: 96.25%\n",
      "Client 35  Accuracy: 96.55%\n",
      "Client 40  Accuracy: 95.28%\n",
      "Client 71  Accuracy: 92.56%\n",
      "Client 93  Accuracy: 94.34%\n",
      "Client 97  Accuracy: 92.77%\n"
     ]
    },
    {
     "name": "stderr",
     "output_type": "stream",
     "text": [
      " 94%|█████████▍| 47/50 [04:15<00:15,  5.26s/it]"
     ]
    },
    {
     "name": "stdout",
     "output_type": "stream",
     "text": [
      "ROUND:047 Global Accuracy: 92.36%\n",
      "ROUND:047     Global Loss: 0.2585\n",
      "####### ROUND 47 END #######\n",
      "\n",
      "Client 4   Accuracy: 95.12%\n",
      "Client 13  Accuracy: 97.14%\n",
      "Client 20  Accuracy: 92.82%\n",
      "Client 28  Accuracy: 95.00%\n",
      "Client 39  Accuracy: 93.48%\n",
      "Client 44  Accuracy: 100.00%\n",
      "Client 49  Accuracy: 100.00%\n",
      "Client 55  Accuracy: 95.24%\n",
      "Client 84  Accuracy: 100.00%\n",
      "Client 94  Accuracy: 89.13%\n"
     ]
    },
    {
     "name": "stderr",
     "output_type": "stream",
     "text": [
      " 96%|█████████▌| 48/50 [04:21<00:10,  5.40s/it]"
     ]
    },
    {
     "name": "stdout",
     "output_type": "stream",
     "text": [
      "ROUND:048 Global Accuracy: 91.99%\n",
      "ROUND:048     Global Loss: 0.2619\n",
      "####### ROUND 48 END #######\n",
      "\n",
      "Client 18  Accuracy: 98.85%\n",
      "Client 33  Accuracy: 95.08%\n",
      "Client 58  Accuracy: 97.56%\n",
      "Client 68  Accuracy: 94.44%\n",
      "Client 74  Accuracy: 97.56%\n",
      "Client 75  Accuracy: 96.45%\n",
      "Client 79  Accuracy: 96.97%\n",
      "Client 86  Accuracy: 91.01%\n",
      "Client 89  Accuracy: 92.96%\n",
      "Client 96  Accuracy: 94.48%\n"
     ]
    },
    {
     "name": "stderr",
     "output_type": "stream",
     "text": [
      " 98%|█████████▊| 49/50 [04:27<00:05,  5.59s/it]"
     ]
    },
    {
     "name": "stdout",
     "output_type": "stream",
     "text": [
      "ROUND:049 Global Accuracy: 92.37%\n",
      "ROUND:049     Global Loss: 0.2573\n",
      "####### ROUND 49 END #######\n",
      "\n",
      "Client 0   Accuracy: 98.57%\n",
      "Client 32  Accuracy: 95.98%\n",
      "Client 33  Accuracy: 94.26%\n",
      "Client 37  Accuracy: 92.94%\n",
      "Client 47  Accuracy: 97.33%\n",
      "Client 49  Accuracy: 100.00%\n",
      "Client 50  Accuracy: 92.17%\n",
      "Client 53  Accuracy: 93.69%\n",
      "Client 66  Accuracy: 92.78%\n",
      "Client 91  Accuracy: 90.67%\n"
     ]
    },
    {
     "name": "stderr",
     "output_type": "stream",
     "text": [
      "100%|██████████| 50/50 [04:33<00:00,  5.47s/it]"
     ]
    },
    {
     "name": "stdout",
     "output_type": "stream",
     "text": [
      "ROUND:050 Global Accuracy: 92.02%\n",
      "ROUND:050     Global Loss: 0.2655\n",
      "####### ROUND 50 END #######\n",
      "\n"
     ]
    },
    {
     "name": "stderr",
     "output_type": "stream",
     "text": [
      "\n"
     ]
    }
   ],
   "source": [
    "args = parse_args()\n",
    "temperatures = [4.0, 2.0, 1.0, 0.5, 0.25]\n",
    "acc_traces, loss_traces = [], []\n",
    "args.rounds = 50 # reduce the number of rounds for faster experiments\n",
    "for temperature in temperatures:\n",
    "    args.T = temperature\n",
    "    torch.manual_seed(args.seed)\n",
    "    np.random.seed(args.seed)\n",
    "\n",
    "    server = BaseServer(args)\n",
    "    acc_trace, loss_trace = server.run()\n",
    "    acc_traces.append(acc_trace)\n",
    "    loss_traces.append(loss_trace)"
   ]
  },
  {
   "cell_type": "markdown",
   "metadata": {},
   "source": [
    "# Visualize Result"
   ]
  },
  {
   "cell_type": "code",
   "execution_count": 4,
   "metadata": {},
   "outputs": [
    {
     "data": {
      "image/png": "[encoded data removed]",
      "text/plain": [
       "<Figure size 720x360 with 2 Axes>"
      ]
     },
     "metadata": {
      "needs_background": "light"
     },
     "output_type": "display_data"
    }
   ],
   "source": [
    "fig, axes = plt.subplots(1, 2, figsize=(10, 5))\n",
    "for i, temperature in enumerate(temperatures):\n",
    "    axes[0].plot(loss_traces[i], label=f'T={temperature}')\n",
    "    axes[1].plot(acc_traces[i], label =f'T={temperature}')\n",
    "axes[0].set_xlabel('Round')\n",
    "axes[0].set_ylabel('Loss')\n",
    "axes[0].set_title('Loss')\n",
    "axes[0].legend()\n",
    "axes[1].set_xlabel('Round')\n",
    "axes[1].set_ylabel('Accuracy')\n",
    "axes[1].set_title('Accuracy')\n",
    "axes[1].legend()\n",
    "plt.tight_layout()\n",
    "plt.show()"
   ]
  }
 ],
 "metadata": {
  "kernelspec": {
   "display_name": "Python 3",
   "language": "python",
   "name": "python3"
  },
  "language_info": {
   "codemirror_mode": {
    "name": "ipython",
    "version": 3
   },
   "file_extension": ".py",
   "mimetype": "text/x-python",
   "name": "python",
   "nbconvert_exporter": "python",
   "pygments_lexer": "ipython3",
   "version": "3.8.10"
  }
 },
 "nbformat": 4,
 "nbformat_minor": 2
}
